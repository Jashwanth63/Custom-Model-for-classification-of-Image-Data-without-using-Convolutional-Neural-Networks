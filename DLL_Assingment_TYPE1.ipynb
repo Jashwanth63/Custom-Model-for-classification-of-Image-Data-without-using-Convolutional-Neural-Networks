{
  "nbformat": 4,
  "nbformat_minor": 0,
  "metadata": {
    "colab": {
      "name": "DLL_Assingment_TYPE1.ipynb",
      "provenance": [],
      "collapsed_sections": [],
      "machine_shape": "hm",
      "authorship_tag": "ABX9TyNT1jgw0ui+WbDmSkZPTMIK",
      "include_colab_link": true
    },
    "kernelspec": {
      "name": "python3",
      "display_name": "Python 3"
    },
    "language_info": {
      "name": "python"
    },
    "accelerator": "GPU",
    "widgets": {
      "application/vnd.jupyter.widget-state+json": {
        "fb4a4f2ae29e4355ba2c21d9be72457f": {
          "model_module": "@jupyter-widgets/controls",
          "model_name": "HBoxModel",
          "model_module_version": "1.5.0",
          "state": {
            "_dom_classes": [],
            "_model_module": "@jupyter-widgets/controls",
            "_model_module_version": "1.5.0",
            "_model_name": "HBoxModel",
            "_view_count": null,
            "_view_module": "@jupyter-widgets/controls",
            "_view_module_version": "1.5.0",
            "_view_name": "HBoxView",
            "box_style": "",
            "children": [
              "IPY_MODEL_bada8668ccaa419db74fd3cee75728e2",
              "IPY_MODEL_f2e3e93c245844b5adec780286502a2f",
              "IPY_MODEL_870e54b7bb544cd5a5fe0c0c513059df"
            ],
            "layout": "IPY_MODEL_7ab5f694e187468dbb03593e305d43e7"
          }
        },
        "bada8668ccaa419db74fd3cee75728e2": {
          "model_module": "@jupyter-widgets/controls",
          "model_name": "HTMLModel",
          "model_module_version": "1.5.0",
          "state": {
            "_dom_classes": [],
            "_model_module": "@jupyter-widgets/controls",
            "_model_module_version": "1.5.0",
            "_model_name": "HTMLModel",
            "_view_count": null,
            "_view_module": "@jupyter-widgets/controls",
            "_view_module_version": "1.5.0",
            "_view_name": "HTMLView",
            "description": "",
            "description_tooltip": null,
            "layout": "IPY_MODEL_f0d00cac69c04c278594aa904737b1b7",
            "placeholder": "​",
            "style": "IPY_MODEL_f5513c1d00f2406ca9e0b802af0ed24f",
            "value": ""
          }
        },
        "f2e3e93c245844b5adec780286502a2f": {
          "model_module": "@jupyter-widgets/controls",
          "model_name": "FloatProgressModel",
          "model_module_version": "1.5.0",
          "state": {
            "_dom_classes": [],
            "_model_module": "@jupyter-widgets/controls",
            "_model_module_version": "1.5.0",
            "_model_name": "FloatProgressModel",
            "_view_count": null,
            "_view_module": "@jupyter-widgets/controls",
            "_view_module_version": "1.5.0",
            "_view_name": "ProgressView",
            "bar_style": "success",
            "description": "",
            "description_tooltip": null,
            "layout": "IPY_MODEL_1f7c89a9a5ff47e58827b841320dd8e2",
            "max": 26421880,
            "min": 0,
            "orientation": "horizontal",
            "style": "IPY_MODEL_91a6db0455eb44aabcd7cb5c06b0e70c",
            "value": 26421880
          }
        },
        "870e54b7bb544cd5a5fe0c0c513059df": {
          "model_module": "@jupyter-widgets/controls",
          "model_name": "HTMLModel",
          "model_module_version": "1.5.0",
          "state": {
            "_dom_classes": [],
            "_model_module": "@jupyter-widgets/controls",
            "_model_module_version": "1.5.0",
            "_model_name": "HTMLModel",
            "_view_count": null,
            "_view_module": "@jupyter-widgets/controls",
            "_view_module_version": "1.5.0",
            "_view_name": "HTMLView",
            "description": "",
            "description_tooltip": null,
            "layout": "IPY_MODEL_373a7baf6164455b81f2f0fb60b990ff",
            "placeholder": "​",
            "style": "IPY_MODEL_f7610023467d456380efe8d3a1faabfc",
            "value": " 26422272/? [00:02&lt;00:00, 17722973.82it/s]"
          }
        },
        "7ab5f694e187468dbb03593e305d43e7": {
          "model_module": "@jupyter-widgets/base",
          "model_name": "LayoutModel",
          "model_module_version": "1.2.0",
          "state": {
            "_model_module": "@jupyter-widgets/base",
            "_model_module_version": "1.2.0",
            "_model_name": "LayoutModel",
            "_view_count": null,
            "_view_module": "@jupyter-widgets/base",
            "_view_module_version": "1.2.0",
            "_view_name": "LayoutView",
            "align_content": null,
            "align_items": null,
            "align_self": null,
            "border": null,
            "bottom": null,
            "display": null,
            "flex": null,
            "flex_flow": null,
            "grid_area": null,
            "grid_auto_columns": null,
            "grid_auto_flow": null,
            "grid_auto_rows": null,
            "grid_column": null,
            "grid_gap": null,
            "grid_row": null,
            "grid_template_areas": null,
            "grid_template_columns": null,
            "grid_template_rows": null,
            "height": null,
            "justify_content": null,
            "justify_items": null,
            "left": null,
            "margin": null,
            "max_height": null,
            "max_width": null,
            "min_height": null,
            "min_width": null,
            "object_fit": null,
            "object_position": null,
            "order": null,
            "overflow": null,
            "overflow_x": null,
            "overflow_y": null,
            "padding": null,
            "right": null,
            "top": null,
            "visibility": null,
            "width": null
          }
        },
        "f0d00cac69c04c278594aa904737b1b7": {
          "model_module": "@jupyter-widgets/base",
          "model_name": "LayoutModel",
          "model_module_version": "1.2.0",
          "state": {
            "_model_module": "@jupyter-widgets/base",
            "_model_module_version": "1.2.0",
            "_model_name": "LayoutModel",
            "_view_count": null,
            "_view_module": "@jupyter-widgets/base",
            "_view_module_version": "1.2.0",
            "_view_name": "LayoutView",
            "align_content": null,
            "align_items": null,
            "align_self": null,
            "border": null,
            "bottom": null,
            "display": null,
            "flex": null,
            "flex_flow": null,
            "grid_area": null,
            "grid_auto_columns": null,
            "grid_auto_flow": null,
            "grid_auto_rows": null,
            "grid_column": null,
            "grid_gap": null,
            "grid_row": null,
            "grid_template_areas": null,
            "grid_template_columns": null,
            "grid_template_rows": null,
            "height": null,
            "justify_content": null,
            "justify_items": null,
            "left": null,
            "margin": null,
            "max_height": null,
            "max_width": null,
            "min_height": null,
            "min_width": null,
            "object_fit": null,
            "object_position": null,
            "order": null,
            "overflow": null,
            "overflow_x": null,
            "overflow_y": null,
            "padding": null,
            "right": null,
            "top": null,
            "visibility": null,
            "width": null
          }
        },
        "f5513c1d00f2406ca9e0b802af0ed24f": {
          "model_module": "@jupyter-widgets/controls",
          "model_name": "DescriptionStyleModel",
          "model_module_version": "1.5.0",
          "state": {
            "_model_module": "@jupyter-widgets/controls",
            "_model_module_version": "1.5.0",
            "_model_name": "DescriptionStyleModel",
            "_view_count": null,
            "_view_module": "@jupyter-widgets/base",
            "_view_module_version": "1.2.0",
            "_view_name": "StyleView",
            "description_width": ""
          }
        },
        "1f7c89a9a5ff47e58827b841320dd8e2": {
          "model_module": "@jupyter-widgets/base",
          "model_name": "LayoutModel",
          "model_module_version": "1.2.0",
          "state": {
            "_model_module": "@jupyter-widgets/base",
            "_model_module_version": "1.2.0",
            "_model_name": "LayoutModel",
            "_view_count": null,
            "_view_module": "@jupyter-widgets/base",
            "_view_module_version": "1.2.0",
            "_view_name": "LayoutView",
            "align_content": null,
            "align_items": null,
            "align_self": null,
            "border": null,
            "bottom": null,
            "display": null,
            "flex": null,
            "flex_flow": null,
            "grid_area": null,
            "grid_auto_columns": null,
            "grid_auto_flow": null,
            "grid_auto_rows": null,
            "grid_column": null,
            "grid_gap": null,
            "grid_row": null,
            "grid_template_areas": null,
            "grid_template_columns": null,
            "grid_template_rows": null,
            "height": null,
            "justify_content": null,
            "justify_items": null,
            "left": null,
            "margin": null,
            "max_height": null,
            "max_width": null,
            "min_height": null,
            "min_width": null,
            "object_fit": null,
            "object_position": null,
            "order": null,
            "overflow": null,
            "overflow_x": null,
            "overflow_y": null,
            "padding": null,
            "right": null,
            "top": null,
            "visibility": null,
            "width": null
          }
        },
        "91a6db0455eb44aabcd7cb5c06b0e70c": {
          "model_module": "@jupyter-widgets/controls",
          "model_name": "ProgressStyleModel",
          "model_module_version": "1.5.0",
          "state": {
            "_model_module": "@jupyter-widgets/controls",
            "_model_module_version": "1.5.0",
            "_model_name": "ProgressStyleModel",
            "_view_count": null,
            "_view_module": "@jupyter-widgets/base",
            "_view_module_version": "1.2.0",
            "_view_name": "StyleView",
            "bar_color": null,
            "description_width": ""
          }
        },
        "373a7baf6164455b81f2f0fb60b990ff": {
          "model_module": "@jupyter-widgets/base",
          "model_name": "LayoutModel",
          "model_module_version": "1.2.0",
          "state": {
            "_model_module": "@jupyter-widgets/base",
            "_model_module_version": "1.2.0",
            "_model_name": "LayoutModel",
            "_view_count": null,
            "_view_module": "@jupyter-widgets/base",
            "_view_module_version": "1.2.0",
            "_view_name": "LayoutView",
            "align_content": null,
            "align_items": null,
            "align_self": null,
            "border": null,
            "bottom": null,
            "display": null,
            "flex": null,
            "flex_flow": null,
            "grid_area": null,
            "grid_auto_columns": null,
            "grid_auto_flow": null,
            "grid_auto_rows": null,
            "grid_column": null,
            "grid_gap": null,
            "grid_row": null,
            "grid_template_areas": null,
            "grid_template_columns": null,
            "grid_template_rows": null,
            "height": null,
            "justify_content": null,
            "justify_items": null,
            "left": null,
            "margin": null,
            "max_height": null,
            "max_width": null,
            "min_height": null,
            "min_width": null,
            "object_fit": null,
            "object_position": null,
            "order": null,
            "overflow": null,
            "overflow_x": null,
            "overflow_y": null,
            "padding": null,
            "right": null,
            "top": null,
            "visibility": null,
            "width": null
          }
        },
        "f7610023467d456380efe8d3a1faabfc": {
          "model_module": "@jupyter-widgets/controls",
          "model_name": "DescriptionStyleModel",
          "model_module_version": "1.5.0",
          "state": {
            "_model_module": "@jupyter-widgets/controls",
            "_model_module_version": "1.5.0",
            "_model_name": "DescriptionStyleModel",
            "_view_count": null,
            "_view_module": "@jupyter-widgets/base",
            "_view_module_version": "1.2.0",
            "_view_name": "StyleView",
            "description_width": ""
          }
        },
        "a4acfaae5958497f9d8c618d99a92778": {
          "model_module": "@jupyter-widgets/controls",
          "model_name": "HBoxModel",
          "model_module_version": "1.5.0",
          "state": {
            "_dom_classes": [],
            "_model_module": "@jupyter-widgets/controls",
            "_model_module_version": "1.5.0",
            "_model_name": "HBoxModel",
            "_view_count": null,
            "_view_module": "@jupyter-widgets/controls",
            "_view_module_version": "1.5.0",
            "_view_name": "HBoxView",
            "box_style": "",
            "children": [
              "IPY_MODEL_3fece110e2044a0cad034424ffc0bb76",
              "IPY_MODEL_a7ea6f336eda42c78d4f0824bf14c3fe",
              "IPY_MODEL_a7a4f23f30594de4a6f2932ab999efc7"
            ],
            "layout": "IPY_MODEL_f7ed415abdbf435e9ce3ed81043c72cc"
          }
        },
        "3fece110e2044a0cad034424ffc0bb76": {
          "model_module": "@jupyter-widgets/controls",
          "model_name": "HTMLModel",
          "model_module_version": "1.5.0",
          "state": {
            "_dom_classes": [],
            "_model_module": "@jupyter-widgets/controls",
            "_model_module_version": "1.5.0",
            "_model_name": "HTMLModel",
            "_view_count": null,
            "_view_module": "@jupyter-widgets/controls",
            "_view_module_version": "1.5.0",
            "_view_name": "HTMLView",
            "description": "",
            "description_tooltip": null,
            "layout": "IPY_MODEL_c965ae2433934608b62a5668358df42c",
            "placeholder": "​",
            "style": "IPY_MODEL_496babf647124078a6df9319467b933b",
            "value": ""
          }
        },
        "a7ea6f336eda42c78d4f0824bf14c3fe": {
          "model_module": "@jupyter-widgets/controls",
          "model_name": "FloatProgressModel",
          "model_module_version": "1.5.0",
          "state": {
            "_dom_classes": [],
            "_model_module": "@jupyter-widgets/controls",
            "_model_module_version": "1.5.0",
            "_model_name": "FloatProgressModel",
            "_view_count": null,
            "_view_module": "@jupyter-widgets/controls",
            "_view_module_version": "1.5.0",
            "_view_name": "ProgressView",
            "bar_style": "success",
            "description": "",
            "description_tooltip": null,
            "layout": "IPY_MODEL_646bc28b96af4371a2e3d7bcdd720eeb",
            "max": 29515,
            "min": 0,
            "orientation": "horizontal",
            "style": "IPY_MODEL_5f440cf0366a40bf8407a4defe43c22b",
            "value": 29515
          }
        },
        "a7a4f23f30594de4a6f2932ab999efc7": {
          "model_module": "@jupyter-widgets/controls",
          "model_name": "HTMLModel",
          "model_module_version": "1.5.0",
          "state": {
            "_dom_classes": [],
            "_model_module": "@jupyter-widgets/controls",
            "_model_module_version": "1.5.0",
            "_model_name": "HTMLModel",
            "_view_count": null,
            "_view_module": "@jupyter-widgets/controls",
            "_view_module_version": "1.5.0",
            "_view_name": "HTMLView",
            "description": "",
            "description_tooltip": null,
            "layout": "IPY_MODEL_cf89cc1db2364e6b8172c6e2d46daa91",
            "placeholder": "​",
            "style": "IPY_MODEL_23049e6447b841fe8c72b07472d3c325",
            "value": " 29696/? [00:00&lt;00:00, 103080.16it/s]"
          }
        },
        "f7ed415abdbf435e9ce3ed81043c72cc": {
          "model_module": "@jupyter-widgets/base",
          "model_name": "LayoutModel",
          "model_module_version": "1.2.0",
          "state": {
            "_model_module": "@jupyter-widgets/base",
            "_model_module_version": "1.2.0",
            "_model_name": "LayoutModel",
            "_view_count": null,
            "_view_module": "@jupyter-widgets/base",
            "_view_module_version": "1.2.0",
            "_view_name": "LayoutView",
            "align_content": null,
            "align_items": null,
            "align_self": null,
            "border": null,
            "bottom": null,
            "display": null,
            "flex": null,
            "flex_flow": null,
            "grid_area": null,
            "grid_auto_columns": null,
            "grid_auto_flow": null,
            "grid_auto_rows": null,
            "grid_column": null,
            "grid_gap": null,
            "grid_row": null,
            "grid_template_areas": null,
            "grid_template_columns": null,
            "grid_template_rows": null,
            "height": null,
            "justify_content": null,
            "justify_items": null,
            "left": null,
            "margin": null,
            "max_height": null,
            "max_width": null,
            "min_height": null,
            "min_width": null,
            "object_fit": null,
            "object_position": null,
            "order": null,
            "overflow": null,
            "overflow_x": null,
            "overflow_y": null,
            "padding": null,
            "right": null,
            "top": null,
            "visibility": null,
            "width": null
          }
        },
        "c965ae2433934608b62a5668358df42c": {
          "model_module": "@jupyter-widgets/base",
          "model_name": "LayoutModel",
          "model_module_version": "1.2.0",
          "state": {
            "_model_module": "@jupyter-widgets/base",
            "_model_module_version": "1.2.0",
            "_model_name": "LayoutModel",
            "_view_count": null,
            "_view_module": "@jupyter-widgets/base",
            "_view_module_version": "1.2.0",
            "_view_name": "LayoutView",
            "align_content": null,
            "align_items": null,
            "align_self": null,
            "border": null,
            "bottom": null,
            "display": null,
            "flex": null,
            "flex_flow": null,
            "grid_area": null,
            "grid_auto_columns": null,
            "grid_auto_flow": null,
            "grid_auto_rows": null,
            "grid_column": null,
            "grid_gap": null,
            "grid_row": null,
            "grid_template_areas": null,
            "grid_template_columns": null,
            "grid_template_rows": null,
            "height": null,
            "justify_content": null,
            "justify_items": null,
            "left": null,
            "margin": null,
            "max_height": null,
            "max_width": null,
            "min_height": null,
            "min_width": null,
            "object_fit": null,
            "object_position": null,
            "order": null,
            "overflow": null,
            "overflow_x": null,
            "overflow_y": null,
            "padding": null,
            "right": null,
            "top": null,
            "visibility": null,
            "width": null
          }
        },
        "496babf647124078a6df9319467b933b": {
          "model_module": "@jupyter-widgets/controls",
          "model_name": "DescriptionStyleModel",
          "model_module_version": "1.5.0",
          "state": {
            "_model_module": "@jupyter-widgets/controls",
            "_model_module_version": "1.5.0",
            "_model_name": "DescriptionStyleModel",
            "_view_count": null,
            "_view_module": "@jupyter-widgets/base",
            "_view_module_version": "1.2.0",
            "_view_name": "StyleView",
            "description_width": ""
          }
        },
        "646bc28b96af4371a2e3d7bcdd720eeb": {
          "model_module": "@jupyter-widgets/base",
          "model_name": "LayoutModel",
          "model_module_version": "1.2.0",
          "state": {
            "_model_module": "@jupyter-widgets/base",
            "_model_module_version": "1.2.0",
            "_model_name": "LayoutModel",
            "_view_count": null,
            "_view_module": "@jupyter-widgets/base",
            "_view_module_version": "1.2.0",
            "_view_name": "LayoutView",
            "align_content": null,
            "align_items": null,
            "align_self": null,
            "border": null,
            "bottom": null,
            "display": null,
            "flex": null,
            "flex_flow": null,
            "grid_area": null,
            "grid_auto_columns": null,
            "grid_auto_flow": null,
            "grid_auto_rows": null,
            "grid_column": null,
            "grid_gap": null,
            "grid_row": null,
            "grid_template_areas": null,
            "grid_template_columns": null,
            "grid_template_rows": null,
            "height": null,
            "justify_content": null,
            "justify_items": null,
            "left": null,
            "margin": null,
            "max_height": null,
            "max_width": null,
            "min_height": null,
            "min_width": null,
            "object_fit": null,
            "object_position": null,
            "order": null,
            "overflow": null,
            "overflow_x": null,
            "overflow_y": null,
            "padding": null,
            "right": null,
            "top": null,
            "visibility": null,
            "width": null
          }
        },
        "5f440cf0366a40bf8407a4defe43c22b": {
          "model_module": "@jupyter-widgets/controls",
          "model_name": "ProgressStyleModel",
          "model_module_version": "1.5.0",
          "state": {
            "_model_module": "@jupyter-widgets/controls",
            "_model_module_version": "1.5.0",
            "_model_name": "ProgressStyleModel",
            "_view_count": null,
            "_view_module": "@jupyter-widgets/base",
            "_view_module_version": "1.2.0",
            "_view_name": "StyleView",
            "bar_color": null,
            "description_width": ""
          }
        },
        "cf89cc1db2364e6b8172c6e2d46daa91": {
          "model_module": "@jupyter-widgets/base",
          "model_name": "LayoutModel",
          "model_module_version": "1.2.0",
          "state": {
            "_model_module": "@jupyter-widgets/base",
            "_model_module_version": "1.2.0",
            "_model_name": "LayoutModel",
            "_view_count": null,
            "_view_module": "@jupyter-widgets/base",
            "_view_module_version": "1.2.0",
            "_view_name": "LayoutView",
            "align_content": null,
            "align_items": null,
            "align_self": null,
            "border": null,
            "bottom": null,
            "display": null,
            "flex": null,
            "flex_flow": null,
            "grid_area": null,
            "grid_auto_columns": null,
            "grid_auto_flow": null,
            "grid_auto_rows": null,
            "grid_column": null,
            "grid_gap": null,
            "grid_row": null,
            "grid_template_areas": null,
            "grid_template_columns": null,
            "grid_template_rows": null,
            "height": null,
            "justify_content": null,
            "justify_items": null,
            "left": null,
            "margin": null,
            "max_height": null,
            "max_width": null,
            "min_height": null,
            "min_width": null,
            "object_fit": null,
            "object_position": null,
            "order": null,
            "overflow": null,
            "overflow_x": null,
            "overflow_y": null,
            "padding": null,
            "right": null,
            "top": null,
            "visibility": null,
            "width": null
          }
        },
        "23049e6447b841fe8c72b07472d3c325": {
          "model_module": "@jupyter-widgets/controls",
          "model_name": "DescriptionStyleModel",
          "model_module_version": "1.5.0",
          "state": {
            "_model_module": "@jupyter-widgets/controls",
            "_model_module_version": "1.5.0",
            "_model_name": "DescriptionStyleModel",
            "_view_count": null,
            "_view_module": "@jupyter-widgets/base",
            "_view_module_version": "1.2.0",
            "_view_name": "StyleView",
            "description_width": ""
          }
        },
        "ea5088a5f71c4f718b6c3f6754151ecc": {
          "model_module": "@jupyter-widgets/controls",
          "model_name": "HBoxModel",
          "model_module_version": "1.5.0",
          "state": {
            "_dom_classes": [],
            "_model_module": "@jupyter-widgets/controls",
            "_model_module_version": "1.5.0",
            "_model_name": "HBoxModel",
            "_view_count": null,
            "_view_module": "@jupyter-widgets/controls",
            "_view_module_version": "1.5.0",
            "_view_name": "HBoxView",
            "box_style": "",
            "children": [
              "IPY_MODEL_060866983b944524bbd9af86d06567ef",
              "IPY_MODEL_09f4fae7543c4ab5bd041f72da4e4acf",
              "IPY_MODEL_c50ebbaf4f644dc7ad9d15c2487b3651"
            ],
            "layout": "IPY_MODEL_93744841f7d04f9dacf53ab5c4fcc363"
          }
        },
        "060866983b944524bbd9af86d06567ef": {
          "model_module": "@jupyter-widgets/controls",
          "model_name": "HTMLModel",
          "model_module_version": "1.5.0",
          "state": {
            "_dom_classes": [],
            "_model_module": "@jupyter-widgets/controls",
            "_model_module_version": "1.5.0",
            "_model_name": "HTMLModel",
            "_view_count": null,
            "_view_module": "@jupyter-widgets/controls",
            "_view_module_version": "1.5.0",
            "_view_name": "HTMLView",
            "description": "",
            "description_tooltip": null,
            "layout": "IPY_MODEL_fc1996cd6bfa4b0ab39812be6345a84b",
            "placeholder": "​",
            "style": "IPY_MODEL_cccb7b0e1b974389ba59600e287afa86",
            "value": ""
          }
        },
        "09f4fae7543c4ab5bd041f72da4e4acf": {
          "model_module": "@jupyter-widgets/controls",
          "model_name": "FloatProgressModel",
          "model_module_version": "1.5.0",
          "state": {
            "_dom_classes": [],
            "_model_module": "@jupyter-widgets/controls",
            "_model_module_version": "1.5.0",
            "_model_name": "FloatProgressModel",
            "_view_count": null,
            "_view_module": "@jupyter-widgets/controls",
            "_view_module_version": "1.5.0",
            "_view_name": "ProgressView",
            "bar_style": "success",
            "description": "",
            "description_tooltip": null,
            "layout": "IPY_MODEL_001e9bca03bb4524a50b1f4b60f1fb93",
            "max": 4422102,
            "min": 0,
            "orientation": "horizontal",
            "style": "IPY_MODEL_bc5e29d01213407f9b7747da8840fb2e",
            "value": 4422102
          }
        },
        "c50ebbaf4f644dc7ad9d15c2487b3651": {
          "model_module": "@jupyter-widgets/controls",
          "model_name": "HTMLModel",
          "model_module_version": "1.5.0",
          "state": {
            "_dom_classes": [],
            "_model_module": "@jupyter-widgets/controls",
            "_model_module_version": "1.5.0",
            "_model_name": "HTMLModel",
            "_view_count": null,
            "_view_module": "@jupyter-widgets/controls",
            "_view_module_version": "1.5.0",
            "_view_name": "HTMLView",
            "description": "",
            "description_tooltip": null,
            "layout": "IPY_MODEL_d32987a3df7b4a4da93f69f122ab1f96",
            "placeholder": "​",
            "style": "IPY_MODEL_deb962d27f2f44f28781bd6bb6087448",
            "value": " 4422656/? [00:01&lt;00:00, 6823287.48it/s]"
          }
        },
        "93744841f7d04f9dacf53ab5c4fcc363": {
          "model_module": "@jupyter-widgets/base",
          "model_name": "LayoutModel",
          "model_module_version": "1.2.0",
          "state": {
            "_model_module": "@jupyter-widgets/base",
            "_model_module_version": "1.2.0",
            "_model_name": "LayoutModel",
            "_view_count": null,
            "_view_module": "@jupyter-widgets/base",
            "_view_module_version": "1.2.0",
            "_view_name": "LayoutView",
            "align_content": null,
            "align_items": null,
            "align_self": null,
            "border": null,
            "bottom": null,
            "display": null,
            "flex": null,
            "flex_flow": null,
            "grid_area": null,
            "grid_auto_columns": null,
            "grid_auto_flow": null,
            "grid_auto_rows": null,
            "grid_column": null,
            "grid_gap": null,
            "grid_row": null,
            "grid_template_areas": null,
            "grid_template_columns": null,
            "grid_template_rows": null,
            "height": null,
            "justify_content": null,
            "justify_items": null,
            "left": null,
            "margin": null,
            "max_height": null,
            "max_width": null,
            "min_height": null,
            "min_width": null,
            "object_fit": null,
            "object_position": null,
            "order": null,
            "overflow": null,
            "overflow_x": null,
            "overflow_y": null,
            "padding": null,
            "right": null,
            "top": null,
            "visibility": null,
            "width": null
          }
        },
        "fc1996cd6bfa4b0ab39812be6345a84b": {
          "model_module": "@jupyter-widgets/base",
          "model_name": "LayoutModel",
          "model_module_version": "1.2.0",
          "state": {
            "_model_module": "@jupyter-widgets/base",
            "_model_module_version": "1.2.0",
            "_model_name": "LayoutModel",
            "_view_count": null,
            "_view_module": "@jupyter-widgets/base",
            "_view_module_version": "1.2.0",
            "_view_name": "LayoutView",
            "align_content": null,
            "align_items": null,
            "align_self": null,
            "border": null,
            "bottom": null,
            "display": null,
            "flex": null,
            "flex_flow": null,
            "grid_area": null,
            "grid_auto_columns": null,
            "grid_auto_flow": null,
            "grid_auto_rows": null,
            "grid_column": null,
            "grid_gap": null,
            "grid_row": null,
            "grid_template_areas": null,
            "grid_template_columns": null,
            "grid_template_rows": null,
            "height": null,
            "justify_content": null,
            "justify_items": null,
            "left": null,
            "margin": null,
            "max_height": null,
            "max_width": null,
            "min_height": null,
            "min_width": null,
            "object_fit": null,
            "object_position": null,
            "order": null,
            "overflow": null,
            "overflow_x": null,
            "overflow_y": null,
            "padding": null,
            "right": null,
            "top": null,
            "visibility": null,
            "width": null
          }
        },
        "cccb7b0e1b974389ba59600e287afa86": {
          "model_module": "@jupyter-widgets/controls",
          "model_name": "DescriptionStyleModel",
          "model_module_version": "1.5.0",
          "state": {
            "_model_module": "@jupyter-widgets/controls",
            "_model_module_version": "1.5.0",
            "_model_name": "DescriptionStyleModel",
            "_view_count": null,
            "_view_module": "@jupyter-widgets/base",
            "_view_module_version": "1.2.0",
            "_view_name": "StyleView",
            "description_width": ""
          }
        },
        "001e9bca03bb4524a50b1f4b60f1fb93": {
          "model_module": "@jupyter-widgets/base",
          "model_name": "LayoutModel",
          "model_module_version": "1.2.0",
          "state": {
            "_model_module": "@jupyter-widgets/base",
            "_model_module_version": "1.2.0",
            "_model_name": "LayoutModel",
            "_view_count": null,
            "_view_module": "@jupyter-widgets/base",
            "_view_module_version": "1.2.0",
            "_view_name": "LayoutView",
            "align_content": null,
            "align_items": null,
            "align_self": null,
            "border": null,
            "bottom": null,
            "display": null,
            "flex": null,
            "flex_flow": null,
            "grid_area": null,
            "grid_auto_columns": null,
            "grid_auto_flow": null,
            "grid_auto_rows": null,
            "grid_column": null,
            "grid_gap": null,
            "grid_row": null,
            "grid_template_areas": null,
            "grid_template_columns": null,
            "grid_template_rows": null,
            "height": null,
            "justify_content": null,
            "justify_items": null,
            "left": null,
            "margin": null,
            "max_height": null,
            "max_width": null,
            "min_height": null,
            "min_width": null,
            "object_fit": null,
            "object_position": null,
            "order": null,
            "overflow": null,
            "overflow_x": null,
            "overflow_y": null,
            "padding": null,
            "right": null,
            "top": null,
            "visibility": null,
            "width": null
          }
        },
        "bc5e29d01213407f9b7747da8840fb2e": {
          "model_module": "@jupyter-widgets/controls",
          "model_name": "ProgressStyleModel",
          "model_module_version": "1.5.0",
          "state": {
            "_model_module": "@jupyter-widgets/controls",
            "_model_module_version": "1.5.0",
            "_model_name": "ProgressStyleModel",
            "_view_count": null,
            "_view_module": "@jupyter-widgets/base",
            "_view_module_version": "1.2.0",
            "_view_name": "StyleView",
            "bar_color": null,
            "description_width": ""
          }
        },
        "d32987a3df7b4a4da93f69f122ab1f96": {
          "model_module": "@jupyter-widgets/base",
          "model_name": "LayoutModel",
          "model_module_version": "1.2.0",
          "state": {
            "_model_module": "@jupyter-widgets/base",
            "_model_module_version": "1.2.0",
            "_model_name": "LayoutModel",
            "_view_count": null,
            "_view_module": "@jupyter-widgets/base",
            "_view_module_version": "1.2.0",
            "_view_name": "LayoutView",
            "align_content": null,
            "align_items": null,
            "align_self": null,
            "border": null,
            "bottom": null,
            "display": null,
            "flex": null,
            "flex_flow": null,
            "grid_area": null,
            "grid_auto_columns": null,
            "grid_auto_flow": null,
            "grid_auto_rows": null,
            "grid_column": null,
            "grid_gap": null,
            "grid_row": null,
            "grid_template_areas": null,
            "grid_template_columns": null,
            "grid_template_rows": null,
            "height": null,
            "justify_content": null,
            "justify_items": null,
            "left": null,
            "margin": null,
            "max_height": null,
            "max_width": null,
            "min_height": null,
            "min_width": null,
            "object_fit": null,
            "object_position": null,
            "order": null,
            "overflow": null,
            "overflow_x": null,
            "overflow_y": null,
            "padding": null,
            "right": null,
            "top": null,
            "visibility": null,
            "width": null
          }
        },
        "deb962d27f2f44f28781bd6bb6087448": {
          "model_module": "@jupyter-widgets/controls",
          "model_name": "DescriptionStyleModel",
          "model_module_version": "1.5.0",
          "state": {
            "_model_module": "@jupyter-widgets/controls",
            "_model_module_version": "1.5.0",
            "_model_name": "DescriptionStyleModel",
            "_view_count": null,
            "_view_module": "@jupyter-widgets/base",
            "_view_module_version": "1.2.0",
            "_view_name": "StyleView",
            "description_width": ""
          }
        },
        "40ecd0168a9c4e5baf43710718f8be88": {
          "model_module": "@jupyter-widgets/controls",
          "model_name": "HBoxModel",
          "model_module_version": "1.5.0",
          "state": {
            "_dom_classes": [],
            "_model_module": "@jupyter-widgets/controls",
            "_model_module_version": "1.5.0",
            "_model_name": "HBoxModel",
            "_view_count": null,
            "_view_module": "@jupyter-widgets/controls",
            "_view_module_version": "1.5.0",
            "_view_name": "HBoxView",
            "box_style": "",
            "children": [
              "IPY_MODEL_ac4bbdabe0574563b9fa7374100930fb",
              "IPY_MODEL_8493489cd38641febab752fd2c2a685d",
              "IPY_MODEL_acdd36579aa946f4932493b5ebea3063"
            ],
            "layout": "IPY_MODEL_a6fa8cbeed3e45e9b3f970505be8b6b3"
          }
        },
        "ac4bbdabe0574563b9fa7374100930fb": {
          "model_module": "@jupyter-widgets/controls",
          "model_name": "HTMLModel",
          "model_module_version": "1.5.0",
          "state": {
            "_dom_classes": [],
            "_model_module": "@jupyter-widgets/controls",
            "_model_module_version": "1.5.0",
            "_model_name": "HTMLModel",
            "_view_count": null,
            "_view_module": "@jupyter-widgets/controls",
            "_view_module_version": "1.5.0",
            "_view_name": "HTMLView",
            "description": "",
            "description_tooltip": null,
            "layout": "IPY_MODEL_44daef8a2fbb4728b97208b42b3700b8",
            "placeholder": "​",
            "style": "IPY_MODEL_036162668a5948bc9fef723beacaf01e",
            "value": ""
          }
        },
        "8493489cd38641febab752fd2c2a685d": {
          "model_module": "@jupyter-widgets/controls",
          "model_name": "FloatProgressModel",
          "model_module_version": "1.5.0",
          "state": {
            "_dom_classes": [],
            "_model_module": "@jupyter-widgets/controls",
            "_model_module_version": "1.5.0",
            "_model_name": "FloatProgressModel",
            "_view_count": null,
            "_view_module": "@jupyter-widgets/controls",
            "_view_module_version": "1.5.0",
            "_view_name": "ProgressView",
            "bar_style": "success",
            "description": "",
            "description_tooltip": null,
            "layout": "IPY_MODEL_b0adfab06382487d9f61aee0f0db1c1b",
            "max": 5148,
            "min": 0,
            "orientation": "horizontal",
            "style": "IPY_MODEL_9a2137bc4f4b4165a17fc5be192eb39c",
            "value": 5148
          }
        },
        "acdd36579aa946f4932493b5ebea3063": {
          "model_module": "@jupyter-widgets/controls",
          "model_name": "HTMLModel",
          "model_module_version": "1.5.0",
          "state": {
            "_dom_classes": [],
            "_model_module": "@jupyter-widgets/controls",
            "_model_module_version": "1.5.0",
            "_model_name": "HTMLModel",
            "_view_count": null,
            "_view_module": "@jupyter-widgets/controls",
            "_view_module_version": "1.5.0",
            "_view_name": "HTMLView",
            "description": "",
            "description_tooltip": null,
            "layout": "IPY_MODEL_4a67f33a5ec54686a7c7d9bae6e7e053",
            "placeholder": "​",
            "style": "IPY_MODEL_67e9c06bc8b14e3a9eabca981ee8e117",
            "value": " 6144/? [00:00&lt;00:00, 271601.31it/s]"
          }
        },
        "a6fa8cbeed3e45e9b3f970505be8b6b3": {
          "model_module": "@jupyter-widgets/base",
          "model_name": "LayoutModel",
          "model_module_version": "1.2.0",
          "state": {
            "_model_module": "@jupyter-widgets/base",
            "_model_module_version": "1.2.0",
            "_model_name": "LayoutModel",
            "_view_count": null,
            "_view_module": "@jupyter-widgets/base",
            "_view_module_version": "1.2.0",
            "_view_name": "LayoutView",
            "align_content": null,
            "align_items": null,
            "align_self": null,
            "border": null,
            "bottom": null,
            "display": null,
            "flex": null,
            "flex_flow": null,
            "grid_area": null,
            "grid_auto_columns": null,
            "grid_auto_flow": null,
            "grid_auto_rows": null,
            "grid_column": null,
            "grid_gap": null,
            "grid_row": null,
            "grid_template_areas": null,
            "grid_template_columns": null,
            "grid_template_rows": null,
            "height": null,
            "justify_content": null,
            "justify_items": null,
            "left": null,
            "margin": null,
            "max_height": null,
            "max_width": null,
            "min_height": null,
            "min_width": null,
            "object_fit": null,
            "object_position": null,
            "order": null,
            "overflow": null,
            "overflow_x": null,
            "overflow_y": null,
            "padding": null,
            "right": null,
            "top": null,
            "visibility": null,
            "width": null
          }
        },
        "44daef8a2fbb4728b97208b42b3700b8": {
          "model_module": "@jupyter-widgets/base",
          "model_name": "LayoutModel",
          "model_module_version": "1.2.0",
          "state": {
            "_model_module": "@jupyter-widgets/base",
            "_model_module_version": "1.2.0",
            "_model_name": "LayoutModel",
            "_view_count": null,
            "_view_module": "@jupyter-widgets/base",
            "_view_module_version": "1.2.0",
            "_view_name": "LayoutView",
            "align_content": null,
            "align_items": null,
            "align_self": null,
            "border": null,
            "bottom": null,
            "display": null,
            "flex": null,
            "flex_flow": null,
            "grid_area": null,
            "grid_auto_columns": null,
            "grid_auto_flow": null,
            "grid_auto_rows": null,
            "grid_column": null,
            "grid_gap": null,
            "grid_row": null,
            "grid_template_areas": null,
            "grid_template_columns": null,
            "grid_template_rows": null,
            "height": null,
            "justify_content": null,
            "justify_items": null,
            "left": null,
            "margin": null,
            "max_height": null,
            "max_width": null,
            "min_height": null,
            "min_width": null,
            "object_fit": null,
            "object_position": null,
            "order": null,
            "overflow": null,
            "overflow_x": null,
            "overflow_y": null,
            "padding": null,
            "right": null,
            "top": null,
            "visibility": null,
            "width": null
          }
        },
        "036162668a5948bc9fef723beacaf01e": {
          "model_module": "@jupyter-widgets/controls",
          "model_name": "DescriptionStyleModel",
          "model_module_version": "1.5.0",
          "state": {
            "_model_module": "@jupyter-widgets/controls",
            "_model_module_version": "1.5.0",
            "_model_name": "DescriptionStyleModel",
            "_view_count": null,
            "_view_module": "@jupyter-widgets/base",
            "_view_module_version": "1.2.0",
            "_view_name": "StyleView",
            "description_width": ""
          }
        },
        "b0adfab06382487d9f61aee0f0db1c1b": {
          "model_module": "@jupyter-widgets/base",
          "model_name": "LayoutModel",
          "model_module_version": "1.2.0",
          "state": {
            "_model_module": "@jupyter-widgets/base",
            "_model_module_version": "1.2.0",
            "_model_name": "LayoutModel",
            "_view_count": null,
            "_view_module": "@jupyter-widgets/base",
            "_view_module_version": "1.2.0",
            "_view_name": "LayoutView",
            "align_content": null,
            "align_items": null,
            "align_self": null,
            "border": null,
            "bottom": null,
            "display": null,
            "flex": null,
            "flex_flow": null,
            "grid_area": null,
            "grid_auto_columns": null,
            "grid_auto_flow": null,
            "grid_auto_rows": null,
            "grid_column": null,
            "grid_gap": null,
            "grid_row": null,
            "grid_template_areas": null,
            "grid_template_columns": null,
            "grid_template_rows": null,
            "height": null,
            "justify_content": null,
            "justify_items": null,
            "left": null,
            "margin": null,
            "max_height": null,
            "max_width": null,
            "min_height": null,
            "min_width": null,
            "object_fit": null,
            "object_position": null,
            "order": null,
            "overflow": null,
            "overflow_x": null,
            "overflow_y": null,
            "padding": null,
            "right": null,
            "top": null,
            "visibility": null,
            "width": null
          }
        },
        "9a2137bc4f4b4165a17fc5be192eb39c": {
          "model_module": "@jupyter-widgets/controls",
          "model_name": "ProgressStyleModel",
          "model_module_version": "1.5.0",
          "state": {
            "_model_module": "@jupyter-widgets/controls",
            "_model_module_version": "1.5.0",
            "_model_name": "ProgressStyleModel",
            "_view_count": null,
            "_view_module": "@jupyter-widgets/base",
            "_view_module_version": "1.2.0",
            "_view_name": "StyleView",
            "bar_color": null,
            "description_width": ""
          }
        },
        "4a67f33a5ec54686a7c7d9bae6e7e053": {
          "model_module": "@jupyter-widgets/base",
          "model_name": "LayoutModel",
          "model_module_version": "1.2.0",
          "state": {
            "_model_module": "@jupyter-widgets/base",
            "_model_module_version": "1.2.0",
            "_model_name": "LayoutModel",
            "_view_count": null,
            "_view_module": "@jupyter-widgets/base",
            "_view_module_version": "1.2.0",
            "_view_name": "LayoutView",
            "align_content": null,
            "align_items": null,
            "align_self": null,
            "border": null,
            "bottom": null,
            "display": null,
            "flex": null,
            "flex_flow": null,
            "grid_area": null,
            "grid_auto_columns": null,
            "grid_auto_flow": null,
            "grid_auto_rows": null,
            "grid_column": null,
            "grid_gap": null,
            "grid_row": null,
            "grid_template_areas": null,
            "grid_template_columns": null,
            "grid_template_rows": null,
            "height": null,
            "justify_content": null,
            "justify_items": null,
            "left": null,
            "margin": null,
            "max_height": null,
            "max_width": null,
            "min_height": null,
            "min_width": null,
            "object_fit": null,
            "object_position": null,
            "order": null,
            "overflow": null,
            "overflow_x": null,
            "overflow_y": null,
            "padding": null,
            "right": null,
            "top": null,
            "visibility": null,
            "width": null
          }
        },
        "67e9c06bc8b14e3a9eabca981ee8e117": {
          "model_module": "@jupyter-widgets/controls",
          "model_name": "DescriptionStyleModel",
          "model_module_version": "1.5.0",
          "state": {
            "_model_module": "@jupyter-widgets/controls",
            "_model_module_version": "1.5.0",
            "_model_name": "DescriptionStyleModel",
            "_view_count": null,
            "_view_module": "@jupyter-widgets/base",
            "_view_module_version": "1.2.0",
            "_view_name": "StyleView",
            "description_width": ""
          }
        }
      }
    }
  },
  "cells": [
    {
      "cell_type": "markdown",
      "metadata": {
        "id": "view-in-github",
        "colab_type": "text"
      },
      "source": [
        "<a href=\"https://colab.research.google.com/github/Jashwanth63/Custom-Model-for-classification-of-Image-Data-without-using-Convolutional-Neural-Networks/blob/main/DLL_Assingment_TYPE1.ipynb\" target=\"_parent\"><img src=\"https://colab.research.google.com/assets/colab-badge.svg\" alt=\"Open In Colab\"/></a>"
      ]
    },
    {
      "cell_type": "code",
      "source": [
        "print(torch.__version__)"
      ],
      "metadata": {
        "colab": {
          "base_uri": "https://localhost:8080/"
        },
        "id": "9r1A363aHWKC",
        "outputId": "38712391-00cc-438e-f645-e1a44301186a"
      },
      "execution_count": 3,
      "outputs": [
        {
          "output_type": "stream",
          "name": "stdout",
          "text": [
            "1.10.0+cu111\n"
          ]
        }
      ]
    },
    {
      "cell_type": "code",
      "source": [
        "!pip install torch_optimizer"
      ],
      "metadata": {
        "colab": {
          "base_uri": "https://localhost:8080/"
        },
        "id": "L9eOrPpVwsD6",
        "outputId": "ebda4a1c-defa-4778-fc4a-199eda51d4ad"
      },
      "execution_count": 403,
      "outputs": [
        {
          "output_type": "stream",
          "name": "stdout",
          "text": [
            "Requirement already satisfied: torch_optimizer in /usr/local/lib/python3.7/dist-packages (0.3.0)\n",
            "Requirement already satisfied: pytorch-ranger>=0.1.1 in /usr/local/lib/python3.7/dist-packages (from torch_optimizer) (0.1.1)\n",
            "Requirement already satisfied: torch>=1.5.0 in /usr/local/lib/python3.7/dist-packages (from torch_optimizer) (1.10.0+cu111)\n",
            "Requirement already satisfied: typing-extensions in /usr/local/lib/python3.7/dist-packages (from torch>=1.5.0->torch_optimizer) (3.10.0.2)\n"
          ]
        }
      ]
    },
    {
      "cell_type": "code",
      "execution_count": 4,
      "metadata": {
        "id": "YrsjHvrSlsEM"
      },
      "outputs": [],
      "source": [
        "import pickle\n",
        "import torch\n",
        "import torch.nn as nn\n",
        "from torchvision.datasets import FashionMNIST\n",
        "import matplotlib.pyplot as plt\n",
        "%matplotlib inline\n",
        "import numpy as np\n",
        "import torchvision\n",
        "from torchvision import transforms\n",
        "from torch.utils.data import TensorDataset\n",
        "import torch.nn.functional as F\n",
        "import torch.optim as optim\n",
        "import tqdm as tqdm\n",
        "import torch_optimizer as optim"
      ]
    },
    {
      "cell_type": "code",
      "source": [
        "if torch.cuda.is_available():\n",
        "  device = torch.device(\"cuda:0\")\n",
        "else:\n",
        "  device = torch.device(\"cpu\")"
      ],
      "metadata": {
        "id": "YcyWoDoultR7"
      },
      "execution_count": 5,
      "outputs": []
    },
    {
      "cell_type": "code",
      "source": [
        "device"
      ],
      "metadata": {
        "colab": {
          "base_uri": "https://localhost:8080/"
        },
        "id": "k6zR75DZnHIQ",
        "outputId": "41100797-a6d4-4b11-9a02-3935ab122035"
      },
      "execution_count": 6,
      "outputs": [
        {
          "output_type": "execute_result",
          "data": {
            "text/plain": [
              "device(type='cuda', index=0)"
            ]
          },
          "metadata": {},
          "execution_count": 6
        }
      ]
    },
    {
      "cell_type": "code",
      "source": [
        "def write_vectorised(data, data_usecase):\n",
        "  if data_usecase == \"TRAIN\":\n",
        "    with open(\"vectorised_train.txt\", \"wb\") as file_pointer:\n",
        "      pickle.dump(data, file_pointer)\n",
        "  elif data_usecase == \"TEST\":\n",
        "    with open(\"vectorised_test.txt\",\"wb\") as file_pointer:\n",
        "      pickle.dump(data, file_pointer)\n",
        "      \n",
        "def read_vectorised(data_usecase):\n",
        "  if data_usecase == \"TRAIN\":\n",
        "    with open(\"vectorised_train.txt\", \"rb\") as file_pointer:\n",
        "      return pickle.load(file_pointer)\n",
        "  elif data_usecase == \"TEST\":\n",
        "    with open(\"vectorised_test.txt\",\"rb\") as file_pointer:\n",
        "      return pickle.load(file_pointer)\n"
      ],
      "metadata": {
        "id": "wfxqOsMolu1J"
      },
      "execution_count": 7,
      "outputs": []
    },
    {
      "cell_type": "code",
      "source": [
        "def download_data(b_size=64):  \n",
        "    \"\"\"Download the Fashion-MNIST dataset and then load it into memory.\"\"\"\n",
        "    mnist_train = torchvision.datasets.FashionMNIST(\".\", train = True, transform = transforms.ToTensor(), target_transform= transforms.Lambda(lambda x:torch.zeros(\n",
        "            10, dtype = torch.float64).scatter_(dim = 0, index= torch.tensor(x), value = 1)) ,download = True)\n",
        "    mnist_train = torch.utils.data.DataLoader(mnist_train, batch_size = b_size, shuffle = True, num_workers = 3)\n",
        "\n",
        "    mnist_test = torchvision.datasets.FashionMNIST(\".\", train = False, transform = transforms.ToTensor(), target_transform = transforms.Lambda(\n",
        "        lambda x:torch.zeros(10, dtype = torch.float64).scatter_(dim=0, index = torch.tensor(x), value = 1)), download = True)\n",
        "    mnist_test = torch.utils.data.DataLoader(mnist_test, batch_size=b_size, shuffle = True, num_workers = 3)\n",
        "    return mnist_train, mnist_test  "
      ],
      "metadata": {
        "id": "bYWTy9SbmMq7"
      },
      "execution_count": 8,
      "outputs": []
    },
    {
      "cell_type": "code",
      "source": [
        "training,  testing = download_data(b_size=64)"
      ],
      "metadata": {
        "colab": {
          "base_uri": "https://localhost:8080/",
          "height": 437,
          "referenced_widgets": [
            "fb4a4f2ae29e4355ba2c21d9be72457f",
            "bada8668ccaa419db74fd3cee75728e2",
            "f2e3e93c245844b5adec780286502a2f",
            "870e54b7bb544cd5a5fe0c0c513059df",
            "7ab5f694e187468dbb03593e305d43e7",
            "f0d00cac69c04c278594aa904737b1b7",
            "f5513c1d00f2406ca9e0b802af0ed24f",
            "1f7c89a9a5ff47e58827b841320dd8e2",
            "91a6db0455eb44aabcd7cb5c06b0e70c",
            "373a7baf6164455b81f2f0fb60b990ff",
            "f7610023467d456380efe8d3a1faabfc",
            "a4acfaae5958497f9d8c618d99a92778",
            "3fece110e2044a0cad034424ffc0bb76",
            "a7ea6f336eda42c78d4f0824bf14c3fe",
            "a7a4f23f30594de4a6f2932ab999efc7",
            "f7ed415abdbf435e9ce3ed81043c72cc",
            "c965ae2433934608b62a5668358df42c",
            "496babf647124078a6df9319467b933b",
            "646bc28b96af4371a2e3d7bcdd720eeb",
            "5f440cf0366a40bf8407a4defe43c22b",
            "cf89cc1db2364e6b8172c6e2d46daa91",
            "23049e6447b841fe8c72b07472d3c325",
            "ea5088a5f71c4f718b6c3f6754151ecc",
            "060866983b944524bbd9af86d06567ef",
            "09f4fae7543c4ab5bd041f72da4e4acf",
            "c50ebbaf4f644dc7ad9d15c2487b3651",
            "93744841f7d04f9dacf53ab5c4fcc363",
            "fc1996cd6bfa4b0ab39812be6345a84b",
            "cccb7b0e1b974389ba59600e287afa86",
            "001e9bca03bb4524a50b1f4b60f1fb93",
            "bc5e29d01213407f9b7747da8840fb2e",
            "d32987a3df7b4a4da93f69f122ab1f96",
            "deb962d27f2f44f28781bd6bb6087448",
            "40ecd0168a9c4e5baf43710718f8be88",
            "ac4bbdabe0574563b9fa7374100930fb",
            "8493489cd38641febab752fd2c2a685d",
            "acdd36579aa946f4932493b5ebea3063",
            "a6fa8cbeed3e45e9b3f970505be8b6b3",
            "44daef8a2fbb4728b97208b42b3700b8",
            "036162668a5948bc9fef723beacaf01e",
            "b0adfab06382487d9f61aee0f0db1c1b",
            "9a2137bc4f4b4165a17fc5be192eb39c",
            "4a67f33a5ec54686a7c7d9bae6e7e053",
            "67e9c06bc8b14e3a9eabca981ee8e117"
          ]
        },
        "id": "FjQKdgUOmQX0",
        "outputId": "914c68d4-ba54-4792-e478-03628ce77af6"
      },
      "execution_count": 9,
      "outputs": [
        {
          "output_type": "stream",
          "name": "stdout",
          "text": [
            "Downloading http://fashion-mnist.s3-website.eu-central-1.amazonaws.com/train-images-idx3-ubyte.gz\n",
            "Downloading http://fashion-mnist.s3-website.eu-central-1.amazonaws.com/train-images-idx3-ubyte.gz to ./FashionMNIST/raw/train-images-idx3-ubyte.gz\n"
          ]
        },
        {
          "output_type": "display_data",
          "data": {
            "text/plain": [
              "  0%|          | 0/26421880 [00:00<?, ?it/s]"
            ],
            "application/vnd.jupyter.widget-view+json": {
              "version_major": 2,
              "version_minor": 0,
              "model_id": "fb4a4f2ae29e4355ba2c21d9be72457f"
            }
          },
          "metadata": {}
        },
        {
          "output_type": "stream",
          "name": "stdout",
          "text": [
            "Extracting ./FashionMNIST/raw/train-images-idx3-ubyte.gz to ./FashionMNIST/raw\n",
            "\n",
            "Downloading http://fashion-mnist.s3-website.eu-central-1.amazonaws.com/train-labels-idx1-ubyte.gz\n",
            "Downloading http://fashion-mnist.s3-website.eu-central-1.amazonaws.com/train-labels-idx1-ubyte.gz to ./FashionMNIST/raw/train-labels-idx1-ubyte.gz\n"
          ]
        },
        {
          "output_type": "display_data",
          "data": {
            "text/plain": [
              "  0%|          | 0/29515 [00:00<?, ?it/s]"
            ],
            "application/vnd.jupyter.widget-view+json": {
              "version_major": 2,
              "version_minor": 0,
              "model_id": "a4acfaae5958497f9d8c618d99a92778"
            }
          },
          "metadata": {}
        },
        {
          "output_type": "stream",
          "name": "stdout",
          "text": [
            "Extracting ./FashionMNIST/raw/train-labels-idx1-ubyte.gz to ./FashionMNIST/raw\n",
            "\n",
            "Downloading http://fashion-mnist.s3-website.eu-central-1.amazonaws.com/t10k-images-idx3-ubyte.gz\n",
            "Downloading http://fashion-mnist.s3-website.eu-central-1.amazonaws.com/t10k-images-idx3-ubyte.gz to ./FashionMNIST/raw/t10k-images-idx3-ubyte.gz\n"
          ]
        },
        {
          "output_type": "display_data",
          "data": {
            "text/plain": [
              "  0%|          | 0/4422102 [00:00<?, ?it/s]"
            ],
            "application/vnd.jupyter.widget-view+json": {
              "version_major": 2,
              "version_minor": 0,
              "model_id": "ea5088a5f71c4f718b6c3f6754151ecc"
            }
          },
          "metadata": {}
        },
        {
          "output_type": "stream",
          "name": "stdout",
          "text": [
            "Extracting ./FashionMNIST/raw/t10k-images-idx3-ubyte.gz to ./FashionMNIST/raw\n",
            "\n",
            "Downloading http://fashion-mnist.s3-website.eu-central-1.amazonaws.com/t10k-labels-idx1-ubyte.gz\n",
            "Downloading http://fashion-mnist.s3-website.eu-central-1.amazonaws.com/t10k-labels-idx1-ubyte.gz to ./FashionMNIST/raw/t10k-labels-idx1-ubyte.gz\n"
          ]
        },
        {
          "output_type": "display_data",
          "data": {
            "text/plain": [
              "  0%|          | 0/5148 [00:00<?, ?it/s]"
            ],
            "application/vnd.jupyter.widget-view+json": {
              "version_major": 2,
              "version_minor": 0,
              "model_id": "40ecd0168a9c4e5baf43710718f8be88"
            }
          },
          "metadata": {}
        },
        {
          "output_type": "stream",
          "name": "stdout",
          "text": [
            "Extracting ./FashionMNIST/raw/t10k-labels-idx1-ubyte.gz to ./FashionMNIST/raw\n",
            "\n"
          ]
        }
      ]
    },
    {
      "cell_type": "code",
      "source": [
        "def patch_tensor_maker(image, patch_size, im_size):\n",
        "  elements = []\n",
        "  for l in range(0, im_size-patch_size+1, patch_size):\n",
        "    for k in range(0, im_size-patch_size+1, patch_size):\n",
        "      patch = []\n",
        "      for i in range(patch_size):\n",
        "        temp = []\n",
        "        for j in range(patch_size):\n",
        "          temp.append(image[l+i][k+j])\n",
        "        patch.append(temp)\n",
        "      elements.append(patch)\n",
        "  return elements\n",
        "\n",
        "\n",
        "def patch_maker(data, patch_size = 4):\n",
        "  data_list_main = list()\n",
        "  for i, batch in enumerate(data):\n",
        "    batch_vectorised = []\n",
        "    for image in batch[0]:\n",
        "      im_size = image.size()[1]\n",
        "      batch_vectorised.append(patch_tensor_maker(image.view(im_size, im_size), patch_size, im_size))\n",
        "    main_data = torch.Tensor(batch_vectorised)\n",
        "    main_labels = batch[1]\n",
        "    data_list_main.append([main_data, main_labels])\n",
        "    #data_list_main= TensorDataset([main_data, main_labels])\n",
        "  #return torch.utils.data.DataLoader(iter(data_list_main))\n",
        "  return data_list_main"
      ],
      "metadata": {
        "id": "W-xEzmEQmShS"
      },
      "execution_count": 10,
      "outputs": []
    },
    {
      "cell_type": "code",
      "source": [
        "train_data = patch_maker(training)\n",
        "test_data = patch_maker(testing)"
      ],
      "metadata": {
        "id": "1SEh5q1gmUkI"
      },
      "execution_count": 11,
      "outputs": []
    },
    {
      "cell_type": "code",
      "source": [
        "#Vectorize (4,4) => (16)\n",
        "for i in range(len(train_data)):\n",
        "    train_data[i][0] = train_data[i][0].view(-1, 49, 16) \n",
        "\n",
        "for i in range(len(test_data)):\n",
        "    test_data[i][0] = test_data[i][0].view(-1, 49, 16) "
      ],
      "metadata": {
        "id": "83EAoOvZmVur"
      },
      "execution_count": 12,
      "outputs": []
    },
    {
      "cell_type": "code",
      "source": [
        "write_vectorised(train_data, data_usecase = \"TRAIN\")\n",
        "write_vectorised(test_data, data_usecase = \"TEST\")\n"
      ],
      "metadata": {
        "id": "4bu3nqycp88S"
      },
      "execution_count": 13,
      "outputs": []
    },
    {
      "cell_type": "code",
      "source": [
        "train_data = read_vectorised(data_usecase = \"TRAIN\") \n",
        "test_data = read_vectorised(data_usecase = \"TEST\") "
      ],
      "metadata": {
        "id": "WfXMCg62qZRx"
      },
      "execution_count": 14,
      "outputs": []
    },
    {
      "cell_type": "code",
      "source": [
        "class net(nn.Module):\n",
        "  def __init__(self, block_size):\n",
        "    super(net, self).__init__()\n",
        "\n",
        "    #STEM\n",
        "    self.linear = nn.Linear(16, 512)\n",
        "\n",
        "    #BACKBONE\n",
        "    self.blocks = block_size\n",
        "\n",
        "\n",
        "    #self.mlp_1 = nn.ModuleList([nn.Linear(49, 49), nn.Linear(49, 49)])\n",
        "    #self.mlp_2 = nn.ModuleList([nn.Linear(256, 256), nn.Linear(256,256)])\n",
        "\n",
        "    #self.block = nn.ModuleList([self.mlp_1, self.mlp_2]*2)\n",
        "\n",
        "    #self.hidden1 = nn.ModuleList([nn.Linear(49,49) for i in range(self.blocks)])\n",
        "    #self.hidden2 = nn.ModuleList([nn.Linear(49,49) for i in range(self.blocks)])\n",
        "    #self.hidden3 = nn.ModuleList([nn.Linear(256,256) for i in range(self.blocks)])\n",
        "    #self.hidden4 = nn.ModuleList([nn.Linear(256, 256) for i in range(self.blocks)])\n",
        "\n",
        "    for i in range(self.blocks):\n",
        "      self.add_module('L1_{0}'.format(i+1), nn.Linear(49,49))\n",
        "      self.add_module('L2_{0}'.format(i+1), nn.Linear(49,49))\n",
        "      self.add_module('L3_{0}'.format(i+1), nn.Linear(512,512))\n",
        "      self.add_module('L4_{0}'.format(i+1), nn.Linear(512,512))\n",
        "      self.add_module('tan1_{0}'.format(i+1), nn.Tanh())\n",
        "      self.add_module('tan2_{0}'.format(i+1), nn.Tanh())\n",
        "\n",
        "\n",
        "\n",
        "    #self.block1 = nn.ModuleList([nn.Linear(49,49), nn.Linear(49,49), nn.Linear(512,512),\n",
        "    #                             nn.Linear(512,512)])\n",
        "    #self.block2 = nn.ModuleList([nn.Linear(49,49), nn.Linear(49,49), nn.Linear(512,512),\n",
        "    #                             nn.Linear(512,512)])\n",
        "    #self.block3 = nn.ModuleList([nn.Linear(49,49), nn.Linear(49,49), nn.Linear(512, 512),\n",
        "    #                             nn.Linear(512,512)])\n",
        "\n",
        "    #self.tanactivation = nn.Tanh() #Tanh Activation does not have trainable parameters, so we reuse \n",
        "                                   #this instance when we need a tanh activation\n",
        "\n",
        "    #self.nonlinear_block1_1 = nn.tanh()\n",
        "    #self.nonlinear_block1_2 = nn.tanh()\n",
        "\n",
        "    #self.nonlinear_block2_1 = nn.tanh()\n",
        "    #self.nonlinear_block2_2 = nn.tanh()\n",
        "\n",
        "    #CLASSIFIER\n",
        "    self.output = nn.Linear(512, 10)\n",
        "    #self.probs = nn.Softmax(dim=1)\n",
        "\n",
        "    self.weight_initializer() #Initialize Weights\n",
        "\n",
        "\n",
        "  def forward(self, x):\n",
        "    #STEM\n",
        "    x = self.linear(x)\n",
        "\n",
        "    #BACKBONE\n",
        "    #x = self.block_caller(x, self.block1)\n",
        "    #x = self.block_caller(x, self.block2)\n",
        "    #x = self.block_caller(x, self.block3)\n",
        "    for i in range(self.blocks):\n",
        "      x = self.call_block(x, block_number = i+1)\n",
        "\n",
        "    #CLASSIFIER\n",
        "    x = torch.sum(x, dim=1) / x[1].size()[0]\n",
        "    x = self.output(x)\n",
        "    #x = self.probs(x)\n",
        "    return x\n",
        "\n",
        "  def call_block(self, x, block_number):\n",
        "    x = x.transpose(1,2)  #X=> X^T\n",
        "    x = self._modules['L1_{0}'.format(block_number)](x) #matmul(X^T,W1)\n",
        "    x = self._modules['tan1_{0}'.format(block_number)](x)\n",
        "    #x = self.tanactivation(x) #g(X^T,W1) , g() is tanh()\n",
        "    x = self._modules['L2_{0}'.format(block_number)](x) #01 = g() X W2\n",
        "\n",
        "    x = x.transpose(1,2) #O1 => O1^T\n",
        "    x = self._modules['L3_{0}'.format(block_number)](x) #matmul(01, W3)\n",
        "    x = self._modules['tan2_{0}'.format(block_number)](x) #g(O1, W3), g() is tanh()\n",
        "    #x = self.tanactivation(x) \n",
        "    x = self._modules['L4_{0}'.format(block_number)](x) #O2 = g() X W4\n",
        "  \n",
        "    return x\n",
        "\n",
        "  def weight_initializer(self):\n",
        "    for mod in self.modules():\n",
        "      if isinstance(mod, nn.Linear):\n",
        "        nn.init.kaiming_uniform_(mod.weight, mode = 'fan_in')\n",
        "        \n",
        "       # if mod.bias is not None:\n",
        "       #   nn.init.constant_(mod.bias, 0)\n",
        "\n",
        "\n",
        "\n",
        "\n",
        "'''\n",
        "  def block_caller(self, x, block):\n",
        "    #BACKBONE - EACH BLOCK HERE HAS 2 MLPS\n",
        "    for i, layers in enumerate(block):\n",
        "      #h1 = self.hidden1[i]\n",
        "      #h2 = self.hidden2[i]\n",
        "      if i==0:\n",
        "        x = x.transpose(1,2)  #X=> X^T\n",
        "        x = self.tanactivation(block[i](x)) #g(X^T,W1) , g() is relu()\n",
        "      elif i==1:\n",
        "        x = block[i](x) #g() X W2\n",
        "      \n",
        "      #h3 = self.hidden3[i]\n",
        "      #h4 = self.hidden4[i]\n",
        "      elif i==2:\n",
        "        x = x.transpose(1,2) #O1 => O1^T\n",
        "        x = self.tanactivation(block[i](x))  #g(O1, W3), g() is relu()\n",
        "      elif i==3:\n",
        "        x = block[i](x) #g() X W4\n",
        "    return x\n",
        "'''\n",
        "  "
      ],
      "metadata": {
        "colab": {
          "base_uri": "https://localhost:8080/",
          "height": 91
        },
        "id": "jY93OtmdmcNO",
        "outputId": "e74c1196-a924-464b-fdeb-19a5e78e597d"
      },
      "execution_count": 494,
      "outputs": [
        {
          "output_type": "execute_result",
          "data": {
            "text/plain": [
              "'\\n  def block_caller(self, x, block):\\n    #BACKBONE - EACH BLOCK HERE HAS 2 MLPS\\n    for i, layers in enumerate(block):\\n      #h1 = self.hidden1[i]\\n      #h2 = self.hidden2[i]\\n      if i==0:\\n        x = x.transpose(1,2)  #X=> X^T\\n        x = self.tanactivation(block[i](x)) #g(X^T,W1) , g() is relu()\\n      elif i==1:\\n        x = block[i](x) #g() X W2\\n      \\n      #h3 = self.hidden3[i]\\n      #h4 = self.hidden4[i]\\n      elif i==2:\\n        x = x.transpose(1,2) #O1 => O1^T\\n        x = self.tanactivation(block[i](x))  #g(O1, W3), g() is relu()\\n      elif i==3:\\n        x = block[i](x) #g() X W4\\n    return x\\n'"
            ],
            "application/vnd.google.colaboratory.intrinsic+json": {
              "type": "string"
            }
          },
          "metadata": {},
          "execution_count": 494
        }
      ]
    },
    {
      "cell_type": "code",
      "source": [
        "NET = net(block_size=4).to(device)"
      ],
      "metadata": {
        "id": "_hSr6YVW7iuB"
      },
      "execution_count": 495,
      "outputs": []
    },
    {
      "cell_type": "code",
      "source": [
        "for name in NET.modules():\n",
        "  print(name, )"
      ],
      "metadata": {
        "colab": {
          "base_uri": "https://localhost:8080/"
        },
        "id": "xb-qCt8hzgsj",
        "outputId": "7ee6496f-9be6-41d8-a5be-a8ecfc976b25"
      },
      "execution_count": 496,
      "outputs": [
        {
          "output_type": "stream",
          "name": "stdout",
          "text": [
            "net(\n",
            "  (linear): Linear(in_features=16, out_features=512, bias=True)\n",
            "  (L1_1): Linear(in_features=49, out_features=49, bias=True)\n",
            "  (L2_1): Linear(in_features=49, out_features=49, bias=True)\n",
            "  (L3_1): Linear(in_features=512, out_features=512, bias=True)\n",
            "  (L4_1): Linear(in_features=512, out_features=512, bias=True)\n",
            "  (tan1_1): Tanh()\n",
            "  (tan2_1): Tanh()\n",
            "  (L1_2): Linear(in_features=49, out_features=49, bias=True)\n",
            "  (L2_2): Linear(in_features=49, out_features=49, bias=True)\n",
            "  (L3_2): Linear(in_features=512, out_features=512, bias=True)\n",
            "  (L4_2): Linear(in_features=512, out_features=512, bias=True)\n",
            "  (tan1_2): Tanh()\n",
            "  (tan2_2): Tanh()\n",
            "  (L1_3): Linear(in_features=49, out_features=49, bias=True)\n",
            "  (L2_3): Linear(in_features=49, out_features=49, bias=True)\n",
            "  (L3_3): Linear(in_features=512, out_features=512, bias=True)\n",
            "  (L4_3): Linear(in_features=512, out_features=512, bias=True)\n",
            "  (tan1_3): Tanh()\n",
            "  (tan2_3): Tanh()\n",
            "  (L1_4): Linear(in_features=49, out_features=49, bias=True)\n",
            "  (L2_4): Linear(in_features=49, out_features=49, bias=True)\n",
            "  (L3_4): Linear(in_features=512, out_features=512, bias=True)\n",
            "  (L4_4): Linear(in_features=512, out_features=512, bias=True)\n",
            "  (tan1_4): Tanh()\n",
            "  (tan2_4): Tanh()\n",
            "  (output): Linear(in_features=512, out_features=10, bias=True)\n",
            ")\n",
            "Linear(in_features=16, out_features=512, bias=True)\n",
            "Linear(in_features=49, out_features=49, bias=True)\n",
            "Linear(in_features=49, out_features=49, bias=True)\n",
            "Linear(in_features=512, out_features=512, bias=True)\n",
            "Linear(in_features=512, out_features=512, bias=True)\n",
            "Tanh()\n",
            "Tanh()\n",
            "Linear(in_features=49, out_features=49, bias=True)\n",
            "Linear(in_features=49, out_features=49, bias=True)\n",
            "Linear(in_features=512, out_features=512, bias=True)\n",
            "Linear(in_features=512, out_features=512, bias=True)\n",
            "Tanh()\n",
            "Tanh()\n",
            "Linear(in_features=49, out_features=49, bias=True)\n",
            "Linear(in_features=49, out_features=49, bias=True)\n",
            "Linear(in_features=512, out_features=512, bias=True)\n",
            "Linear(in_features=512, out_features=512, bias=True)\n",
            "Tanh()\n",
            "Tanh()\n",
            "Linear(in_features=49, out_features=49, bias=True)\n",
            "Linear(in_features=49, out_features=49, bias=True)\n",
            "Linear(in_features=512, out_features=512, bias=True)\n",
            "Linear(in_features=512, out_features=512, bias=True)\n",
            "Tanh()\n",
            "Tanh()\n",
            "Linear(in_features=512, out_features=10, bias=True)\n"
          ]
        }
      ]
    },
    {
      "cell_type": "code",
      "source": [
        "for name, param in NET.named_parameters():\n",
        "  print(name,\" - \", param.size())"
      ],
      "metadata": {
        "colab": {
          "base_uri": "https://localhost:8080/"
        },
        "id": "XHwZE9LTNw3z",
        "outputId": "e1f2673f-7009-430e-ca48-5f27911aa35f"
      },
      "execution_count": 497,
      "outputs": [
        {
          "output_type": "stream",
          "name": "stdout",
          "text": [
            "linear.weight  -  torch.Size([512, 16])\n",
            "linear.bias  -  torch.Size([512])\n",
            "L1_1.weight  -  torch.Size([49, 49])\n",
            "L1_1.bias  -  torch.Size([49])\n",
            "L2_1.weight  -  torch.Size([49, 49])\n",
            "L2_1.bias  -  torch.Size([49])\n",
            "L3_1.weight  -  torch.Size([512, 512])\n",
            "L3_1.bias  -  torch.Size([512])\n",
            "L4_1.weight  -  torch.Size([512, 512])\n",
            "L4_1.bias  -  torch.Size([512])\n",
            "L1_2.weight  -  torch.Size([49, 49])\n",
            "L1_2.bias  -  torch.Size([49])\n",
            "L2_2.weight  -  torch.Size([49, 49])\n",
            "L2_2.bias  -  torch.Size([49])\n",
            "L3_2.weight  -  torch.Size([512, 512])\n",
            "L3_2.bias  -  torch.Size([512])\n",
            "L4_2.weight  -  torch.Size([512, 512])\n",
            "L4_2.bias  -  torch.Size([512])\n",
            "L1_3.weight  -  torch.Size([49, 49])\n",
            "L1_3.bias  -  torch.Size([49])\n",
            "L2_3.weight  -  torch.Size([49, 49])\n",
            "L2_3.bias  -  torch.Size([49])\n",
            "L3_3.weight  -  torch.Size([512, 512])\n",
            "L3_3.bias  -  torch.Size([512])\n",
            "L4_3.weight  -  torch.Size([512, 512])\n",
            "L4_3.bias  -  torch.Size([512])\n",
            "L1_4.weight  -  torch.Size([49, 49])\n",
            "L1_4.bias  -  torch.Size([49])\n",
            "L2_4.weight  -  torch.Size([49, 49])\n",
            "L2_4.bias  -  torch.Size([49])\n",
            "L3_4.weight  -  torch.Size([512, 512])\n",
            "L3_4.bias  -  torch.Size([512])\n",
            "L4_4.weight  -  torch.Size([512, 512])\n",
            "L4_4.bias  -  torch.Size([512])\n",
            "output.weight  -  torch.Size([10, 512])\n",
            "output.bias  -  torch.Size([10])\n"
          ]
        }
      ]
    },
    {
      "cell_type": "code",
      "source": [
        "optimizer = optim.SWATS(NET.parameters(), amsgrad = True, nesterov = True, weight_decay = 0.001) #SWATS optimizer, Uses Both SGD and ADAM.  \n",
        "loss_function = nn.CrossEntropyLoss()"
      ],
      "metadata": {
        "id": "00DsRt2gmhH9"
      },
      "execution_count": 498,
      "outputs": []
    },
    {
      "cell_type": "code",
      "source": [
        "def accuracy_calculator(hyp, y):\n",
        "  a = torch.argmax(hyp, dim=1)\n",
        "  b = torch.argmax(y, dim=1)\n",
        "  return torch.sum(a==b)"
      ],
      "metadata": {
        "id": "dbXQzHQoqNQS"
      },
      "execution_count": 499,
      "outputs": []
    },
    {
      "cell_type": "code",
      "source": [
        "from torch.nn.modules.loss import KLDivLoss\n",
        "def train(out):\n",
        "  EPOCHS = 50\n",
        "  accuracy = 0\n",
        "  for i in range(EPOCHS):\n",
        "      out.train()\n",
        "      accuracy = 0\n",
        "      acc = 0\n",
        "      for j in tqdm.tqdm(range(len(train_data))): \n",
        "          X, y = train_data[j]\n",
        "          X = X.to(device)\n",
        "          y = y.to(device)\n",
        "          out.zero_grad()\n",
        "          hypothesis = out(X)\n",
        "          hypothesis.to(device)\n",
        "          accuracy += accuracy_calculator(hypothesis, y)\n",
        "          loss = loss_function(hypothesis, y)\n",
        "          loss.backward()\n",
        "          optimizer.step()\n",
        "      out.eval()\n",
        "      with torch.no_grad():\n",
        "        for k in range(len(test_data)):\n",
        "          X_test, y_test = test_data[k]\n",
        "          X_test = X_test.to(device)\n",
        "          y_test = y_test.to(device)\n",
        "          test_hypothesis = out(X_test)\n",
        "          test_hypothesis.to(device)\n",
        "          acc += accuracy_calculator(test_hypothesis, y_test)\n",
        "          test_loss =  loss_function(test_hypothesis, y_test)\n",
        "        print(\"EPOCHS : \", i+1, \"Training LOSS : \",loss, \"Test Loss: \", test_loss)\n",
        "        print(\"Training Accuracy is: \",accuracy/60000, \"Testing Accuracy is: \", acc/10000)\n",
        "  \n",
        "\n",
        "def test(out):\n",
        "  accuracy = 0\n",
        "  with torch.no_grad():\n",
        "    for i in tqdm.tqdm(range(len(test_data))):\n",
        "          X, y = test_data[i]\n",
        "          X = X.to(device)\n",
        "          y = y.to(device)\n",
        "          hypothesis = out(X)\n",
        "          hypothesis.to(device)\n",
        "          accuracy += accuracy_calculator(hypothesis, y)\n",
        "    print(accuracy/10000)"
      ],
      "metadata": {
        "id": "eKRE1EmKmht9"
      },
      "execution_count": 500,
      "outputs": []
    },
    {
      "cell_type": "code",
      "source": [
        "train(NET)"
      ],
      "metadata": {
        "colab": {
          "base_uri": "https://localhost:8080/"
        },
        "id": "CkyS_iMemo3J",
        "outputId": "3206921b-97bb-4850-c9f1-64994e3c2b18"
      },
      "execution_count": 501,
      "outputs": [
        {
          "output_type": "stream",
          "name": "stderr",
          "text": [
            "100%|██████████| 938/938 [00:25<00:00, 37.27it/s]\n"
          ]
        },
        {
          "output_type": "stream",
          "name": "stdout",
          "text": [
            "EPOCHS :  1 Training LOSS :  tensor(0.2553, device='cuda:0', dtype=torch.float64, grad_fn=<DivBackward1>) Test Loss:  tensor(0.3279, device='cuda:0', dtype=torch.float64)\n",
            "Training Accuracy is:  tensor(0.8088, device='cuda:0') Testing Accuracy is:  tensor(0.8308, device='cuda:0')\n"
          ]
        },
        {
          "output_type": "stream",
          "name": "stderr",
          "text": [
            "100%|██████████| 938/938 [00:24<00:00, 37.61it/s]\n"
          ]
        },
        {
          "output_type": "stream",
          "name": "stdout",
          "text": [
            "EPOCHS :  2 Training LOSS :  tensor(0.2584, device='cuda:0', dtype=torch.float64, grad_fn=<DivBackward1>) Test Loss:  tensor(0.2698, device='cuda:0', dtype=torch.float64)\n",
            "Training Accuracy is:  tensor(0.8513, device='cuda:0') Testing Accuracy is:  tensor(0.8390, device='cuda:0')\n"
          ]
        },
        {
          "output_type": "stream",
          "name": "stderr",
          "text": [
            "100%|██████████| 938/938 [00:25<00:00, 37.22it/s]\n"
          ]
        },
        {
          "output_type": "stream",
          "name": "stdout",
          "text": [
            "EPOCHS :  3 Training LOSS :  tensor(0.2452, device='cuda:0', dtype=torch.float64, grad_fn=<DivBackward1>) Test Loss:  tensor(0.2217, device='cuda:0', dtype=torch.float64)\n",
            "Training Accuracy is:  tensor(0.8591, device='cuda:0') Testing Accuracy is:  tensor(0.8377, device='cuda:0')\n"
          ]
        },
        {
          "output_type": "stream",
          "name": "stderr",
          "text": [
            "100%|██████████| 938/938 [00:25<00:00, 37.30it/s]\n"
          ]
        },
        {
          "output_type": "stream",
          "name": "stdout",
          "text": [
            "EPOCHS :  4 Training LOSS :  tensor(0.1995, device='cuda:0', dtype=torch.float64, grad_fn=<DivBackward1>) Test Loss:  tensor(0.2931, device='cuda:0', dtype=torch.float64)\n",
            "Training Accuracy is:  tensor(0.8627, device='cuda:0') Testing Accuracy is:  tensor(0.8514, device='cuda:0')\n"
          ]
        },
        {
          "output_type": "stream",
          "name": "stderr",
          "text": [
            "100%|██████████| 938/938 [00:25<00:00, 37.45it/s]\n"
          ]
        },
        {
          "output_type": "stream",
          "name": "stdout",
          "text": [
            "EPOCHS :  5 Training LOSS :  tensor(0.2281, device='cuda:0', dtype=torch.float64, grad_fn=<DivBackward1>) Test Loss:  tensor(0.2410, device='cuda:0', dtype=torch.float64)\n",
            "Training Accuracy is:  tensor(0.8664, device='cuda:0') Testing Accuracy is:  tensor(0.8519, device='cuda:0')\n"
          ]
        },
        {
          "output_type": "stream",
          "name": "stderr",
          "text": [
            "100%|██████████| 938/938 [00:25<00:00, 37.49it/s]\n"
          ]
        },
        {
          "output_type": "stream",
          "name": "stdout",
          "text": [
            "EPOCHS :  6 Training LOSS :  tensor(0.2093, device='cuda:0', dtype=torch.float64, grad_fn=<DivBackward1>) Test Loss:  tensor(0.2113, device='cuda:0', dtype=torch.float64)\n",
            "Training Accuracy is:  tensor(0.8676, device='cuda:0') Testing Accuracy is:  tensor(0.8568, device='cuda:0')\n"
          ]
        },
        {
          "output_type": "stream",
          "name": "stderr",
          "text": [
            "100%|██████████| 938/938 [00:25<00:00, 37.14it/s]\n"
          ]
        },
        {
          "output_type": "stream",
          "name": "stdout",
          "text": [
            "EPOCHS :  7 Training LOSS :  tensor(0.2358, device='cuda:0', dtype=torch.float64, grad_fn=<DivBackward1>) Test Loss:  tensor(0.2552, device='cuda:0', dtype=torch.float64)\n",
            "Training Accuracy is:  tensor(0.8714, device='cuda:0') Testing Accuracy is:  tensor(0.8584, device='cuda:0')\n"
          ]
        },
        {
          "output_type": "stream",
          "name": "stderr",
          "text": [
            "100%|██████████| 938/938 [00:24<00:00, 37.52it/s]\n"
          ]
        },
        {
          "output_type": "stream",
          "name": "stdout",
          "text": [
            "EPOCHS :  8 Training LOSS :  tensor(0.1739, device='cuda:0', dtype=torch.float64, grad_fn=<DivBackward1>) Test Loss:  tensor(0.2673, device='cuda:0', dtype=torch.float64)\n",
            "Training Accuracy is:  tensor(0.8727, device='cuda:0') Testing Accuracy is:  tensor(0.8605, device='cuda:0')\n"
          ]
        },
        {
          "output_type": "stream",
          "name": "stderr",
          "text": [
            "100%|██████████| 938/938 [00:25<00:00, 37.28it/s]\n"
          ]
        },
        {
          "output_type": "stream",
          "name": "stdout",
          "text": [
            "EPOCHS :  9 Training LOSS :  tensor(0.1762, device='cuda:0', dtype=torch.float64, grad_fn=<DivBackward1>) Test Loss:  tensor(0.2081, device='cuda:0', dtype=torch.float64)\n",
            "Training Accuracy is:  tensor(0.8747, device='cuda:0') Testing Accuracy is:  tensor(0.8618, device='cuda:0')\n"
          ]
        },
        {
          "output_type": "stream",
          "name": "stderr",
          "text": [
            "100%|██████████| 938/938 [00:25<00:00, 37.22it/s]\n"
          ]
        },
        {
          "output_type": "stream",
          "name": "stdout",
          "text": [
            "EPOCHS :  10 Training LOSS :  tensor(0.1888, device='cuda:0', dtype=torch.float64, grad_fn=<DivBackward1>) Test Loss:  tensor(0.2098, device='cuda:0', dtype=torch.float64)\n",
            "Training Accuracy is:  tensor(0.8752, device='cuda:0') Testing Accuracy is:  tensor(0.8622, device='cuda:0')\n"
          ]
        },
        {
          "output_type": "stream",
          "name": "stderr",
          "text": [
            "100%|██████████| 938/938 [00:25<00:00, 37.15it/s]\n"
          ]
        },
        {
          "output_type": "stream",
          "name": "stdout",
          "text": [
            "EPOCHS :  11 Training LOSS :  tensor(0.1614, device='cuda:0', dtype=torch.float64, grad_fn=<DivBackward1>) Test Loss:  tensor(0.2427, device='cuda:0', dtype=torch.float64)\n",
            "Training Accuracy is:  tensor(0.8774, device='cuda:0') Testing Accuracy is:  tensor(0.8638, device='cuda:0')\n"
          ]
        },
        {
          "output_type": "stream",
          "name": "stderr",
          "text": [
            "100%|██████████| 938/938 [00:25<00:00, 37.48it/s]\n"
          ]
        },
        {
          "output_type": "stream",
          "name": "stdout",
          "text": [
            "EPOCHS :  12 Training LOSS :  tensor(0.1614, device='cuda:0', dtype=torch.float64, grad_fn=<DivBackward1>) Test Loss:  tensor(0.2881, device='cuda:0', dtype=torch.float64)\n",
            "Training Accuracy is:  tensor(0.8783, device='cuda:0') Testing Accuracy is:  tensor(0.8629, device='cuda:0')\n"
          ]
        },
        {
          "output_type": "stream",
          "name": "stderr",
          "text": [
            "100%|██████████| 938/938 [00:25<00:00, 37.17it/s]\n"
          ]
        },
        {
          "output_type": "stream",
          "name": "stdout",
          "text": [
            "EPOCHS :  13 Training LOSS :  tensor(0.1433, device='cuda:0', dtype=torch.float64, grad_fn=<DivBackward1>) Test Loss:  tensor(0.2428, device='cuda:0', dtype=torch.float64)\n",
            "Training Accuracy is:  tensor(0.8808, device='cuda:0') Testing Accuracy is:  tensor(0.8591, device='cuda:0')\n"
          ]
        },
        {
          "output_type": "stream",
          "name": "stderr",
          "text": [
            "100%|██████████| 938/938 [00:25<00:00, 37.19it/s]\n"
          ]
        },
        {
          "output_type": "stream",
          "name": "stdout",
          "text": [
            "EPOCHS :  14 Training LOSS :  tensor(0.1601, device='cuda:0', dtype=torch.float64, grad_fn=<DivBackward1>) Test Loss:  tensor(0.2658, device='cuda:0', dtype=torch.float64)\n",
            "Training Accuracy is:  tensor(0.8813, device='cuda:0') Testing Accuracy is:  tensor(0.8645, device='cuda:0')\n"
          ]
        },
        {
          "output_type": "stream",
          "name": "stderr",
          "text": [
            "100%|██████████| 938/938 [00:24<00:00, 37.58it/s]\n"
          ]
        },
        {
          "output_type": "stream",
          "name": "stdout",
          "text": [
            "EPOCHS :  15 Training LOSS :  tensor(0.1649, device='cuda:0', dtype=torch.float64, grad_fn=<DivBackward1>) Test Loss:  tensor(0.3074, device='cuda:0', dtype=torch.float64)\n",
            "Training Accuracy is:  tensor(0.8825, device='cuda:0') Testing Accuracy is:  tensor(0.8605, device='cuda:0')\n"
          ]
        },
        {
          "output_type": "stream",
          "name": "stderr",
          "text": [
            "100%|██████████| 938/938 [00:25<00:00, 37.49it/s]\n"
          ]
        },
        {
          "output_type": "stream",
          "name": "stdout",
          "text": [
            "EPOCHS :  16 Training LOSS :  tensor(0.1701, device='cuda:0', dtype=torch.float64, grad_fn=<DivBackward1>) Test Loss:  tensor(0.3083, device='cuda:0', dtype=torch.float64)\n",
            "Training Accuracy is:  tensor(0.8843, device='cuda:0') Testing Accuracy is:  tensor(0.8601, device='cuda:0')\n"
          ]
        },
        {
          "output_type": "stream",
          "name": "stderr",
          "text": [
            "100%|██████████| 938/938 [00:24<00:00, 37.67it/s]\n"
          ]
        },
        {
          "output_type": "stream",
          "name": "stdout",
          "text": [
            "EPOCHS :  17 Training LOSS :  tensor(0.1835, device='cuda:0', dtype=torch.float64, grad_fn=<DivBackward1>) Test Loss:  tensor(0.3257, device='cuda:0', dtype=torch.float64)\n",
            "Training Accuracy is:  tensor(0.8856, device='cuda:0') Testing Accuracy is:  tensor(0.8599, device='cuda:0')\n"
          ]
        },
        {
          "output_type": "stream",
          "name": "stderr",
          "text": [
            "100%|██████████| 938/938 [00:24<00:00, 37.70it/s]\n"
          ]
        },
        {
          "output_type": "stream",
          "name": "stdout",
          "text": [
            "EPOCHS :  18 Training LOSS :  tensor(0.1773, device='cuda:0', dtype=torch.float64, grad_fn=<DivBackward1>) Test Loss:  tensor(0.3222, device='cuda:0', dtype=torch.float64)\n",
            "Training Accuracy is:  tensor(0.8847, device='cuda:0') Testing Accuracy is:  tensor(0.8629, device='cuda:0')\n"
          ]
        },
        {
          "output_type": "stream",
          "name": "stderr",
          "text": [
            "100%|██████████| 938/938 [00:25<00:00, 37.08it/s]\n"
          ]
        },
        {
          "output_type": "stream",
          "name": "stdout",
          "text": [
            "EPOCHS :  19 Training LOSS :  tensor(0.1742, device='cuda:0', dtype=torch.float64, grad_fn=<DivBackward1>) Test Loss:  tensor(0.2943, device='cuda:0', dtype=torch.float64)\n",
            "Training Accuracy is:  tensor(0.8853, device='cuda:0') Testing Accuracy is:  tensor(0.8642, device='cuda:0')\n"
          ]
        },
        {
          "output_type": "stream",
          "name": "stderr",
          "text": [
            "100%|██████████| 938/938 [00:25<00:00, 37.02it/s]\n"
          ]
        },
        {
          "output_type": "stream",
          "name": "stdout",
          "text": [
            "EPOCHS :  20 Training LOSS :  tensor(0.1669, device='cuda:0', dtype=torch.float64, grad_fn=<DivBackward1>) Test Loss:  tensor(0.3109, device='cuda:0', dtype=torch.float64)\n",
            "Training Accuracy is:  tensor(0.8857, device='cuda:0') Testing Accuracy is:  tensor(0.8656, device='cuda:0')\n"
          ]
        },
        {
          "output_type": "stream",
          "name": "stderr",
          "text": [
            "100%|██████████| 938/938 [00:25<00:00, 37.05it/s]\n"
          ]
        },
        {
          "output_type": "stream",
          "name": "stdout",
          "text": [
            "EPOCHS :  21 Training LOSS :  tensor(0.1821, device='cuda:0', dtype=torch.float64, grad_fn=<DivBackward1>) Test Loss:  tensor(0.2858, device='cuda:0', dtype=torch.float64)\n",
            "Training Accuracy is:  tensor(0.8863, device='cuda:0') Testing Accuracy is:  tensor(0.8627, device='cuda:0')\n"
          ]
        },
        {
          "output_type": "stream",
          "name": "stderr",
          "text": [
            "100%|██████████| 938/938 [00:25<00:00, 37.10it/s]\n"
          ]
        },
        {
          "output_type": "stream",
          "name": "stdout",
          "text": [
            "EPOCHS :  22 Training LOSS :  tensor(0.1742, device='cuda:0', dtype=torch.float64, grad_fn=<DivBackward1>) Test Loss:  tensor(0.3293, device='cuda:0', dtype=torch.float64)\n",
            "Training Accuracy is:  tensor(0.8875, device='cuda:0') Testing Accuracy is:  tensor(0.8633, device='cuda:0')\n"
          ]
        },
        {
          "output_type": "stream",
          "name": "stderr",
          "text": [
            "100%|██████████| 938/938 [00:25<00:00, 36.92it/s]\n"
          ]
        },
        {
          "output_type": "stream",
          "name": "stdout",
          "text": [
            "EPOCHS :  23 Training LOSS :  tensor(0.2012, device='cuda:0', dtype=torch.float64, grad_fn=<DivBackward1>) Test Loss:  tensor(0.3831, device='cuda:0', dtype=torch.float64)\n",
            "Training Accuracy is:  tensor(0.8875, device='cuda:0') Testing Accuracy is:  tensor(0.8606, device='cuda:0')\n"
          ]
        },
        {
          "output_type": "stream",
          "name": "stderr",
          "text": [
            "100%|██████████| 938/938 [00:25<00:00, 37.14it/s]\n"
          ]
        },
        {
          "output_type": "stream",
          "name": "stdout",
          "text": [
            "EPOCHS :  24 Training LOSS :  tensor(0.1993, device='cuda:0', dtype=torch.float64, grad_fn=<DivBackward1>) Test Loss:  tensor(0.3167, device='cuda:0', dtype=torch.float64)\n",
            "Training Accuracy is:  tensor(0.8882, device='cuda:0') Testing Accuracy is:  tensor(0.8628, device='cuda:0')\n"
          ]
        },
        {
          "output_type": "stream",
          "name": "stderr",
          "text": [
            "100%|██████████| 938/938 [00:25<00:00, 36.69it/s]\n"
          ]
        },
        {
          "output_type": "stream",
          "name": "stdout",
          "text": [
            "EPOCHS :  25 Training LOSS :  tensor(0.1876, device='cuda:0', dtype=torch.float64, grad_fn=<DivBackward1>) Test Loss:  tensor(0.3441, device='cuda:0', dtype=torch.float64)\n",
            "Training Accuracy is:  tensor(0.8903, device='cuda:0') Testing Accuracy is:  tensor(0.8649, device='cuda:0')\n"
          ]
        },
        {
          "output_type": "stream",
          "name": "stderr",
          "text": [
            "100%|██████████| 938/938 [00:25<00:00, 36.86it/s]\n"
          ]
        },
        {
          "output_type": "stream",
          "name": "stdout",
          "text": [
            "EPOCHS :  26 Training LOSS :  tensor(0.1790, device='cuda:0', dtype=torch.float64, grad_fn=<DivBackward1>) Test Loss:  tensor(0.3215, device='cuda:0', dtype=torch.float64)\n",
            "Training Accuracy is:  tensor(0.8909, device='cuda:0') Testing Accuracy is:  tensor(0.8647, device='cuda:0')\n"
          ]
        },
        {
          "output_type": "stream",
          "name": "stderr",
          "text": [
            "100%|██████████| 938/938 [00:25<00:00, 36.82it/s]\n"
          ]
        },
        {
          "output_type": "stream",
          "name": "stdout",
          "text": [
            "EPOCHS :  27 Training LOSS :  tensor(0.1651, device='cuda:0', dtype=torch.float64, grad_fn=<DivBackward1>) Test Loss:  tensor(0.3343, device='cuda:0', dtype=torch.float64)\n",
            "Training Accuracy is:  tensor(0.8910, device='cuda:0') Testing Accuracy is:  tensor(0.8648, device='cuda:0')\n"
          ]
        },
        {
          "output_type": "stream",
          "name": "stderr",
          "text": [
            "100%|██████████| 938/938 [00:25<00:00, 36.68it/s]\n"
          ]
        },
        {
          "output_type": "stream",
          "name": "stdout",
          "text": [
            "EPOCHS :  28 Training LOSS :  tensor(0.1844, device='cuda:0', dtype=torch.float64, grad_fn=<DivBackward1>) Test Loss:  tensor(0.3248, device='cuda:0', dtype=torch.float64)\n",
            "Training Accuracy is:  tensor(0.8914, device='cuda:0') Testing Accuracy is:  tensor(0.8676, device='cuda:0')\n"
          ]
        },
        {
          "output_type": "stream",
          "name": "stderr",
          "text": [
            "100%|██████████| 938/938 [00:25<00:00, 36.71it/s]\n"
          ]
        },
        {
          "output_type": "stream",
          "name": "stdout",
          "text": [
            "EPOCHS :  29 Training LOSS :  tensor(0.1751, device='cuda:0', dtype=torch.float64, grad_fn=<DivBackward1>) Test Loss:  tensor(0.3686, device='cuda:0', dtype=torch.float64)\n",
            "Training Accuracy is:  tensor(0.8922, device='cuda:0') Testing Accuracy is:  tensor(0.8660, device='cuda:0')\n"
          ]
        },
        {
          "output_type": "stream",
          "name": "stderr",
          "text": [
            "100%|██████████| 938/938 [00:25<00:00, 36.84it/s]\n"
          ]
        },
        {
          "output_type": "stream",
          "name": "stdout",
          "text": [
            "EPOCHS :  30 Training LOSS :  tensor(0.1570, device='cuda:0', dtype=torch.float64, grad_fn=<DivBackward1>) Test Loss:  tensor(0.3134, device='cuda:0', dtype=torch.float64)\n",
            "Training Accuracy is:  tensor(0.8931, device='cuda:0') Testing Accuracy is:  tensor(0.8667, device='cuda:0')\n"
          ]
        },
        {
          "output_type": "stream",
          "name": "stderr",
          "text": [
            "100%|██████████| 938/938 [00:25<00:00, 36.83it/s]\n"
          ]
        },
        {
          "output_type": "stream",
          "name": "stdout",
          "text": [
            "EPOCHS :  31 Training LOSS :  tensor(0.1671, device='cuda:0', dtype=torch.float64, grad_fn=<DivBackward1>) Test Loss:  tensor(0.3058, device='cuda:0', dtype=torch.float64)\n",
            "Training Accuracy is:  tensor(0.8942, device='cuda:0') Testing Accuracy is:  tensor(0.8603, device='cuda:0')\n"
          ]
        },
        {
          "output_type": "stream",
          "name": "stderr",
          "text": [
            "100%|██████████| 938/938 [00:25<00:00, 36.69it/s]\n"
          ]
        },
        {
          "output_type": "stream",
          "name": "stdout",
          "text": [
            "EPOCHS :  32 Training LOSS :  tensor(0.1713, device='cuda:0', dtype=torch.float64, grad_fn=<DivBackward1>) Test Loss:  tensor(0.2981, device='cuda:0', dtype=torch.float64)\n",
            "Training Accuracy is:  tensor(0.8943, device='cuda:0') Testing Accuracy is:  tensor(0.8563, device='cuda:0')\n"
          ]
        },
        {
          "output_type": "stream",
          "name": "stderr",
          "text": [
            "100%|██████████| 938/938 [00:25<00:00, 36.73it/s]\n"
          ]
        },
        {
          "output_type": "stream",
          "name": "stdout",
          "text": [
            "EPOCHS :  33 Training LOSS :  tensor(0.1677, device='cuda:0', dtype=torch.float64, grad_fn=<DivBackward1>) Test Loss:  tensor(0.2812, device='cuda:0', dtype=torch.float64)\n",
            "Training Accuracy is:  tensor(0.8957, device='cuda:0') Testing Accuracy is:  tensor(0.8606, device='cuda:0')\n"
          ]
        },
        {
          "output_type": "stream",
          "name": "stderr",
          "text": [
            "100%|██████████| 938/938 [00:26<00:00, 35.83it/s]\n"
          ]
        },
        {
          "output_type": "stream",
          "name": "stdout",
          "text": [
            "EPOCHS :  34 Training LOSS :  tensor(0.1626, device='cuda:0', dtype=torch.float64, grad_fn=<DivBackward1>) Test Loss:  tensor(0.2646, device='cuda:0', dtype=torch.float64)\n",
            "Training Accuracy is:  tensor(0.8965, device='cuda:0') Testing Accuracy is:  tensor(0.8592, device='cuda:0')\n"
          ]
        },
        {
          "output_type": "stream",
          "name": "stderr",
          "text": [
            "100%|██████████| 938/938 [00:27<00:00, 34.66it/s]\n"
          ]
        },
        {
          "output_type": "stream",
          "name": "stdout",
          "text": [
            "EPOCHS :  35 Training LOSS :  tensor(0.1763, device='cuda:0', dtype=torch.float64, grad_fn=<DivBackward1>) Test Loss:  tensor(0.2842, device='cuda:0', dtype=torch.float64)\n",
            "Training Accuracy is:  tensor(0.8966, device='cuda:0') Testing Accuracy is:  tensor(0.8665, device='cuda:0')\n"
          ]
        },
        {
          "output_type": "stream",
          "name": "stderr",
          "text": [
            "100%|██████████| 938/938 [00:26<00:00, 34.86it/s]\n"
          ]
        },
        {
          "output_type": "stream",
          "name": "stdout",
          "text": [
            "EPOCHS :  36 Training LOSS :  tensor(0.1805, device='cuda:0', dtype=torch.float64, grad_fn=<DivBackward1>) Test Loss:  tensor(0.3209, device='cuda:0', dtype=torch.float64)\n",
            "Training Accuracy is:  tensor(0.8964, device='cuda:0') Testing Accuracy is:  tensor(0.8666, device='cuda:0')\n"
          ]
        },
        {
          "output_type": "stream",
          "name": "stderr",
          "text": [
            "100%|██████████| 938/938 [00:26<00:00, 35.02it/s]\n"
          ]
        },
        {
          "output_type": "stream",
          "name": "stdout",
          "text": [
            "EPOCHS :  37 Training LOSS :  tensor(0.1768, device='cuda:0', dtype=torch.float64, grad_fn=<DivBackward1>) Test Loss:  tensor(0.2791, device='cuda:0', dtype=torch.float64)\n",
            "Training Accuracy is:  tensor(0.8967, device='cuda:0') Testing Accuracy is:  tensor(0.8665, device='cuda:0')\n"
          ]
        },
        {
          "output_type": "stream",
          "name": "stderr",
          "text": [
            "100%|██████████| 938/938 [00:27<00:00, 34.50it/s]\n"
          ]
        },
        {
          "output_type": "stream",
          "name": "stdout",
          "text": [
            "EPOCHS :  38 Training LOSS :  tensor(0.1623, device='cuda:0', dtype=torch.float64, grad_fn=<DivBackward1>) Test Loss:  tensor(0.2862, device='cuda:0', dtype=torch.float64)\n",
            "Training Accuracy is:  tensor(0.8979, device='cuda:0') Testing Accuracy is:  tensor(0.8619, device='cuda:0')\n"
          ]
        },
        {
          "output_type": "stream",
          "name": "stderr",
          "text": [
            "100%|██████████| 938/938 [00:26<00:00, 35.57it/s]\n"
          ]
        },
        {
          "output_type": "stream",
          "name": "stdout",
          "text": [
            "EPOCHS :  39 Training LOSS :  tensor(0.1642, device='cuda:0', dtype=torch.float64, grad_fn=<DivBackward1>) Test Loss:  tensor(0.2819, device='cuda:0', dtype=torch.float64)\n",
            "Training Accuracy is:  tensor(0.8970, device='cuda:0') Testing Accuracy is:  tensor(0.8608, device='cuda:0')\n"
          ]
        },
        {
          "output_type": "stream",
          "name": "stderr",
          "text": [
            "100%|██████████| 938/938 [00:25<00:00, 37.00it/s]\n"
          ]
        },
        {
          "output_type": "stream",
          "name": "stdout",
          "text": [
            "EPOCHS :  40 Training LOSS :  tensor(0.1234, device='cuda:0', dtype=torch.float64, grad_fn=<DivBackward1>) Test Loss:  tensor(0.1701, device='cuda:0', dtype=torch.float64)\n",
            "Training Accuracy is:  tensor(0.8996, device='cuda:0') Testing Accuracy is:  tensor(0.8809, device='cuda:0')\n"
          ]
        },
        {
          "output_type": "stream",
          "name": "stderr",
          "text": [
            "100%|██████████| 938/938 [00:11<00:00, 79.05it/s]\n"
          ]
        },
        {
          "output_type": "stream",
          "name": "stdout",
          "text": [
            "EPOCHS :  41 Training LOSS :  tensor(0.1018, device='cuda:0', dtype=torch.float64, grad_fn=<DivBackward1>) Test Loss:  tensor(0.1846, device='cuda:0', dtype=torch.float64)\n",
            "Training Accuracy is:  tensor(0.9140, device='cuda:0') Testing Accuracy is:  tensor(0.8828, device='cuda:0')\n"
          ]
        },
        {
          "output_type": "stream",
          "name": "stderr",
          "text": [
            "100%|██████████| 938/938 [00:11<00:00, 79.02it/s]\n"
          ]
        },
        {
          "output_type": "stream",
          "name": "stdout",
          "text": [
            "EPOCHS :  42 Training LOSS :  tensor(0.0986, device='cuda:0', dtype=torch.float64, grad_fn=<DivBackward1>) Test Loss:  tensor(0.1916, device='cuda:0', dtype=torch.float64)\n",
            "Training Accuracy is:  tensor(0.9179, device='cuda:0') Testing Accuracy is:  tensor(0.8838, device='cuda:0')\n"
          ]
        },
        {
          "output_type": "stream",
          "name": "stderr",
          "text": [
            "100%|██████████| 938/938 [00:11<00:00, 78.98it/s]\n"
          ]
        },
        {
          "output_type": "stream",
          "name": "stdout",
          "text": [
            "EPOCHS :  43 Training LOSS :  tensor(0.0979, device='cuda:0', dtype=torch.float64, grad_fn=<DivBackward1>) Test Loss:  tensor(0.1979, device='cuda:0', dtype=torch.float64)\n",
            "Training Accuracy is:  tensor(0.9203, device='cuda:0') Testing Accuracy is:  tensor(0.8845, device='cuda:0')\n"
          ]
        },
        {
          "output_type": "stream",
          "name": "stderr",
          "text": [
            "100%|██████████| 938/938 [00:11<00:00, 79.09it/s]\n"
          ]
        },
        {
          "output_type": "stream",
          "name": "stdout",
          "text": [
            "EPOCHS :  44 Training LOSS :  tensor(0.0977, device='cuda:0', dtype=torch.float64, grad_fn=<DivBackward1>) Test Loss:  tensor(0.2052, device='cuda:0', dtype=torch.float64)\n",
            "Training Accuracy is:  tensor(0.9220, device='cuda:0') Testing Accuracy is:  tensor(0.8842, device='cuda:0')\n"
          ]
        },
        {
          "output_type": "stream",
          "name": "stderr",
          "text": [
            "100%|██████████| 938/938 [00:11<00:00, 78.76it/s]\n"
          ]
        },
        {
          "output_type": "stream",
          "name": "stdout",
          "text": [
            "EPOCHS :  45 Training LOSS :  tensor(0.0977, device='cuda:0', dtype=torch.float64, grad_fn=<DivBackward1>) Test Loss:  tensor(0.2130, device='cuda:0', dtype=torch.float64)\n",
            "Training Accuracy is:  tensor(0.9231, device='cuda:0') Testing Accuracy is:  tensor(0.8841, device='cuda:0')\n"
          ]
        },
        {
          "output_type": "stream",
          "name": "stderr",
          "text": [
            "100%|██████████| 938/938 [00:11<00:00, 78.47it/s]\n"
          ]
        },
        {
          "output_type": "stream",
          "name": "stdout",
          "text": [
            "EPOCHS :  46 Training LOSS :  tensor(0.0976, device='cuda:0', dtype=torch.float64, grad_fn=<DivBackward1>) Test Loss:  tensor(0.2207, device='cuda:0', dtype=torch.float64)\n",
            "Training Accuracy is:  tensor(0.9241, device='cuda:0') Testing Accuracy is:  tensor(0.8846, device='cuda:0')\n"
          ]
        },
        {
          "output_type": "stream",
          "name": "stderr",
          "text": [
            "100%|██████████| 938/938 [00:11<00:00, 78.52it/s]\n"
          ]
        },
        {
          "output_type": "stream",
          "name": "stdout",
          "text": [
            "EPOCHS :  47 Training LOSS :  tensor(0.0974, device='cuda:0', dtype=torch.float64, grad_fn=<DivBackward1>) Test Loss:  tensor(0.2282, device='cuda:0', dtype=torch.float64)\n",
            "Training Accuracy is:  tensor(0.9252, device='cuda:0') Testing Accuracy is:  tensor(0.8846, device='cuda:0')\n"
          ]
        },
        {
          "output_type": "stream",
          "name": "stderr",
          "text": [
            "100%|██████████| 938/938 [00:11<00:00, 78.59it/s]\n"
          ]
        },
        {
          "output_type": "stream",
          "name": "stdout",
          "text": [
            "EPOCHS :  48 Training LOSS :  tensor(0.0972, device='cuda:0', dtype=torch.float64, grad_fn=<DivBackward1>) Test Loss:  tensor(0.2351, device='cuda:0', dtype=torch.float64)\n",
            "Training Accuracy is:  tensor(0.9256, device='cuda:0') Testing Accuracy is:  tensor(0.8849, device='cuda:0')\n"
          ]
        },
        {
          "output_type": "stream",
          "name": "stderr",
          "text": [
            "100%|██████████| 938/938 [00:11<00:00, 78.60it/s]\n"
          ]
        },
        {
          "output_type": "stream",
          "name": "stdout",
          "text": [
            "EPOCHS :  49 Training LOSS :  tensor(0.0968, device='cuda:0', dtype=torch.float64, grad_fn=<DivBackward1>) Test Loss:  tensor(0.2416, device='cuda:0', dtype=torch.float64)\n",
            "Training Accuracy is:  tensor(0.9260, device='cuda:0') Testing Accuracy is:  tensor(0.8847, device='cuda:0')\n"
          ]
        },
        {
          "output_type": "stream",
          "name": "stderr",
          "text": [
            "100%|██████████| 938/938 [00:11<00:00, 78.57it/s]\n"
          ]
        },
        {
          "output_type": "stream",
          "name": "stdout",
          "text": [
            "EPOCHS :  50 Training LOSS :  tensor(0.0964, device='cuda:0', dtype=torch.float64, grad_fn=<DivBackward1>) Test Loss:  tensor(0.2476, device='cuda:0', dtype=torch.float64)\n",
            "Training Accuracy is:  tensor(0.9264, device='cuda:0') Testing Accuracy is:  tensor(0.8854, device='cuda:0')\n"
          ]
        }
      ]
    },
    {
      "cell_type": "code",
      "source": [
        "test(NET)"
      ],
      "metadata": {
        "colab": {
          "base_uri": "https://localhost:8080/"
        },
        "id": "j6lV-SkxmphL",
        "outputId": "e68b2080-ac63-4233-8e28-7f529f6d790c"
      },
      "execution_count": 502,
      "outputs": [
        {
          "output_type": "stream",
          "name": "stderr",
          "text": [
            "100%|██████████| 157/157 [00:00<00:00, 239.79it/s]"
          ]
        },
        {
          "output_type": "stream",
          "name": "stdout",
          "text": [
            "tensor(0.8854, device='cuda:0')\n"
          ]
        },
        {
          "output_type": "stream",
          "name": "stderr",
          "text": [
            "\n"
          ]
        }
      ]
    },
    {
      "cell_type": "code",
      "source": [
        "#NOTE:\n",
        "#1. EPOCHS =100, lr =0.1, BLOCKS =2, accuracy: 73 (Train), 72(Test), Activation: Relu\n",
        "#2. EPOCHS =100, lr =0.1, BLOCKS =1, accuracy: 74.93 (Train), 73.18(Test), Activation: Relu\n",
        "#2. EPOCHS =100, lr =0.1, BLOCKS =2, accuracy: 84.82 (Train), 82.34(Test), Activation: TanH\n",
        "#2. EPOCHS =100, lr =0.13, BLOCKS =3, accuracy: 81.56 (Train), 80.02(Test), Activation: TanH\n",
        "\n",
        "#IDEAL MODELS:\n",
        "#1. EPOCHS:100, lr = 0.2, BLOCKS = 2, Accuracy: 83.39 (Train), 81.62 (Test), Activation: TanH, Train Loss: 1.5554 LOG: (01:09 AM, 08-04-2022)\n",
        "#                                     Top Record: 85.01 (Train), 82.05 (Test), Loss: 1.55490 LOG: (03:07 AM, 08-04-2022)  #Automated Blocks and Used nn.Tanh()\n",
        "\n",
        "#2. EPOCHS: 100, lr =0.2, BLOCKS = 2, Accuracy: 91.61 (Train), 86.97 (Test), Activation: TanH, Train Loss: 1.5031 / 1.4612 (Lowest) LOG: (03:39 AM, 08-04-2022)\n",
        "#                                   #Used Kaiming Uniform Initialization \n",
        "\n",
        "\n",
        "#3. EPOCHS: 50, AdamW optimizer, Blocks = 2, Accuracy: 92.82 (Train), 86.92 (Test) LOG: (06:28 AM, 08-04-2022)\n",
        "#4. EPOCHS: 50, SWATS optimizer, Blocks = 2, Accuracy: 98.66 (Train), 87.93 (Test), LOG: (06:54 AM, 08-04-2022)\n",
        "#5. EPOCHS: 50, SWATS optimizer(L2 regularized 0.001, amsgrad = True, Nesterov = True),\n",
        "#                               Blocks = 2, Accuracy: 90.97 (Train), 88.17 (Test), Training Loss: 0.1185, Test Loss: 0.2295  LOG: (07:45 AM, 08-04-2022)\n",
        "#6[CURRENT RECORD]. EPOCHS: 50, SWATS optimizer(L2 regularized 0.001, amsgrad = True, Nesterov = True),\n",
        "#                               Blocks = 4, Accuracy: 92.64 (Train), 88.54 (Test), Training Loss: 0.0964, Test Loss: 0.2476  LOG: (08:13 AM, 08-04-2022)"
      ],
      "metadata": {
        "id": "wu1tb1actK-P"
      },
      "execution_count": 503,
      "outputs": []
    },
    {
      "cell_type": "code",
      "source": [
        "#NOTE TO SELF:\n",
        "#1. Linear Layer uses Uniform Weight Initialization, Try out Kaiming_he and Xavier Initialization\n",
        "#2. I AM AN IDIOT: APPARENTLY CROSSENTROPYLOSS CALCULATES SOFTMAX OUTPUT THEN CALCULATES LOSS, I WAS DOING SOFTMAX MANUALLY. \n",
        "#                  THE MODEL CALCULATED SOFTMAX TWICE BEFORE THE OUTPUT, HENCE RESULTING IN HIGH LOSS AND LOW ACCURACY. LOG: (05:52 AM, 08-04-2022)"
      ],
      "metadata": {
        "id": "jSlpuJUn7eI5"
      },
      "execution_count": 504,
      "outputs": []
    },
    {
      "cell_type": "code",
      "source": [
        ""
      ],
      "metadata": {
        "id": "1nqq4cS078XI"
      },
      "execution_count": null,
      "outputs": []
    }
  ]
}