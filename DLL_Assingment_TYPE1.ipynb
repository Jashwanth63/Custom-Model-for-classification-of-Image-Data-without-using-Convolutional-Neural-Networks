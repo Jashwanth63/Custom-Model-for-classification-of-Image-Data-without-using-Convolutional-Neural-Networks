{
  "nbformat": 4,
  "nbformat_minor": 0,
  "metadata": {
    "colab": {
      "name": "DLL_Assingment_TYPE1.ipynb",
      "provenance": [],
      "collapsed_sections": [],
      "machine_shape": "hm",
      "authorship_tag": "ABX9TyOpVQOm0viJwBuqYNN9Ow+Y",
      "include_colab_link": true
    },
    "kernelspec": {
      "name": "python3",
      "display_name": "Python 3"
    },
    "language_info": {
      "name": "python"
    },
    "accelerator": "GPU"
  },
  "cells": [
    {
      "cell_type": "markdown",
      "metadata": {
        "id": "view-in-github",
        "colab_type": "text"
      },
      "source": [
        "<a href=\"https://colab.research.google.com/github/Jashwanth63/Custom-Model-for-classification-of-Image-Data-without-using-Convolutional-Neural-Networks/blob/main/DLL_Assingment_TYPE1.ipynb\" target=\"_parent\"><img src=\"https://colab.research.google.com/assets/colab-badge.svg\" alt=\"Open In Colab\"/></a>"
      ]
    },
    {
      "cell_type": "code",
      "execution_count": 234,
      "metadata": {
        "id": "YrsjHvrSlsEM"
      },
      "outputs": [],
      "source": [
        "import pickle\n",
        "import torch\n",
        "import torch.nn as nn\n",
        "from torchvision.datasets import FashionMNIST\n",
        "import matplotlib.pyplot as plt\n",
        "%matplotlib inline\n",
        "import numpy as np\n",
        "import torchvision\n",
        "from torchvision import transforms\n",
        "from torch.utils.data import TensorDataset\n",
        "import torch.nn.functional as F\n",
        "import torch.optim as optim\n",
        "import tqdm as tqdm"
      ]
    },
    {
      "cell_type": "code",
      "source": [
        "if torch.cuda.is_available():\n",
        "  device = torch.device(\"cuda:0\")\n",
        "else:\n",
        "  device = torch.device(\"cpu\")"
      ],
      "metadata": {
        "id": "YcyWoDoultR7"
      },
      "execution_count": 235,
      "outputs": []
    },
    {
      "cell_type": "code",
      "source": [
        "device"
      ],
      "metadata": {
        "colab": {
          "base_uri": "https://localhost:8080/"
        },
        "id": "k6zR75DZnHIQ",
        "outputId": "fa3a863c-dca7-4c29-c564-2b4935441f07"
      },
      "execution_count": 236,
      "outputs": [
        {
          "output_type": "execute_result",
          "data": {
            "text/plain": [
              "device(type='cuda', index=0)"
            ]
          },
          "metadata": {},
          "execution_count": 236
        }
      ]
    },
    {
      "cell_type": "code",
      "source": [
        "def write_vectorised(data, data_usecase):\n",
        "  if data_usecase == \"TRAIN\":\n",
        "    with open(\"vectorised_train.txt\", \"wb\") as file_pointer:\n",
        "      pickle.dump(data, file_pointer)\n",
        "  elif data_usecase == \"TEST\":\n",
        "    with open(\"vectorised_test.txt\",\"wb\") as file_pointer:\n",
        "      pickle.dump(data, file_pointer)\n",
        "      \n",
        "def read_vectorised(data_usecase):\n",
        "  if data_usecase == \"TRAIN\":\n",
        "    with open(\"vectorised_train.txt\", \"rb\") as file_pointer:\n",
        "      return pickle.load(file_pointer)\n",
        "  elif data_usecase == \"TEST\":\n",
        "    with open(\"vectorised_test.txt\",\"rb\") as file_pointer:\n",
        "      return pickle.load(file_pointer)\n"
      ],
      "metadata": {
        "id": "wfxqOsMolu1J"
      },
      "execution_count": 237,
      "outputs": []
    },
    {
      "cell_type": "code",
      "source": [
        "def download_data(b_size=64):  \n",
        "    \"\"\"Download the Fashion-MNIST dataset and then load it into memory.\"\"\"\n",
        "    mnist_train = torchvision.datasets.FashionMNIST(\".\", train = True, transform = transforms.ToTensor(), target_transform= transforms.Lambda(lambda x:torch.zeros(\n",
        "            10, dtype = torch.float64).scatter_(dim = 0, index= torch.tensor(x), value = 1)) ,download = True)\n",
        "    mnist_train = torch.utils.data.DataLoader(mnist_train, batch_size = b_size, shuffle = True, num_workers = 3)\n",
        "\n",
        "    mnist_test = torchvision.datasets.FashionMNIST(\".\", train = False, transform = transforms.ToTensor(), target_transform = transforms.Lambda(\n",
        "        lambda x:torch.zeros(10, dtype = torch.float64).scatter_(dim=0, index = torch.tensor(x), value = 1)), download = True)\n",
        "    mnist_test = torch.utils.data.DataLoader(mnist_test, batch_size=b_size, shuffle = True, num_workers = 3)\n",
        "    return mnist_train, mnist_test  "
      ],
      "metadata": {
        "id": "bYWTy9SbmMq7"
      },
      "execution_count": 238,
      "outputs": []
    },
    {
      "cell_type": "code",
      "source": [
        "training,  testing = download_data(b_size=64)"
      ],
      "metadata": {
        "id": "FjQKdgUOmQX0"
      },
      "execution_count": 239,
      "outputs": []
    },
    {
      "cell_type": "code",
      "source": [
        "def patch_tensor_maker(image, patch_size, im_size):\n",
        "  elements = []\n",
        "  for l in range(0, im_size-patch_size+1, patch_size):\n",
        "    for k in range(0, im_size-patch_size+1, patch_size):\n",
        "      patch = []\n",
        "      for i in range(patch_size):\n",
        "        temp = []\n",
        "        for j in range(patch_size):\n",
        "          temp.append(image[l+i][k+j])\n",
        "        patch.append(temp)\n",
        "      elements.append(patch)\n",
        "  return elements\n",
        "\n",
        "\n",
        "def patch_maker(data, patch_size = 4):\n",
        "  data_list_main = list()\n",
        "  for i, batch in enumerate(data):\n",
        "    batch_vectorised = []\n",
        "    for image in batch[0]:\n",
        "      im_size = image.size()[1]\n",
        "      batch_vectorised.append(patch_tensor_maker(image.view(im_size, im_size), patch_size, im_size))\n",
        "    main_data = torch.Tensor(batch_vectorised)\n",
        "    main_labels = batch[1]\n",
        "    data_list_main.append([main_data, main_labels])\n",
        "    #data_list_main= TensorDataset([main_data, main_labels])\n",
        "  #return torch.utils.data.DataLoader(iter(data_list_main))\n",
        "  return data_list_main"
      ],
      "metadata": {
        "id": "W-xEzmEQmShS"
      },
      "execution_count": 7,
      "outputs": []
    },
    {
      "cell_type": "code",
      "source": [
        "train_data = patch_maker(training)\n",
        "test_data = patch_maker(testing)"
      ],
      "metadata": {
        "id": "1SEh5q1gmUkI"
      },
      "execution_count": 9,
      "outputs": []
    },
    {
      "cell_type": "code",
      "source": [
        "#Vectorize (4,4) => (16)\n",
        "for i in range(len(train_data)):\n",
        "    train_data[i][0] = train_data[i][0].view(-1, 49, 16) \n",
        "\n",
        "for i in range(len(test_data)):\n",
        "    test_data[i][0] = test_data[i][0].view(-1, 49, 16) "
      ],
      "metadata": {
        "id": "83EAoOvZmVur"
      },
      "execution_count": 10,
      "outputs": []
    },
    {
      "cell_type": "code",
      "source": [
        "write_vectorised(train_data, data_usecase = \"TRAIN\")\n",
        "write_vectorised(test_data, data_usecase = \"TEST\")\n"
      ],
      "metadata": {
        "id": "4bu3nqycp88S"
      },
      "execution_count": 13,
      "outputs": []
    },
    {
      "cell_type": "code",
      "source": [
        "train_data = read_vectorised(data_usecase = \"TRAIN\") \n",
        "test_data = read_vectorised(data_usecase = \"TEST\") "
      ],
      "metadata": {
        "id": "WfXMCg62qZRx"
      },
      "execution_count": 240,
      "outputs": []
    },
    {
      "cell_type": "code",
      "source": [
        "[1,2,3]*2"
      ],
      "metadata": {
        "colab": {
          "base_uri": "https://localhost:8080/"
        },
        "id": "BPSEqRIOuo43",
        "outputId": "34d4d73f-bcd0-4e24-a890-6ae72a6e67de"
      },
      "execution_count": 40,
      "outputs": [
        {
          "output_type": "execute_result",
          "data": {
            "text/plain": [
              "[1, 2, 3, 1, 2, 3]"
            ]
          },
          "metadata": {},
          "execution_count": 40
        }
      ]
    },
    {
      "cell_type": "code",
      "source": [
        "3%2"
      ],
      "metadata": {
        "colab": {
          "base_uri": "https://localhost:8080/"
        },
        "id": "R9j_OLkg5yHW",
        "outputId": "040972e5-8adb-48a7-a19d-629a7564deed"
      },
      "execution_count": 65,
      "outputs": [
        {
          "output_type": "execute_result",
          "data": {
            "text/plain": [
              "1"
            ]
          },
          "metadata": {},
          "execution_count": 65
        }
      ]
    },
    {
      "cell_type": "code",
      "source": [
        "1%2"
      ],
      "metadata": {
        "colab": {
          "base_uri": "https://localhost:8080/"
        },
        "id": "jQVt7lvN69kA",
        "outputId": "628035c5-facc-4dba-ec28-6c97e5de677b"
      },
      "execution_count": 67,
      "outputs": [
        {
          "output_type": "execute_result",
          "data": {
            "text/plain": [
              "1"
            ]
          },
          "metadata": {},
          "execution_count": 67
        }
      ]
    },
    {
      "cell_type": "code",
      "source": [
        "class net(nn.Module):\n",
        "  def __init__(self, block_size):\n",
        "    super(net, self).__init__()\n",
        "\n",
        "    #STEM\n",
        "    self.linear = nn.Linear(16, 512)\n",
        "\n",
        "    #BACKBONE\n",
        "    self.blocks = block_size\n",
        "\n",
        "\n",
        "    #self.mlp_1 = nn.ModuleList([nn.Linear(49, 49), nn.Linear(49, 49)])\n",
        "    #self.mlp_2 = nn.ModuleList([nn.Linear(256, 256), nn.Linear(256,256)])\n",
        "\n",
        "    #self.block = nn.ModuleList([self.mlp_1, self.mlp_2]*2)\n",
        "\n",
        "    #self.hidden1 = nn.ModuleList([nn.Linear(49,49) for i in range(self.blocks)])\n",
        "    #self.hidden2 = nn.ModuleList([nn.Linear(49,49) for i in range(self.blocks)])\n",
        "    #self.hidden3 = nn.ModuleList([nn.Linear(256,256) for i in range(self.blocks)])\n",
        "    #self.hidden4 = nn.ModuleList([nn.Linear(256, 256) for i in range(self.blocks)])\n",
        "\n",
        "    self.block1 = nn.ModuleList([nn.Linear(49,49), nn.Linear(49,49), nn.Linear(512,512),\n",
        "                                 nn.Linear(512,512)])\n",
        "    self.block2 = nn.ModuleList([nn.Linear(49,49), nn.Linear(49,49), nn.Linear(512,512),\n",
        "                                 nn.Linear(512,512)])\n",
        "    self.block3 = nn.ModuleList([nn.Linear(49,49), nn.Linear(49,49), nn.Linear(512, 512),\n",
        "                                 nn.Linear(512,512)])\n",
        "\n",
        "\n",
        "    #CLASSIFIER\n",
        "    self.output = nn.Linear(512, 10)\n",
        "    self.probs = nn.Softmax(dim=1)\n",
        "\n",
        "\n",
        "  def forward(self, x):\n",
        "    #STEM\n",
        "    x = self.linear(x)\n",
        "\n",
        "    #BACKBONE\n",
        "    x = self.block_caller(x, self.block1)\n",
        "    x = self.block_caller(x, self.block2)\n",
        "    #x = self.block_caller(x, self.block3)\n",
        "\n",
        "    #CLASSIFIER\n",
        "    x = torch.sum(x, dim=1) / x[1].size()[0]\n",
        "    x = self.output(x)\n",
        "    x = self.probs(x)\n",
        "    return x\n",
        "\n",
        "\n",
        "  def block_caller(self, x, block):\n",
        "    #BACKBONE - EACH BLOCK HERE HAS 2 MLPS\n",
        "    for i, layers in enumerate(block):\n",
        "      #h1 = self.hidden1[i]\n",
        "      #h2 = self.hidden2[i]\n",
        "      if i==0:\n",
        "        x = x.transpose(1,2)  #X=> X^T\n",
        "        x = F.tanh(block[i](x)) #g(X^T,W1) , g() is relu()\n",
        "      elif i==1:\n",
        "        x = block[i](x) #g() X W2\n",
        "      \n",
        "      #h3 = self.hidden3[i]\n",
        "      #h4 = self.hidden4[i]\n",
        "      elif i==2:\n",
        "        x = x.transpose(1,2) #O1 => O1^T\n",
        "        x = F.tanh(block[i](x))  #g(O1, W3), g() is relu()\n",
        "      elif i==3:\n",
        "        x = block[i](x) #g() X W4\n",
        "    return x\n",
        "\n",
        "  "
      ],
      "metadata": {
        "id": "jY93OtmdmcNO"
      },
      "execution_count": 241,
      "outputs": []
    },
    {
      "cell_type": "code",
      "source": [
        "NET = net(block_size=1).to(device)"
      ],
      "metadata": {
        "id": "_hSr6YVW7iuB"
      },
      "execution_count": 242,
      "outputs": []
    },
    {
      "cell_type": "code",
      "source": [
        "optimizer = optim.SGD(NET.parameters(), lr = 0.1)\n",
        "loss_function = nn.CrossEntropyLoss()"
      ],
      "metadata": {
        "id": "00DsRt2gmhH9"
      },
      "execution_count": 243,
      "outputs": []
    },
    {
      "cell_type": "code",
      "source": [
        "def accuracy_calculator(hyp, y):\n",
        "  a = torch.argmax(hyp, dim=1)\n",
        "  b = torch.argmax(y, dim=1)\n",
        "  return torch.sum(a==b)"
      ],
      "metadata": {
        "id": "dbXQzHQoqNQS"
      },
      "execution_count": 244,
      "outputs": []
    },
    {
      "cell_type": "code",
      "source": [
        "def train(out):\n",
        "  EPOCHS = 100\n",
        "  accuracy = 0\n",
        "  for i in range(EPOCHS):\n",
        "      accuracy = 0\n",
        "      for i in tqdm.tqdm(range(len(train_data))): \n",
        "          X, y = train_data[i]\n",
        "          X = X.to(device)\n",
        "          y = y.to(device)\n",
        "          out.zero_grad()\n",
        "          hypothesis = out(X)\n",
        "          hypothesis.to(device)\n",
        "          accuracy += accuracy_calculator(hypothesis, y)\n",
        "          loss = loss_function(hypothesis, y)\n",
        "          loss.backward()\n",
        "          optimizer.step()\n",
        "\n",
        "      print(\"LOSS is: \",loss)\n",
        "      print(\"Accuracy is: \",accuracy/60000)\n",
        "  \n",
        "\n",
        "def test(out):\n",
        "  accuracy = 0\n",
        "  with torch.no_grad():\n",
        "    for i in tqdm.tqdm(range(len(test_data))):\n",
        "          X, y = test_data[i]\n",
        "          X = X.to(device)\n",
        "          y = y.to(device)\n",
        "          hypothesis = out(X)\n",
        "          hypothesis.to(device)\n",
        "          accuracy += accuracy_calculator(hypothesis, y)\n",
        "    print(accuracy/10000)"
      ],
      "metadata": {
        "id": "eKRE1EmKmht9"
      },
      "execution_count": 245,
      "outputs": []
    },
    {
      "cell_type": "code",
      "source": [
        "train(NET)"
      ],
      "metadata": {
        "colab": {
          "base_uri": "https://localhost:8080/"
        },
        "id": "CkyS_iMemo3J",
        "outputId": "89c7caf1-74b3-46bd-9709-8dabb222cb8e"
      },
      "execution_count": 246,
      "outputs": [
        {
          "output_type": "stream",
          "name": "stderr",
          "text": [
            "  0%|          | 0/938 [00:00<?, ?it/s]/usr/local/lib/python3.7/dist-packages/torch/nn/functional.py:1795: UserWarning: nn.functional.tanh is deprecated. Use torch.tanh instead.\n",
            "  warnings.warn(\"nn.functional.tanh is deprecated. Use torch.tanh instead.\")\n",
            "100%|██████████| 938/938 [00:06<00:00, 148.70it/s]\n"
          ]
        },
        {
          "output_type": "stream",
          "name": "stdout",
          "text": [
            "LOSS is:  tensor(2.3032, device='cuda:0', dtype=torch.float64, grad_fn=<DivBackward1>)\n",
            "Accuracy is:  tensor(0.0994, device='cuda:0')\n"
          ]
        },
        {
          "output_type": "stream",
          "name": "stderr",
          "text": [
            "100%|██████████| 938/938 [00:06<00:00, 149.16it/s]\n"
          ]
        },
        {
          "output_type": "stream",
          "name": "stdout",
          "text": [
            "LOSS is:  tensor(2.3030, device='cuda:0', dtype=torch.float64, grad_fn=<DivBackward1>)\n",
            "Accuracy is:  tensor(0.0996, device='cuda:0')\n"
          ]
        },
        {
          "output_type": "stream",
          "name": "stderr",
          "text": [
            "100%|██████████| 938/938 [00:06<00:00, 148.96it/s]\n"
          ]
        },
        {
          "output_type": "stream",
          "name": "stdout",
          "text": [
            "LOSS is:  tensor(2.3029, device='cuda:0', dtype=torch.float64, grad_fn=<DivBackward1>)\n",
            "Accuracy is:  tensor(0.1015, device='cuda:0')\n"
          ]
        },
        {
          "output_type": "stream",
          "name": "stderr",
          "text": [
            "100%|██████████| 938/938 [00:06<00:00, 149.19it/s]\n"
          ]
        },
        {
          "output_type": "stream",
          "name": "stdout",
          "text": [
            "LOSS is:  tensor(2.3027, device='cuda:0', dtype=torch.float64, grad_fn=<DivBackward1>)\n",
            "Accuracy is:  tensor(0.1089, device='cuda:0')\n"
          ]
        },
        {
          "output_type": "stream",
          "name": "stderr",
          "text": [
            "100%|██████████| 938/938 [00:06<00:00, 148.89it/s]\n"
          ]
        },
        {
          "output_type": "stream",
          "name": "stdout",
          "text": [
            "LOSS is:  tensor(2.3020, device='cuda:0', dtype=torch.float64, grad_fn=<DivBackward1>)\n",
            "Accuracy is:  tensor(0.1280, device='cuda:0')\n"
          ]
        },
        {
          "output_type": "stream",
          "name": "stderr",
          "text": [
            "100%|██████████| 938/938 [00:06<00:00, 149.05it/s]\n"
          ]
        },
        {
          "output_type": "stream",
          "name": "stdout",
          "text": [
            "LOSS is:  tensor(2.1924, device='cuda:0', dtype=torch.float64, grad_fn=<DivBackward1>)\n",
            "Accuracy is:  tensor(0.1826, device='cuda:0')\n"
          ]
        },
        {
          "output_type": "stream",
          "name": "stderr",
          "text": [
            "100%|██████████| 938/938 [00:06<00:00, 148.94it/s]\n"
          ]
        },
        {
          "output_type": "stream",
          "name": "stdout",
          "text": [
            "LOSS is:  tensor(1.9473, device='cuda:0', dtype=torch.float64, grad_fn=<DivBackward1>)\n",
            "Accuracy is:  tensor(0.3493, device='cuda:0')\n"
          ]
        },
        {
          "output_type": "stream",
          "name": "stderr",
          "text": [
            "100%|██████████| 938/938 [00:06<00:00, 149.04it/s]\n"
          ]
        },
        {
          "output_type": "stream",
          "name": "stdout",
          "text": [
            "LOSS is:  tensor(1.9205, device='cuda:0', dtype=torch.float64, grad_fn=<DivBackward1>)\n",
            "Accuracy is:  tensor(0.4960, device='cuda:0')\n"
          ]
        },
        {
          "output_type": "stream",
          "name": "stderr",
          "text": [
            "100%|██████████| 938/938 [00:06<00:00, 149.37it/s]\n"
          ]
        },
        {
          "output_type": "stream",
          "name": "stdout",
          "text": [
            "LOSS is:  tensor(1.8767, device='cuda:0', dtype=torch.float64, grad_fn=<DivBackward1>)\n",
            "Accuracy is:  tensor(0.5206, device='cuda:0')\n"
          ]
        },
        {
          "output_type": "stream",
          "name": "stderr",
          "text": [
            "100%|██████████| 938/938 [00:06<00:00, 149.00it/s]\n"
          ]
        },
        {
          "output_type": "stream",
          "name": "stdout",
          "text": [
            "LOSS is:  tensor(1.8166, device='cuda:0', dtype=torch.float64, grad_fn=<DivBackward1>)\n",
            "Accuracy is:  tensor(0.5368, device='cuda:0')\n"
          ]
        },
        {
          "output_type": "stream",
          "name": "stderr",
          "text": [
            "100%|██████████| 938/938 [00:06<00:00, 149.26it/s]\n"
          ]
        },
        {
          "output_type": "stream",
          "name": "stdout",
          "text": [
            "LOSS is:  tensor(1.8194, device='cuda:0', dtype=torch.float64, grad_fn=<DivBackward1>)\n",
            "Accuracy is:  tensor(0.5457, device='cuda:0')\n"
          ]
        },
        {
          "output_type": "stream",
          "name": "stderr",
          "text": [
            "100%|██████████| 938/938 [00:06<00:00, 149.02it/s]\n"
          ]
        },
        {
          "output_type": "stream",
          "name": "stdout",
          "text": [
            "LOSS is:  tensor(1.7722, device='cuda:0', dtype=torch.float64, grad_fn=<DivBackward1>)\n",
            "Accuracy is:  tensor(0.5494, device='cuda:0')\n"
          ]
        },
        {
          "output_type": "stream",
          "name": "stderr",
          "text": [
            "100%|██████████| 938/938 [00:06<00:00, 149.03it/s]\n"
          ]
        },
        {
          "output_type": "stream",
          "name": "stdout",
          "text": [
            "LOSS is:  tensor(1.7754, device='cuda:0', dtype=torch.float64, grad_fn=<DivBackward1>)\n",
            "Accuracy is:  tensor(0.5520, device='cuda:0')\n"
          ]
        },
        {
          "output_type": "stream",
          "name": "stderr",
          "text": [
            "100%|██████████| 938/938 [00:06<00:00, 149.17it/s]\n"
          ]
        },
        {
          "output_type": "stream",
          "name": "stdout",
          "text": [
            "LOSS is:  tensor(1.7567, device='cuda:0', dtype=torch.float64, grad_fn=<DivBackward1>)\n",
            "Accuracy is:  tensor(0.5548, device='cuda:0')\n"
          ]
        },
        {
          "output_type": "stream",
          "name": "stderr",
          "text": [
            "100%|██████████| 938/938 [00:06<00:00, 149.19it/s]\n"
          ]
        },
        {
          "output_type": "stream",
          "name": "stdout",
          "text": [
            "LOSS is:  tensor(1.7714, device='cuda:0', dtype=torch.float64, grad_fn=<DivBackward1>)\n",
            "Accuracy is:  tensor(0.5552, device='cuda:0')\n"
          ]
        },
        {
          "output_type": "stream",
          "name": "stderr",
          "text": [
            "100%|██████████| 938/938 [00:06<00:00, 148.84it/s]\n"
          ]
        },
        {
          "output_type": "stream",
          "name": "stdout",
          "text": [
            "LOSS is:  tensor(1.7699, device='cuda:0', dtype=torch.float64, grad_fn=<DivBackward1>)\n",
            "Accuracy is:  tensor(0.5570, device='cuda:0')\n"
          ]
        },
        {
          "output_type": "stream",
          "name": "stderr",
          "text": [
            "100%|██████████| 938/938 [00:06<00:00, 149.29it/s]\n"
          ]
        },
        {
          "output_type": "stream",
          "name": "stdout",
          "text": [
            "LOSS is:  tensor(1.7220, device='cuda:0', dtype=torch.float64, grad_fn=<DivBackward1>)\n",
            "Accuracy is:  tensor(0.6149, device='cuda:0')\n"
          ]
        },
        {
          "output_type": "stream",
          "name": "stderr",
          "text": [
            "100%|██████████| 938/938 [00:06<00:00, 149.10it/s]\n"
          ]
        },
        {
          "output_type": "stream",
          "name": "stdout",
          "text": [
            "LOSS is:  tensor(1.7138, device='cuda:0', dtype=torch.float64, grad_fn=<DivBackward1>)\n",
            "Accuracy is:  tensor(0.6364, device='cuda:0')\n"
          ]
        },
        {
          "output_type": "stream",
          "name": "stderr",
          "text": [
            "100%|██████████| 938/938 [00:06<00:00, 149.32it/s]\n"
          ]
        },
        {
          "output_type": "stream",
          "name": "stdout",
          "text": [
            "LOSS is:  tensor(1.7105, device='cuda:0', dtype=torch.float64, grad_fn=<DivBackward1>)\n",
            "Accuracy is:  tensor(0.6395, device='cuda:0')\n"
          ]
        },
        {
          "output_type": "stream",
          "name": "stderr",
          "text": [
            "100%|██████████| 938/938 [00:06<00:00, 148.98it/s]\n"
          ]
        },
        {
          "output_type": "stream",
          "name": "stdout",
          "text": [
            "LOSS is:  tensor(1.6725, device='cuda:0', dtype=torch.float64, grad_fn=<DivBackward1>)\n",
            "Accuracy is:  tensor(0.7046, device='cuda:0')\n"
          ]
        },
        {
          "output_type": "stream",
          "name": "stderr",
          "text": [
            "100%|██████████| 938/938 [00:06<00:00, 149.19it/s]\n"
          ]
        },
        {
          "output_type": "stream",
          "name": "stdout",
          "text": [
            "LOSS is:  tensor(1.6692, device='cuda:0', dtype=torch.float64, grad_fn=<DivBackward1>)\n",
            "Accuracy is:  tensor(0.7282, device='cuda:0')\n"
          ]
        },
        {
          "output_type": "stream",
          "name": "stderr",
          "text": [
            "100%|██████████| 938/938 [00:06<00:00, 149.12it/s]\n"
          ]
        },
        {
          "output_type": "stream",
          "name": "stdout",
          "text": [
            "LOSS is:  tensor(1.6515, device='cuda:0', dtype=torch.float64, grad_fn=<DivBackward1>)\n",
            "Accuracy is:  tensor(0.7315, device='cuda:0')\n"
          ]
        },
        {
          "output_type": "stream",
          "name": "stderr",
          "text": [
            "100%|██████████| 938/938 [00:06<00:00, 149.03it/s]\n"
          ]
        },
        {
          "output_type": "stream",
          "name": "stdout",
          "text": [
            "LOSS is:  tensor(1.6487, device='cuda:0', dtype=torch.float64, grad_fn=<DivBackward1>)\n",
            "Accuracy is:  tensor(0.7331, device='cuda:0')\n"
          ]
        },
        {
          "output_type": "stream",
          "name": "stderr",
          "text": [
            "100%|██████████| 938/938 [00:06<00:00, 149.23it/s]\n"
          ]
        },
        {
          "output_type": "stream",
          "name": "stdout",
          "text": [
            "LOSS is:  tensor(1.6487, device='cuda:0', dtype=torch.float64, grad_fn=<DivBackward1>)\n",
            "Accuracy is:  tensor(0.7355, device='cuda:0')\n"
          ]
        },
        {
          "output_type": "stream",
          "name": "stderr",
          "text": [
            "100%|██████████| 938/938 [00:06<00:00, 149.08it/s]\n"
          ]
        },
        {
          "output_type": "stream",
          "name": "stdout",
          "text": [
            "LOSS is:  tensor(1.6511, device='cuda:0', dtype=torch.float64, grad_fn=<DivBackward1>)\n",
            "Accuracy is:  tensor(0.7379, device='cuda:0')\n"
          ]
        },
        {
          "output_type": "stream",
          "name": "stderr",
          "text": [
            "100%|██████████| 938/938 [00:06<00:00, 149.02it/s]\n"
          ]
        },
        {
          "output_type": "stream",
          "name": "stdout",
          "text": [
            "LOSS is:  tensor(1.6489, device='cuda:0', dtype=torch.float64, grad_fn=<DivBackward1>)\n",
            "Accuracy is:  tensor(0.7384, device='cuda:0')\n"
          ]
        },
        {
          "output_type": "stream",
          "name": "stderr",
          "text": [
            "100%|██████████| 938/938 [00:06<00:00, 149.23it/s]\n"
          ]
        },
        {
          "output_type": "stream",
          "name": "stdout",
          "text": [
            "LOSS is:  tensor(1.6485, device='cuda:0', dtype=torch.float64, grad_fn=<DivBackward1>)\n",
            "Accuracy is:  tensor(0.7396, device='cuda:0')\n"
          ]
        },
        {
          "output_type": "stream",
          "name": "stderr",
          "text": [
            "100%|██████████| 938/938 [00:06<00:00, 149.11it/s]\n"
          ]
        },
        {
          "output_type": "stream",
          "name": "stdout",
          "text": [
            "LOSS is:  tensor(1.6656, device='cuda:0', dtype=torch.float64, grad_fn=<DivBackward1>)\n",
            "Accuracy is:  tensor(0.7406, device='cuda:0')\n"
          ]
        },
        {
          "output_type": "stream",
          "name": "stderr",
          "text": [
            "100%|██████████| 938/938 [00:06<00:00, 149.23it/s]\n"
          ]
        },
        {
          "output_type": "stream",
          "name": "stdout",
          "text": [
            "LOSS is:  tensor(1.6487, device='cuda:0', dtype=torch.float64, grad_fn=<DivBackward1>)\n",
            "Accuracy is:  tensor(0.7429, device='cuda:0')\n"
          ]
        },
        {
          "output_type": "stream",
          "name": "stderr",
          "text": [
            "100%|██████████| 938/938 [00:06<00:00, 149.06it/s]\n"
          ]
        },
        {
          "output_type": "stream",
          "name": "stdout",
          "text": [
            "LOSS is:  tensor(1.6499, device='cuda:0', dtype=torch.float64, grad_fn=<DivBackward1>)\n",
            "Accuracy is:  tensor(0.7435, device='cuda:0')\n"
          ]
        },
        {
          "output_type": "stream",
          "name": "stderr",
          "text": [
            "100%|██████████| 938/938 [00:06<00:00, 149.11it/s]\n"
          ]
        },
        {
          "output_type": "stream",
          "name": "stdout",
          "text": [
            "LOSS is:  tensor(1.6487, device='cuda:0', dtype=torch.float64, grad_fn=<DivBackward1>)\n",
            "Accuracy is:  tensor(0.7449, device='cuda:0')\n"
          ]
        },
        {
          "output_type": "stream",
          "name": "stderr",
          "text": [
            "100%|██████████| 938/938 [00:06<00:00, 149.61it/s]\n"
          ]
        },
        {
          "output_type": "stream",
          "name": "stdout",
          "text": [
            "LOSS is:  tensor(1.6497, device='cuda:0', dtype=torch.float64, grad_fn=<DivBackward1>)\n",
            "Accuracy is:  tensor(0.7458, device='cuda:0')\n"
          ]
        },
        {
          "output_type": "stream",
          "name": "stderr",
          "text": [
            "100%|██████████| 938/938 [00:06<00:00, 149.12it/s]\n"
          ]
        },
        {
          "output_type": "stream",
          "name": "stdout",
          "text": [
            "LOSS is:  tensor(1.6549, device='cuda:0', dtype=torch.float64, grad_fn=<DivBackward1>)\n",
            "Accuracy is:  tensor(0.7450, device='cuda:0')\n"
          ]
        },
        {
          "output_type": "stream",
          "name": "stderr",
          "text": [
            "100%|██████████| 938/938 [00:06<00:00, 149.49it/s]\n"
          ]
        },
        {
          "output_type": "stream",
          "name": "stdout",
          "text": [
            "LOSS is:  tensor(1.6487, device='cuda:0', dtype=torch.float64, grad_fn=<DivBackward1>)\n",
            "Accuracy is:  tensor(0.7468, device='cuda:0')\n"
          ]
        },
        {
          "output_type": "stream",
          "name": "stderr",
          "text": [
            "100%|██████████| 938/938 [00:06<00:00, 149.41it/s]\n"
          ]
        },
        {
          "output_type": "stream",
          "name": "stdout",
          "text": [
            "LOSS is:  tensor(1.6487, device='cuda:0', dtype=torch.float64, grad_fn=<DivBackward1>)\n",
            "Accuracy is:  tensor(0.7481, device='cuda:0')\n"
          ]
        },
        {
          "output_type": "stream",
          "name": "stderr",
          "text": [
            "100%|██████████| 938/938 [00:06<00:00, 149.15it/s]\n"
          ]
        },
        {
          "output_type": "stream",
          "name": "stdout",
          "text": [
            "LOSS is:  tensor(1.6489, device='cuda:0', dtype=torch.float64, grad_fn=<DivBackward1>)\n",
            "Accuracy is:  tensor(0.7483, device='cuda:0')\n"
          ]
        },
        {
          "output_type": "stream",
          "name": "stderr",
          "text": [
            "100%|██████████| 938/938 [00:06<00:00, 149.12it/s]\n"
          ]
        },
        {
          "output_type": "stream",
          "name": "stdout",
          "text": [
            "LOSS is:  tensor(1.6520, device='cuda:0', dtype=torch.float64, grad_fn=<DivBackward1>)\n",
            "Accuracy is:  tensor(0.7497, device='cuda:0')\n"
          ]
        },
        {
          "output_type": "stream",
          "name": "stderr",
          "text": [
            "100%|██████████| 938/938 [00:06<00:00, 149.09it/s]\n"
          ]
        },
        {
          "output_type": "stream",
          "name": "stdout",
          "text": [
            "LOSS is:  tensor(1.6487, device='cuda:0', dtype=torch.float64, grad_fn=<DivBackward1>)\n",
            "Accuracy is:  tensor(0.7493, device='cuda:0')\n"
          ]
        },
        {
          "output_type": "stream",
          "name": "stderr",
          "text": [
            "100%|██████████| 938/938 [00:06<00:00, 149.04it/s]\n"
          ]
        },
        {
          "output_type": "stream",
          "name": "stdout",
          "text": [
            "LOSS is:  tensor(1.6487, device='cuda:0', dtype=torch.float64, grad_fn=<DivBackward1>)\n",
            "Accuracy is:  tensor(0.7506, device='cuda:0')\n"
          ]
        },
        {
          "output_type": "stream",
          "name": "stderr",
          "text": [
            "100%|██████████| 938/938 [00:06<00:00, 149.59it/s]\n"
          ]
        },
        {
          "output_type": "stream",
          "name": "stdout",
          "text": [
            "LOSS is:  tensor(1.6487, device='cuda:0', dtype=torch.float64, grad_fn=<DivBackward1>)\n",
            "Accuracy is:  tensor(0.7506, device='cuda:0')\n"
          ]
        },
        {
          "output_type": "stream",
          "name": "stderr",
          "text": [
            "100%|██████████| 938/938 [00:06<00:00, 149.46it/s]\n"
          ]
        },
        {
          "output_type": "stream",
          "name": "stdout",
          "text": [
            "LOSS is:  tensor(1.6487, device='cuda:0', dtype=torch.float64, grad_fn=<DivBackward1>)\n",
            "Accuracy is:  tensor(0.7519, device='cuda:0')\n"
          ]
        },
        {
          "output_type": "stream",
          "name": "stderr",
          "text": [
            "100%|██████████| 938/938 [00:06<00:00, 149.17it/s]\n"
          ]
        },
        {
          "output_type": "stream",
          "name": "stdout",
          "text": [
            "LOSS is:  tensor(1.6490, device='cuda:0', dtype=torch.float64, grad_fn=<DivBackward1>)\n",
            "Accuracy is:  tensor(0.7525, device='cuda:0')\n"
          ]
        },
        {
          "output_type": "stream",
          "name": "stderr",
          "text": [
            "100%|██████████| 938/938 [00:06<00:00, 149.29it/s]\n"
          ]
        },
        {
          "output_type": "stream",
          "name": "stdout",
          "text": [
            "LOSS is:  tensor(1.6487, device='cuda:0', dtype=torch.float64, grad_fn=<DivBackward1>)\n",
            "Accuracy is:  tensor(0.7531, device='cuda:0')\n"
          ]
        },
        {
          "output_type": "stream",
          "name": "stderr",
          "text": [
            "100%|██████████| 938/938 [00:06<00:00, 149.17it/s]\n"
          ]
        },
        {
          "output_type": "stream",
          "name": "stdout",
          "text": [
            "LOSS is:  tensor(1.6487, device='cuda:0', dtype=torch.float64, grad_fn=<DivBackward1>)\n",
            "Accuracy is:  tensor(0.7529, device='cuda:0')\n"
          ]
        },
        {
          "output_type": "stream",
          "name": "stderr",
          "text": [
            "100%|██████████| 938/938 [00:06<00:00, 149.01it/s]\n"
          ]
        },
        {
          "output_type": "stream",
          "name": "stdout",
          "text": [
            "LOSS is:  tensor(1.6487, device='cuda:0', dtype=torch.float64, grad_fn=<DivBackward1>)\n",
            "Accuracy is:  tensor(0.7541, device='cuda:0')\n"
          ]
        },
        {
          "output_type": "stream",
          "name": "stderr",
          "text": [
            "100%|██████████| 938/938 [00:06<00:00, 148.99it/s]\n"
          ]
        },
        {
          "output_type": "stream",
          "name": "stdout",
          "text": [
            "LOSS is:  tensor(1.6487, device='cuda:0', dtype=torch.float64, grad_fn=<DivBackward1>)\n",
            "Accuracy is:  tensor(0.7550, device='cuda:0')\n"
          ]
        },
        {
          "output_type": "stream",
          "name": "stderr",
          "text": [
            "100%|██████████| 938/938 [00:06<00:00, 149.19it/s]\n"
          ]
        },
        {
          "output_type": "stream",
          "name": "stdout",
          "text": [
            "LOSS is:  tensor(1.6487, device='cuda:0', dtype=torch.float64, grad_fn=<DivBackward1>)\n",
            "Accuracy is:  tensor(0.7559, device='cuda:0')\n"
          ]
        },
        {
          "output_type": "stream",
          "name": "stderr",
          "text": [
            "100%|██████████| 938/938 [00:06<00:00, 149.12it/s]\n"
          ]
        },
        {
          "output_type": "stream",
          "name": "stdout",
          "text": [
            "LOSS is:  tensor(1.6487, device='cuda:0', dtype=torch.float64, grad_fn=<DivBackward1>)\n",
            "Accuracy is:  tensor(0.7552, device='cuda:0')\n"
          ]
        },
        {
          "output_type": "stream",
          "name": "stderr",
          "text": [
            "100%|██████████| 938/938 [00:06<00:00, 149.22it/s]\n"
          ]
        },
        {
          "output_type": "stream",
          "name": "stdout",
          "text": [
            "LOSS is:  tensor(1.6487, device='cuda:0', dtype=torch.float64, grad_fn=<DivBackward1>)\n",
            "Accuracy is:  tensor(0.7551, device='cuda:0')\n"
          ]
        },
        {
          "output_type": "stream",
          "name": "stderr",
          "text": [
            "100%|██████████| 938/938 [00:06<00:00, 149.09it/s]\n"
          ]
        },
        {
          "output_type": "stream",
          "name": "stdout",
          "text": [
            "LOSS is:  tensor(1.6487, device='cuda:0', dtype=torch.float64, grad_fn=<DivBackward1>)\n",
            "Accuracy is:  tensor(0.7551, device='cuda:0')\n"
          ]
        },
        {
          "output_type": "stream",
          "name": "stderr",
          "text": [
            "100%|██████████| 938/938 [00:06<00:00, 149.13it/s]\n"
          ]
        },
        {
          "output_type": "stream",
          "name": "stdout",
          "text": [
            "LOSS is:  tensor(1.6487, device='cuda:0', dtype=torch.float64, grad_fn=<DivBackward1>)\n",
            "Accuracy is:  tensor(0.7567, device='cuda:0')\n"
          ]
        },
        {
          "output_type": "stream",
          "name": "stderr",
          "text": [
            "100%|██████████| 938/938 [00:06<00:00, 148.90it/s]\n"
          ]
        },
        {
          "output_type": "stream",
          "name": "stdout",
          "text": [
            "LOSS is:  tensor(1.6791, device='cuda:0', dtype=torch.float64, grad_fn=<DivBackward1>)\n",
            "Accuracy is:  tensor(0.7567, device='cuda:0')\n"
          ]
        },
        {
          "output_type": "stream",
          "name": "stderr",
          "text": [
            "100%|██████████| 938/938 [00:06<00:00, 149.00it/s]\n"
          ]
        },
        {
          "output_type": "stream",
          "name": "stdout",
          "text": [
            "LOSS is:  tensor(1.6487, device='cuda:0', dtype=torch.float64, grad_fn=<DivBackward1>)\n",
            "Accuracy is:  tensor(0.7558, device='cuda:0')\n"
          ]
        },
        {
          "output_type": "stream",
          "name": "stderr",
          "text": [
            "100%|██████████| 938/938 [00:06<00:00, 148.62it/s]\n"
          ]
        },
        {
          "output_type": "stream",
          "name": "stdout",
          "text": [
            "LOSS is:  tensor(1.6487, device='cuda:0', dtype=torch.float64, grad_fn=<DivBackward1>)\n",
            "Accuracy is:  tensor(0.7568, device='cuda:0')\n"
          ]
        },
        {
          "output_type": "stream",
          "name": "stderr",
          "text": [
            "100%|██████████| 938/938 [00:06<00:00, 148.98it/s]\n"
          ]
        },
        {
          "output_type": "stream",
          "name": "stdout",
          "text": [
            "LOSS is:  tensor(1.6487, device='cuda:0', dtype=torch.float64, grad_fn=<DivBackward1>)\n",
            "Accuracy is:  tensor(0.7569, device='cuda:0')\n"
          ]
        },
        {
          "output_type": "stream",
          "name": "stderr",
          "text": [
            "100%|██████████| 938/938 [00:06<00:00, 148.88it/s]\n"
          ]
        },
        {
          "output_type": "stream",
          "name": "stdout",
          "text": [
            "LOSS is:  tensor(1.6487, device='cuda:0', dtype=torch.float64, grad_fn=<DivBackward1>)\n",
            "Accuracy is:  tensor(0.7580, device='cuda:0')\n"
          ]
        },
        {
          "output_type": "stream",
          "name": "stderr",
          "text": [
            "100%|██████████| 938/938 [00:06<00:00, 149.13it/s]\n"
          ]
        },
        {
          "output_type": "stream",
          "name": "stdout",
          "text": [
            "LOSS is:  tensor(1.6487, device='cuda:0', dtype=torch.float64, grad_fn=<DivBackward1>)\n",
            "Accuracy is:  tensor(0.7584, device='cuda:0')\n"
          ]
        },
        {
          "output_type": "stream",
          "name": "stderr",
          "text": [
            "100%|██████████| 938/938 [00:06<00:00, 148.83it/s]\n"
          ]
        },
        {
          "output_type": "stream",
          "name": "stdout",
          "text": [
            "LOSS is:  tensor(1.6488, device='cuda:0', dtype=torch.float64, grad_fn=<DivBackward1>)\n",
            "Accuracy is:  tensor(0.7592, device='cuda:0')\n"
          ]
        },
        {
          "output_type": "stream",
          "name": "stderr",
          "text": [
            "100%|██████████| 938/938 [00:06<00:00, 149.15it/s]\n"
          ]
        },
        {
          "output_type": "stream",
          "name": "stdout",
          "text": [
            "LOSS is:  tensor(1.6491, device='cuda:0', dtype=torch.float64, grad_fn=<DivBackward1>)\n",
            "Accuracy is:  tensor(0.7591, device='cuda:0')\n"
          ]
        },
        {
          "output_type": "stream",
          "name": "stderr",
          "text": [
            "100%|██████████| 938/938 [00:06<00:00, 149.38it/s]\n"
          ]
        },
        {
          "output_type": "stream",
          "name": "stdout",
          "text": [
            "LOSS is:  tensor(1.6486, device='cuda:0', dtype=torch.float64, grad_fn=<DivBackward1>)\n",
            "Accuracy is:  tensor(0.7598, device='cuda:0')\n"
          ]
        },
        {
          "output_type": "stream",
          "name": "stderr",
          "text": [
            "100%|██████████| 938/938 [00:06<00:00, 148.95it/s]\n"
          ]
        },
        {
          "output_type": "stream",
          "name": "stdout",
          "text": [
            "LOSS is:  tensor(1.6487, device='cuda:0', dtype=torch.float64, grad_fn=<DivBackward1>)\n",
            "Accuracy is:  tensor(0.7606, device='cuda:0')\n"
          ]
        },
        {
          "output_type": "stream",
          "name": "stderr",
          "text": [
            "100%|██████████| 938/938 [00:06<00:00, 148.70it/s]\n"
          ]
        },
        {
          "output_type": "stream",
          "name": "stdout",
          "text": [
            "LOSS is:  tensor(1.6487, device='cuda:0', dtype=torch.float64, grad_fn=<DivBackward1>)\n",
            "Accuracy is:  tensor(0.7603, device='cuda:0')\n"
          ]
        },
        {
          "output_type": "stream",
          "name": "stderr",
          "text": [
            "100%|██████████| 938/938 [00:06<00:00, 149.22it/s]\n"
          ]
        },
        {
          "output_type": "stream",
          "name": "stdout",
          "text": [
            "LOSS is:  tensor(1.6487, device='cuda:0', dtype=torch.float64, grad_fn=<DivBackward1>)\n",
            "Accuracy is:  tensor(0.7604, device='cuda:0')\n"
          ]
        },
        {
          "output_type": "stream",
          "name": "stderr",
          "text": [
            "100%|██████████| 938/938 [00:06<00:00, 148.92it/s]\n"
          ]
        },
        {
          "output_type": "stream",
          "name": "stdout",
          "text": [
            "LOSS is:  tensor(1.6489, device='cuda:0', dtype=torch.float64, grad_fn=<DivBackward1>)\n",
            "Accuracy is:  tensor(0.7620, device='cuda:0')\n"
          ]
        },
        {
          "output_type": "stream",
          "name": "stderr",
          "text": [
            "100%|██████████| 938/938 [00:06<00:00, 149.12it/s]\n"
          ]
        },
        {
          "output_type": "stream",
          "name": "stdout",
          "text": [
            "LOSS is:  tensor(1.6487, device='cuda:0', dtype=torch.float64, grad_fn=<DivBackward1>)\n",
            "Accuracy is:  tensor(0.7601, device='cuda:0')\n"
          ]
        },
        {
          "output_type": "stream",
          "name": "stderr",
          "text": [
            "100%|██████████| 938/938 [00:06<00:00, 148.84it/s]\n"
          ]
        },
        {
          "output_type": "stream",
          "name": "stdout",
          "text": [
            "LOSS is:  tensor(1.6486, device='cuda:0', dtype=torch.float64, grad_fn=<DivBackward1>)\n",
            "Accuracy is:  tensor(0.7626, device='cuda:0')\n"
          ]
        },
        {
          "output_type": "stream",
          "name": "stderr",
          "text": [
            "100%|██████████| 938/938 [00:06<00:00, 149.19it/s]\n"
          ]
        },
        {
          "output_type": "stream",
          "name": "stdout",
          "text": [
            "LOSS is:  tensor(1.6487, device='cuda:0', dtype=torch.float64, grad_fn=<DivBackward1>)\n",
            "Accuracy is:  tensor(0.7615, device='cuda:0')\n"
          ]
        },
        {
          "output_type": "stream",
          "name": "stderr",
          "text": [
            "100%|██████████| 938/938 [00:06<00:00, 148.89it/s]\n"
          ]
        },
        {
          "output_type": "stream",
          "name": "stdout",
          "text": [
            "LOSS is:  tensor(1.6489, device='cuda:0', dtype=torch.float64, grad_fn=<DivBackward1>)\n",
            "Accuracy is:  tensor(0.7619, device='cuda:0')\n"
          ]
        },
        {
          "output_type": "stream",
          "name": "stderr",
          "text": [
            "100%|██████████| 938/938 [00:06<00:00, 148.96it/s]\n"
          ]
        },
        {
          "output_type": "stream",
          "name": "stdout",
          "text": [
            "LOSS is:  tensor(1.6486, device='cuda:0', dtype=torch.float64, grad_fn=<DivBackward1>)\n",
            "Accuracy is:  tensor(0.7621, device='cuda:0')\n"
          ]
        },
        {
          "output_type": "stream",
          "name": "stderr",
          "text": [
            "100%|██████████| 938/938 [00:06<00:00, 148.89it/s]\n"
          ]
        },
        {
          "output_type": "stream",
          "name": "stdout",
          "text": [
            "LOSS is:  tensor(1.6487, device='cuda:0', dtype=torch.float64, grad_fn=<DivBackward1>)\n",
            "Accuracy is:  tensor(0.7622, device='cuda:0')\n"
          ]
        },
        {
          "output_type": "stream",
          "name": "stderr",
          "text": [
            "100%|██████████| 938/938 [00:06<00:00, 149.01it/s]\n"
          ]
        },
        {
          "output_type": "stream",
          "name": "stdout",
          "text": [
            "LOSS is:  tensor(1.6487, device='cuda:0', dtype=torch.float64, grad_fn=<DivBackward1>)\n",
            "Accuracy is:  tensor(0.7624, device='cuda:0')\n"
          ]
        },
        {
          "output_type": "stream",
          "name": "stderr",
          "text": [
            "100%|██████████| 938/938 [00:06<00:00, 149.00it/s]\n"
          ]
        },
        {
          "output_type": "stream",
          "name": "stdout",
          "text": [
            "LOSS is:  tensor(1.6488, device='cuda:0', dtype=torch.float64, grad_fn=<DivBackward1>)\n",
            "Accuracy is:  tensor(0.7621, device='cuda:0')\n"
          ]
        },
        {
          "output_type": "stream",
          "name": "stderr",
          "text": [
            "100%|██████████| 938/938 [00:06<00:00, 148.99it/s]\n"
          ]
        },
        {
          "output_type": "stream",
          "name": "stdout",
          "text": [
            "LOSS is:  tensor(1.6798, device='cuda:0', dtype=torch.float64, grad_fn=<DivBackward1>)\n",
            "Accuracy is:  tensor(0.7631, device='cuda:0')\n"
          ]
        },
        {
          "output_type": "stream",
          "name": "stderr",
          "text": [
            "100%|██████████| 938/938 [00:06<00:00, 148.97it/s]\n"
          ]
        },
        {
          "output_type": "stream",
          "name": "stdout",
          "text": [
            "LOSS is:  tensor(1.6487, device='cuda:0', dtype=torch.float64, grad_fn=<DivBackward1>)\n",
            "Accuracy is:  tensor(0.7632, device='cuda:0')\n"
          ]
        },
        {
          "output_type": "stream",
          "name": "stderr",
          "text": [
            "100%|██████████| 938/938 [00:06<00:00, 148.69it/s]\n"
          ]
        },
        {
          "output_type": "stream",
          "name": "stdout",
          "text": [
            "LOSS is:  tensor(1.6658, device='cuda:0', dtype=torch.float64, grad_fn=<DivBackward1>)\n",
            "Accuracy is:  tensor(0.7643, device='cuda:0')\n"
          ]
        },
        {
          "output_type": "stream",
          "name": "stderr",
          "text": [
            "100%|██████████| 938/938 [00:06<00:00, 149.05it/s]\n"
          ]
        },
        {
          "output_type": "stream",
          "name": "stdout",
          "text": [
            "LOSS is:  tensor(1.6487, device='cuda:0', dtype=torch.float64, grad_fn=<DivBackward1>)\n",
            "Accuracy is:  tensor(0.7637, device='cuda:0')\n"
          ]
        },
        {
          "output_type": "stream",
          "name": "stderr",
          "text": [
            "100%|██████████| 938/938 [00:06<00:00, 149.00it/s]\n"
          ]
        },
        {
          "output_type": "stream",
          "name": "stdout",
          "text": [
            "LOSS is:  tensor(1.6487, device='cuda:0', dtype=torch.float64, grad_fn=<DivBackward1>)\n",
            "Accuracy is:  tensor(0.7640, device='cuda:0')\n"
          ]
        },
        {
          "output_type": "stream",
          "name": "stderr",
          "text": [
            "100%|██████████| 938/938 [00:06<00:00, 148.84it/s]\n"
          ]
        },
        {
          "output_type": "stream",
          "name": "stdout",
          "text": [
            "LOSS is:  tensor(1.6487, device='cuda:0', dtype=torch.float64, grad_fn=<DivBackward1>)\n",
            "Accuracy is:  tensor(0.7654, device='cuda:0')\n"
          ]
        },
        {
          "output_type": "stream",
          "name": "stderr",
          "text": [
            "100%|██████████| 938/938 [00:06<00:00, 149.04it/s]\n"
          ]
        },
        {
          "output_type": "stream",
          "name": "stdout",
          "text": [
            "LOSS is:  tensor(1.6487, device='cuda:0', dtype=torch.float64, grad_fn=<DivBackward1>)\n",
            "Accuracy is:  tensor(0.7645, device='cuda:0')\n"
          ]
        },
        {
          "output_type": "stream",
          "name": "stderr",
          "text": [
            "100%|██████████| 938/938 [00:06<00:00, 148.98it/s]\n"
          ]
        },
        {
          "output_type": "stream",
          "name": "stdout",
          "text": [
            "LOSS is:  tensor(1.6487, device='cuda:0', dtype=torch.float64, grad_fn=<DivBackward1>)\n",
            "Accuracy is:  tensor(0.7655, device='cuda:0')\n"
          ]
        },
        {
          "output_type": "stream",
          "name": "stderr",
          "text": [
            "100%|██████████| 938/938 [00:06<00:00, 149.11it/s]\n"
          ]
        },
        {
          "output_type": "stream",
          "name": "stdout",
          "text": [
            "LOSS is:  tensor(1.6501, device='cuda:0', dtype=torch.float64, grad_fn=<DivBackward1>)\n",
            "Accuracy is:  tensor(0.7659, device='cuda:0')\n"
          ]
        },
        {
          "output_type": "stream",
          "name": "stderr",
          "text": [
            "100%|██████████| 938/938 [00:06<00:00, 148.98it/s]\n"
          ]
        },
        {
          "output_type": "stream",
          "name": "stdout",
          "text": [
            "LOSS is:  tensor(1.6487, device='cuda:0', dtype=torch.float64, grad_fn=<DivBackward1>)\n",
            "Accuracy is:  tensor(0.7655, device='cuda:0')\n"
          ]
        },
        {
          "output_type": "stream",
          "name": "stderr",
          "text": [
            "100%|██████████| 938/938 [00:06<00:00, 148.83it/s]\n"
          ]
        },
        {
          "output_type": "stream",
          "name": "stdout",
          "text": [
            "LOSS is:  tensor(1.6487, device='cuda:0', dtype=torch.float64, grad_fn=<DivBackward1>)\n",
            "Accuracy is:  tensor(0.7668, device='cuda:0')\n"
          ]
        },
        {
          "output_type": "stream",
          "name": "stderr",
          "text": [
            "100%|██████████| 938/938 [00:06<00:00, 149.03it/s]\n"
          ]
        },
        {
          "output_type": "stream",
          "name": "stdout",
          "text": [
            "LOSS is:  tensor(1.6487, device='cuda:0', dtype=torch.float64, grad_fn=<DivBackward1>)\n",
            "Accuracy is:  tensor(0.7653, device='cuda:0')\n"
          ]
        },
        {
          "output_type": "stream",
          "name": "stderr",
          "text": [
            "100%|██████████| 938/938 [00:06<00:00, 149.26it/s]\n"
          ]
        },
        {
          "output_type": "stream",
          "name": "stdout",
          "text": [
            "LOSS is:  tensor(1.6487, device='cuda:0', dtype=torch.float64, grad_fn=<DivBackward1>)\n",
            "Accuracy is:  tensor(0.7671, device='cuda:0')\n"
          ]
        },
        {
          "output_type": "stream",
          "name": "stderr",
          "text": [
            "100%|██████████| 938/938 [00:06<00:00, 149.10it/s]\n"
          ]
        },
        {
          "output_type": "stream",
          "name": "stdout",
          "text": [
            "LOSS is:  tensor(1.6700, device='cuda:0', dtype=torch.float64, grad_fn=<DivBackward1>)\n",
            "Accuracy is:  tensor(0.7667, device='cuda:0')\n"
          ]
        },
        {
          "output_type": "stream",
          "name": "stderr",
          "text": [
            "100%|██████████| 938/938 [00:06<00:00, 148.99it/s]\n"
          ]
        },
        {
          "output_type": "stream",
          "name": "stdout",
          "text": [
            "LOSS is:  tensor(1.6498, device='cuda:0', dtype=torch.float64, grad_fn=<DivBackward1>)\n",
            "Accuracy is:  tensor(0.7666, device='cuda:0')\n"
          ]
        },
        {
          "output_type": "stream",
          "name": "stderr",
          "text": [
            "100%|██████████| 938/938 [00:06<00:00, 149.12it/s]\n"
          ]
        },
        {
          "output_type": "stream",
          "name": "stdout",
          "text": [
            "LOSS is:  tensor(1.6488, device='cuda:0', dtype=torch.float64, grad_fn=<DivBackward1>)\n",
            "Accuracy is:  tensor(0.7668, device='cuda:0')\n"
          ]
        },
        {
          "output_type": "stream",
          "name": "stderr",
          "text": [
            "100%|██████████| 938/938 [00:06<00:00, 149.36it/s]\n"
          ]
        },
        {
          "output_type": "stream",
          "name": "stdout",
          "text": [
            "LOSS is:  tensor(1.6487, device='cuda:0', dtype=torch.float64, grad_fn=<DivBackward1>)\n",
            "Accuracy is:  tensor(0.7673, device='cuda:0')\n"
          ]
        },
        {
          "output_type": "stream",
          "name": "stderr",
          "text": [
            "100%|██████████| 938/938 [00:06<00:00, 149.26it/s]\n"
          ]
        },
        {
          "output_type": "stream",
          "name": "stdout",
          "text": [
            "LOSS is:  tensor(1.6796, device='cuda:0', dtype=torch.float64, grad_fn=<DivBackward1>)\n",
            "Accuracy is:  tensor(0.7677, device='cuda:0')\n"
          ]
        },
        {
          "output_type": "stream",
          "name": "stderr",
          "text": [
            "100%|██████████| 938/938 [00:06<00:00, 149.17it/s]\n"
          ]
        },
        {
          "output_type": "stream",
          "name": "stdout",
          "text": [
            "LOSS is:  tensor(1.6487, device='cuda:0', dtype=torch.float64, grad_fn=<DivBackward1>)\n",
            "Accuracy is:  tensor(0.7680, device='cuda:0')\n"
          ]
        },
        {
          "output_type": "stream",
          "name": "stderr",
          "text": [
            "100%|██████████| 938/938 [00:06<00:00, 149.07it/s]\n"
          ]
        },
        {
          "output_type": "stream",
          "name": "stdout",
          "text": [
            "LOSS is:  tensor(1.6490, device='cuda:0', dtype=torch.float64, grad_fn=<DivBackward1>)\n",
            "Accuracy is:  tensor(0.7683, device='cuda:0')\n"
          ]
        },
        {
          "output_type": "stream",
          "name": "stderr",
          "text": [
            "100%|██████████| 938/938 [00:06<00:00, 149.16it/s]\n"
          ]
        },
        {
          "output_type": "stream",
          "name": "stdout",
          "text": [
            "LOSS is:  tensor(1.6487, device='cuda:0', dtype=torch.float64, grad_fn=<DivBackward1>)\n",
            "Accuracy is:  tensor(0.7680, device='cuda:0')\n"
          ]
        },
        {
          "output_type": "stream",
          "name": "stderr",
          "text": [
            "100%|██████████| 938/938 [00:06<00:00, 149.14it/s]\n"
          ]
        },
        {
          "output_type": "stream",
          "name": "stdout",
          "text": [
            "LOSS is:  tensor(1.6487, device='cuda:0', dtype=torch.float64, grad_fn=<DivBackward1>)\n",
            "Accuracy is:  tensor(0.7699, device='cuda:0')\n"
          ]
        },
        {
          "output_type": "stream",
          "name": "stderr",
          "text": [
            "100%|██████████| 938/938 [00:06<00:00, 148.88it/s]\n"
          ]
        },
        {
          "output_type": "stream",
          "name": "stdout",
          "text": [
            "LOSS is:  tensor(1.6486, device='cuda:0', dtype=torch.float64, grad_fn=<DivBackward1>)\n",
            "Accuracy is:  tensor(0.7693, device='cuda:0')\n"
          ]
        },
        {
          "output_type": "stream",
          "name": "stderr",
          "text": [
            "100%|██████████| 938/938 [00:06<00:00, 148.77it/s]\n"
          ]
        },
        {
          "output_type": "stream",
          "name": "stdout",
          "text": [
            "LOSS is:  tensor(1.6760, device='cuda:0', dtype=torch.float64, grad_fn=<DivBackward1>)\n",
            "Accuracy is:  tensor(0.7691, device='cuda:0')\n"
          ]
        },
        {
          "output_type": "stream",
          "name": "stderr",
          "text": [
            "100%|██████████| 938/938 [00:06<00:00, 149.04it/s]\n"
          ]
        },
        {
          "output_type": "stream",
          "name": "stdout",
          "text": [
            "LOSS is:  tensor(1.6796, device='cuda:0', dtype=torch.float64, grad_fn=<DivBackward1>)\n",
            "Accuracy is:  tensor(0.7699, device='cuda:0')\n"
          ]
        },
        {
          "output_type": "stream",
          "name": "stderr",
          "text": [
            "100%|██████████| 938/938 [00:06<00:00, 149.04it/s]\n"
          ]
        },
        {
          "output_type": "stream",
          "name": "stdout",
          "text": [
            "LOSS is:  tensor(1.6486, device='cuda:0', dtype=torch.float64, grad_fn=<DivBackward1>)\n",
            "Accuracy is:  tensor(0.7702, device='cuda:0')\n"
          ]
        },
        {
          "output_type": "stream",
          "name": "stderr",
          "text": [
            "100%|██████████| 938/938 [00:06<00:00, 148.90it/s]\n"
          ]
        },
        {
          "output_type": "stream",
          "name": "stdout",
          "text": [
            "LOSS is:  tensor(1.6487, device='cuda:0', dtype=torch.float64, grad_fn=<DivBackward1>)\n",
            "Accuracy is:  tensor(0.7694, device='cuda:0')\n"
          ]
        },
        {
          "output_type": "stream",
          "name": "stderr",
          "text": [
            "100%|██████████| 938/938 [00:06<00:00, 148.94it/s]"
          ]
        },
        {
          "output_type": "stream",
          "name": "stdout",
          "text": [
            "LOSS is:  tensor(1.6487, device='cuda:0', dtype=torch.float64, grad_fn=<DivBackward1>)\n",
            "Accuracy is:  tensor(0.7704, device='cuda:0')\n"
          ]
        },
        {
          "output_type": "stream",
          "name": "stderr",
          "text": [
            "\n"
          ]
        }
      ]
    },
    {
      "cell_type": "code",
      "source": [
        "test(NET)"
      ],
      "metadata": {
        "colab": {
          "base_uri": "https://localhost:8080/"
        },
        "id": "j6lV-SkxmphL",
        "outputId": "0a02a039-b0de-4fc2-e842-6e783a2c85e5"
      },
      "execution_count": 247,
      "outputs": [
        {
          "output_type": "stream",
          "name": "stderr",
          "text": [
            "  0%|          | 0/157 [00:00<?, ?it/s]/usr/local/lib/python3.7/dist-packages/torch/nn/functional.py:1795: UserWarning: nn.functional.tanh is deprecated. Use torch.tanh instead.\n",
            "  warnings.warn(\"nn.functional.tanh is deprecated. Use torch.tanh instead.\")\n",
            "100%|██████████| 157/157 [00:00<00:00, 418.54it/s]"
          ]
        },
        {
          "output_type": "stream",
          "name": "stdout",
          "text": [
            "tensor(0.7532, device='cuda:0')\n"
          ]
        },
        {
          "output_type": "stream",
          "name": "stderr",
          "text": [
            "\n"
          ]
        }
      ]
    },
    {
      "cell_type": "code",
      "source": [
        "#NOTE:\n",
        "#1. EPOCHS =100, lr =0.1, BLOCKS =2, accuracy: 73 (Train), 72(Test), Activation: Relu\n",
        "#2. EPOCHS =100, lr =0.1, BLOCKS =1, accuracy: 74.93 (Train), 73.18(Test), Activation: Relu\n",
        "#2. EPOCHS =100, lr =0.1, BLOCKS =2, accuracy: 84.82 (Train), 82.34(Test), Activation: TanH\n",
        "#2. EPOCHS =100, lr =0.13, BLOCKS =3, accuracy: 81.56 (Train), 80.02(Test), Activation: TanH"
      ],
      "metadata": {
        "id": "wu1tb1actK-P"
      },
      "execution_count": null,
      "outputs": []
    }
  ]
}