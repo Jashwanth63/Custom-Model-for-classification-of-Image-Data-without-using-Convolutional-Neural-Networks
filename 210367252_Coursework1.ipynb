{
  "nbformat": 4,
  "nbformat_minor": 0,
  "metadata": {
    "colab": {
      "name": "210367252_Coursework1.ipynb",
      "provenance": [],
      "collapsed_sections": [],
      "machine_shape": "hm",
      "authorship_tag": "ABX9TyPaSyK2/CsS7Vw293wgz+eK",
      "include_colab_link": true
    },
    "kernelspec": {
      "name": "python3",
      "display_name": "Python 3"
    },
    "language_info": {
      "name": "python"
    },
    "accelerator": "GPU",
    "widgets": {
      "application/vnd.jupyter.widget-state+json": {
        "4cfd4f88e7ee409db15e4d4823c9e2d6": {
          "model_module": "@jupyter-widgets/controls",
          "model_name": "HBoxModel",
          "model_module_version": "1.5.0",
          "state": {
            "_dom_classes": [],
            "_model_module": "@jupyter-widgets/controls",
            "_model_module_version": "1.5.0",
            "_model_name": "HBoxModel",
            "_view_count": null,
            "_view_module": "@jupyter-widgets/controls",
            "_view_module_version": "1.5.0",
            "_view_name": "HBoxView",
            "box_style": "",
            "children": [
              "IPY_MODEL_08b55dbf0a6747e4bab5c8974d0098ac",
              "IPY_MODEL_14f5362f0c0d40a2886524b0161624ba",
              "IPY_MODEL_756164def7084177a6aff165560ac09b"
            ],
            "layout": "IPY_MODEL_4f1a5cc545744efd95c812a0a182f483"
          }
        },
        "08b55dbf0a6747e4bab5c8974d0098ac": {
          "model_module": "@jupyter-widgets/controls",
          "model_name": "HTMLModel",
          "model_module_version": "1.5.0",
          "state": {
            "_dom_classes": [],
            "_model_module": "@jupyter-widgets/controls",
            "_model_module_version": "1.5.0",
            "_model_name": "HTMLModel",
            "_view_count": null,
            "_view_module": "@jupyter-widgets/controls",
            "_view_module_version": "1.5.0",
            "_view_name": "HTMLView",
            "description": "",
            "description_tooltip": null,
            "layout": "IPY_MODEL_f2a0109ba37148f5bea62caf7a59e91b",
            "placeholder": "​",
            "style": "IPY_MODEL_bc628e97cae84579a684e65a5baa17ce",
            "value": ""
          }
        },
        "14f5362f0c0d40a2886524b0161624ba": {
          "model_module": "@jupyter-widgets/controls",
          "model_name": "FloatProgressModel",
          "model_module_version": "1.5.0",
          "state": {
            "_dom_classes": [],
            "_model_module": "@jupyter-widgets/controls",
            "_model_module_version": "1.5.0",
            "_model_name": "FloatProgressModel",
            "_view_count": null,
            "_view_module": "@jupyter-widgets/controls",
            "_view_module_version": "1.5.0",
            "_view_name": "ProgressView",
            "bar_style": "success",
            "description": "",
            "description_tooltip": null,
            "layout": "IPY_MODEL_0c280aac12894d76a05ec5f7c8ce5d22",
            "max": 26421880,
            "min": 0,
            "orientation": "horizontal",
            "style": "IPY_MODEL_2d9384b1a6a34cea964067edc1bdd91a",
            "value": 26421880
          }
        },
        "756164def7084177a6aff165560ac09b": {
          "model_module": "@jupyter-widgets/controls",
          "model_name": "HTMLModel",
          "model_module_version": "1.5.0",
          "state": {
            "_dom_classes": [],
            "_model_module": "@jupyter-widgets/controls",
            "_model_module_version": "1.5.0",
            "_model_name": "HTMLModel",
            "_view_count": null,
            "_view_module": "@jupyter-widgets/controls",
            "_view_module_version": "1.5.0",
            "_view_name": "HTMLView",
            "description": "",
            "description_tooltip": null,
            "layout": "IPY_MODEL_080aedb498b242808464db322b5e13dd",
            "placeholder": "​",
            "style": "IPY_MODEL_44656e8d544a441db8505faff4b260ea",
            "value": " 26422272/? [00:04&lt;00:00, 9408530.20it/s]"
          }
        },
        "4f1a5cc545744efd95c812a0a182f483": {
          "model_module": "@jupyter-widgets/base",
          "model_name": "LayoutModel",
          "model_module_version": "1.2.0",
          "state": {
            "_model_module": "@jupyter-widgets/base",
            "_model_module_version": "1.2.0",
            "_model_name": "LayoutModel",
            "_view_count": null,
            "_view_module": "@jupyter-widgets/base",
            "_view_module_version": "1.2.0",
            "_view_name": "LayoutView",
            "align_content": null,
            "align_items": null,
            "align_self": null,
            "border": null,
            "bottom": null,
            "display": null,
            "flex": null,
            "flex_flow": null,
            "grid_area": null,
            "grid_auto_columns": null,
            "grid_auto_flow": null,
            "grid_auto_rows": null,
            "grid_column": null,
            "grid_gap": null,
            "grid_row": null,
            "grid_template_areas": null,
            "grid_template_columns": null,
            "grid_template_rows": null,
            "height": null,
            "justify_content": null,
            "justify_items": null,
            "left": null,
            "margin": null,
            "max_height": null,
            "max_width": null,
            "min_height": null,
            "min_width": null,
            "object_fit": null,
            "object_position": null,
            "order": null,
            "overflow": null,
            "overflow_x": null,
            "overflow_y": null,
            "padding": null,
            "right": null,
            "top": null,
            "visibility": null,
            "width": null
          }
        },
        "f2a0109ba37148f5bea62caf7a59e91b": {
          "model_module": "@jupyter-widgets/base",
          "model_name": "LayoutModel",
          "model_module_version": "1.2.0",
          "state": {
            "_model_module": "@jupyter-widgets/base",
            "_model_module_version": "1.2.0",
            "_model_name": "LayoutModel",
            "_view_count": null,
            "_view_module": "@jupyter-widgets/base",
            "_view_module_version": "1.2.0",
            "_view_name": "LayoutView",
            "align_content": null,
            "align_items": null,
            "align_self": null,
            "border": null,
            "bottom": null,
            "display": null,
            "flex": null,
            "flex_flow": null,
            "grid_area": null,
            "grid_auto_columns": null,
            "grid_auto_flow": null,
            "grid_auto_rows": null,
            "grid_column": null,
            "grid_gap": null,
            "grid_row": null,
            "grid_template_areas": null,
            "grid_template_columns": null,
            "grid_template_rows": null,
            "height": null,
            "justify_content": null,
            "justify_items": null,
            "left": null,
            "margin": null,
            "max_height": null,
            "max_width": null,
            "min_height": null,
            "min_width": null,
            "object_fit": null,
            "object_position": null,
            "order": null,
            "overflow": null,
            "overflow_x": null,
            "overflow_y": null,
            "padding": null,
            "right": null,
            "top": null,
            "visibility": null,
            "width": null
          }
        },
        "bc628e97cae84579a684e65a5baa17ce": {
          "model_module": "@jupyter-widgets/controls",
          "model_name": "DescriptionStyleModel",
          "model_module_version": "1.5.0",
          "state": {
            "_model_module": "@jupyter-widgets/controls",
            "_model_module_version": "1.5.0",
            "_model_name": "DescriptionStyleModel",
            "_view_count": null,
            "_view_module": "@jupyter-widgets/base",
            "_view_module_version": "1.2.0",
            "_view_name": "StyleView",
            "description_width": ""
          }
        },
        "0c280aac12894d76a05ec5f7c8ce5d22": {
          "model_module": "@jupyter-widgets/base",
          "model_name": "LayoutModel",
          "model_module_version": "1.2.0",
          "state": {
            "_model_module": "@jupyter-widgets/base",
            "_model_module_version": "1.2.0",
            "_model_name": "LayoutModel",
            "_view_count": null,
            "_view_module": "@jupyter-widgets/base",
            "_view_module_version": "1.2.0",
            "_view_name": "LayoutView",
            "align_content": null,
            "align_items": null,
            "align_self": null,
            "border": null,
            "bottom": null,
            "display": null,
            "flex": null,
            "flex_flow": null,
            "grid_area": null,
            "grid_auto_columns": null,
            "grid_auto_flow": null,
            "grid_auto_rows": null,
            "grid_column": null,
            "grid_gap": null,
            "grid_row": null,
            "grid_template_areas": null,
            "grid_template_columns": null,
            "grid_template_rows": null,
            "height": null,
            "justify_content": null,
            "justify_items": null,
            "left": null,
            "margin": null,
            "max_height": null,
            "max_width": null,
            "min_height": null,
            "min_width": null,
            "object_fit": null,
            "object_position": null,
            "order": null,
            "overflow": null,
            "overflow_x": null,
            "overflow_y": null,
            "padding": null,
            "right": null,
            "top": null,
            "visibility": null,
            "width": null
          }
        },
        "2d9384b1a6a34cea964067edc1bdd91a": {
          "model_module": "@jupyter-widgets/controls",
          "model_name": "ProgressStyleModel",
          "model_module_version": "1.5.0",
          "state": {
            "_model_module": "@jupyter-widgets/controls",
            "_model_module_version": "1.5.0",
            "_model_name": "ProgressStyleModel",
            "_view_count": null,
            "_view_module": "@jupyter-widgets/base",
            "_view_module_version": "1.2.0",
            "_view_name": "StyleView",
            "bar_color": null,
            "description_width": ""
          }
        },
        "080aedb498b242808464db322b5e13dd": {
          "model_module": "@jupyter-widgets/base",
          "model_name": "LayoutModel",
          "model_module_version": "1.2.0",
          "state": {
            "_model_module": "@jupyter-widgets/base",
            "_model_module_version": "1.2.0",
            "_model_name": "LayoutModel",
            "_view_count": null,
            "_view_module": "@jupyter-widgets/base",
            "_view_module_version": "1.2.0",
            "_view_name": "LayoutView",
            "align_content": null,
            "align_items": null,
            "align_self": null,
            "border": null,
            "bottom": null,
            "display": null,
            "flex": null,
            "flex_flow": null,
            "grid_area": null,
            "grid_auto_columns": null,
            "grid_auto_flow": null,
            "grid_auto_rows": null,
            "grid_column": null,
            "grid_gap": null,
            "grid_row": null,
            "grid_template_areas": null,
            "grid_template_columns": null,
            "grid_template_rows": null,
            "height": null,
            "justify_content": null,
            "justify_items": null,
            "left": null,
            "margin": null,
            "max_height": null,
            "max_width": null,
            "min_height": null,
            "min_width": null,
            "object_fit": null,
            "object_position": null,
            "order": null,
            "overflow": null,
            "overflow_x": null,
            "overflow_y": null,
            "padding": null,
            "right": null,
            "top": null,
            "visibility": null,
            "width": null
          }
        },
        "44656e8d544a441db8505faff4b260ea": {
          "model_module": "@jupyter-widgets/controls",
          "model_name": "DescriptionStyleModel",
          "model_module_version": "1.5.0",
          "state": {
            "_model_module": "@jupyter-widgets/controls",
            "_model_module_version": "1.5.0",
            "_model_name": "DescriptionStyleModel",
            "_view_count": null,
            "_view_module": "@jupyter-widgets/base",
            "_view_module_version": "1.2.0",
            "_view_name": "StyleView",
            "description_width": ""
          }
        },
        "f13c1942e7024f43a3d86a7d21b67ea2": {
          "model_module": "@jupyter-widgets/controls",
          "model_name": "HBoxModel",
          "model_module_version": "1.5.0",
          "state": {
            "_dom_classes": [],
            "_model_module": "@jupyter-widgets/controls",
            "_model_module_version": "1.5.0",
            "_model_name": "HBoxModel",
            "_view_count": null,
            "_view_module": "@jupyter-widgets/controls",
            "_view_module_version": "1.5.0",
            "_view_name": "HBoxView",
            "box_style": "",
            "children": [
              "IPY_MODEL_870af05576bb46e1ab711856c12b51a9",
              "IPY_MODEL_f294a26f5084434b914e1c61d22b864c",
              "IPY_MODEL_7866d51e32e7445f9fd1cbe7d15cdfd4"
            ],
            "layout": "IPY_MODEL_0f8d6e6cc4cd40fb9bb524e48d720b62"
          }
        },
        "870af05576bb46e1ab711856c12b51a9": {
          "model_module": "@jupyter-widgets/controls",
          "model_name": "HTMLModel",
          "model_module_version": "1.5.0",
          "state": {
            "_dom_classes": [],
            "_model_module": "@jupyter-widgets/controls",
            "_model_module_version": "1.5.0",
            "_model_name": "HTMLModel",
            "_view_count": null,
            "_view_module": "@jupyter-widgets/controls",
            "_view_module_version": "1.5.0",
            "_view_name": "HTMLView",
            "description": "",
            "description_tooltip": null,
            "layout": "IPY_MODEL_171f252ea4fc40ac99b1ffad0898b2c2",
            "placeholder": "​",
            "style": "IPY_MODEL_e10037128642447d86e71b39db7b91ae",
            "value": ""
          }
        },
        "f294a26f5084434b914e1c61d22b864c": {
          "model_module": "@jupyter-widgets/controls",
          "model_name": "FloatProgressModel",
          "model_module_version": "1.5.0",
          "state": {
            "_dom_classes": [],
            "_model_module": "@jupyter-widgets/controls",
            "_model_module_version": "1.5.0",
            "_model_name": "FloatProgressModel",
            "_view_count": null,
            "_view_module": "@jupyter-widgets/controls",
            "_view_module_version": "1.5.0",
            "_view_name": "ProgressView",
            "bar_style": "success",
            "description": "",
            "description_tooltip": null,
            "layout": "IPY_MODEL_edc576538f3349b7b15dfe334b6e3b4a",
            "max": 29515,
            "min": 0,
            "orientation": "horizontal",
            "style": "IPY_MODEL_34dea8f4c6e94231ab0494854c287c3f",
            "value": 29515
          }
        },
        "7866d51e32e7445f9fd1cbe7d15cdfd4": {
          "model_module": "@jupyter-widgets/controls",
          "model_name": "HTMLModel",
          "model_module_version": "1.5.0",
          "state": {
            "_dom_classes": [],
            "_model_module": "@jupyter-widgets/controls",
            "_model_module_version": "1.5.0",
            "_model_name": "HTMLModel",
            "_view_count": null,
            "_view_module": "@jupyter-widgets/controls",
            "_view_module_version": "1.5.0",
            "_view_name": "HTMLView",
            "description": "",
            "description_tooltip": null,
            "layout": "IPY_MODEL_5525e71b163c4354ac656d27b2847eaa",
            "placeholder": "​",
            "style": "IPY_MODEL_737b2a12e22a42aba3b21509281d7527",
            "value": " 29696/? [00:00&lt;00:00, 44074.08it/s]"
          }
        },
        "0f8d6e6cc4cd40fb9bb524e48d720b62": {
          "model_module": "@jupyter-widgets/base",
          "model_name": "LayoutModel",
          "model_module_version": "1.2.0",
          "state": {
            "_model_module": "@jupyter-widgets/base",
            "_model_module_version": "1.2.0",
            "_model_name": "LayoutModel",
            "_view_count": null,
            "_view_module": "@jupyter-widgets/base",
            "_view_module_version": "1.2.0",
            "_view_name": "LayoutView",
            "align_content": null,
            "align_items": null,
            "align_self": null,
            "border": null,
            "bottom": null,
            "display": null,
            "flex": null,
            "flex_flow": null,
            "grid_area": null,
            "grid_auto_columns": null,
            "grid_auto_flow": null,
            "grid_auto_rows": null,
            "grid_column": null,
            "grid_gap": null,
            "grid_row": null,
            "grid_template_areas": null,
            "grid_template_columns": null,
            "grid_template_rows": null,
            "height": null,
            "justify_content": null,
            "justify_items": null,
            "left": null,
            "margin": null,
            "max_height": null,
            "max_width": null,
            "min_height": null,
            "min_width": null,
            "object_fit": null,
            "object_position": null,
            "order": null,
            "overflow": null,
            "overflow_x": null,
            "overflow_y": null,
            "padding": null,
            "right": null,
            "top": null,
            "visibility": null,
            "width": null
          }
        },
        "171f252ea4fc40ac99b1ffad0898b2c2": {
          "model_module": "@jupyter-widgets/base",
          "model_name": "LayoutModel",
          "model_module_version": "1.2.0",
          "state": {
            "_model_module": "@jupyter-widgets/base",
            "_model_module_version": "1.2.0",
            "_model_name": "LayoutModel",
            "_view_count": null,
            "_view_module": "@jupyter-widgets/base",
            "_view_module_version": "1.2.0",
            "_view_name": "LayoutView",
            "align_content": null,
            "align_items": null,
            "align_self": null,
            "border": null,
            "bottom": null,
            "display": null,
            "flex": null,
            "flex_flow": null,
            "grid_area": null,
            "grid_auto_columns": null,
            "grid_auto_flow": null,
            "grid_auto_rows": null,
            "grid_column": null,
            "grid_gap": null,
            "grid_row": null,
            "grid_template_areas": null,
            "grid_template_columns": null,
            "grid_template_rows": null,
            "height": null,
            "justify_content": null,
            "justify_items": null,
            "left": null,
            "margin": null,
            "max_height": null,
            "max_width": null,
            "min_height": null,
            "min_width": null,
            "object_fit": null,
            "object_position": null,
            "order": null,
            "overflow": null,
            "overflow_x": null,
            "overflow_y": null,
            "padding": null,
            "right": null,
            "top": null,
            "visibility": null,
            "width": null
          }
        },
        "e10037128642447d86e71b39db7b91ae": {
          "model_module": "@jupyter-widgets/controls",
          "model_name": "DescriptionStyleModel",
          "model_module_version": "1.5.0",
          "state": {
            "_model_module": "@jupyter-widgets/controls",
            "_model_module_version": "1.5.0",
            "_model_name": "DescriptionStyleModel",
            "_view_count": null,
            "_view_module": "@jupyter-widgets/base",
            "_view_module_version": "1.2.0",
            "_view_name": "StyleView",
            "description_width": ""
          }
        },
        "edc576538f3349b7b15dfe334b6e3b4a": {
          "model_module": "@jupyter-widgets/base",
          "model_name": "LayoutModel",
          "model_module_version": "1.2.0",
          "state": {
            "_model_module": "@jupyter-widgets/base",
            "_model_module_version": "1.2.0",
            "_model_name": "LayoutModel",
            "_view_count": null,
            "_view_module": "@jupyter-widgets/base",
            "_view_module_version": "1.2.0",
            "_view_name": "LayoutView",
            "align_content": null,
            "align_items": null,
            "align_self": null,
            "border": null,
            "bottom": null,
            "display": null,
            "flex": null,
            "flex_flow": null,
            "grid_area": null,
            "grid_auto_columns": null,
            "grid_auto_flow": null,
            "grid_auto_rows": null,
            "grid_column": null,
            "grid_gap": null,
            "grid_row": null,
            "grid_template_areas": null,
            "grid_template_columns": null,
            "grid_template_rows": null,
            "height": null,
            "justify_content": null,
            "justify_items": null,
            "left": null,
            "margin": null,
            "max_height": null,
            "max_width": null,
            "min_height": null,
            "min_width": null,
            "object_fit": null,
            "object_position": null,
            "order": null,
            "overflow": null,
            "overflow_x": null,
            "overflow_y": null,
            "padding": null,
            "right": null,
            "top": null,
            "visibility": null,
            "width": null
          }
        },
        "34dea8f4c6e94231ab0494854c287c3f": {
          "model_module": "@jupyter-widgets/controls",
          "model_name": "ProgressStyleModel",
          "model_module_version": "1.5.0",
          "state": {
            "_model_module": "@jupyter-widgets/controls",
            "_model_module_version": "1.5.0",
            "_model_name": "ProgressStyleModel",
            "_view_count": null,
            "_view_module": "@jupyter-widgets/base",
            "_view_module_version": "1.2.0",
            "_view_name": "StyleView",
            "bar_color": null,
            "description_width": ""
          }
        },
        "5525e71b163c4354ac656d27b2847eaa": {
          "model_module": "@jupyter-widgets/base",
          "model_name": "LayoutModel",
          "model_module_version": "1.2.0",
          "state": {
            "_model_module": "@jupyter-widgets/base",
            "_model_module_version": "1.2.0",
            "_model_name": "LayoutModel",
            "_view_count": null,
            "_view_module": "@jupyter-widgets/base",
            "_view_module_version": "1.2.0",
            "_view_name": "LayoutView",
            "align_content": null,
            "align_items": null,
            "align_self": null,
            "border": null,
            "bottom": null,
            "display": null,
            "flex": null,
            "flex_flow": null,
            "grid_area": null,
            "grid_auto_columns": null,
            "grid_auto_flow": null,
            "grid_auto_rows": null,
            "grid_column": null,
            "grid_gap": null,
            "grid_row": null,
            "grid_template_areas": null,
            "grid_template_columns": null,
            "grid_template_rows": null,
            "height": null,
            "justify_content": null,
            "justify_items": null,
            "left": null,
            "margin": null,
            "max_height": null,
            "max_width": null,
            "min_height": null,
            "min_width": null,
            "object_fit": null,
            "object_position": null,
            "order": null,
            "overflow": null,
            "overflow_x": null,
            "overflow_y": null,
            "padding": null,
            "right": null,
            "top": null,
            "visibility": null,
            "width": null
          }
        },
        "737b2a12e22a42aba3b21509281d7527": {
          "model_module": "@jupyter-widgets/controls",
          "model_name": "DescriptionStyleModel",
          "model_module_version": "1.5.0",
          "state": {
            "_model_module": "@jupyter-widgets/controls",
            "_model_module_version": "1.5.0",
            "_model_name": "DescriptionStyleModel",
            "_view_count": null,
            "_view_module": "@jupyter-widgets/base",
            "_view_module_version": "1.2.0",
            "_view_name": "StyleView",
            "description_width": ""
          }
        },
        "5cc21ced72624a5ebbf88b9fd1ca0c0d": {
          "model_module": "@jupyter-widgets/controls",
          "model_name": "HBoxModel",
          "model_module_version": "1.5.0",
          "state": {
            "_dom_classes": [],
            "_model_module": "@jupyter-widgets/controls",
            "_model_module_version": "1.5.0",
            "_model_name": "HBoxModel",
            "_view_count": null,
            "_view_module": "@jupyter-widgets/controls",
            "_view_module_version": "1.5.0",
            "_view_name": "HBoxView",
            "box_style": "",
            "children": [
              "IPY_MODEL_6dc032cedc274177917541d4280ca162",
              "IPY_MODEL_ca9e2d73da8a46db9f857b553f0c6980",
              "IPY_MODEL_31465303d6184f64a93968a4063b640d"
            ],
            "layout": "IPY_MODEL_2110b8cab7684036a966c941aeafb67f"
          }
        },
        "6dc032cedc274177917541d4280ca162": {
          "model_module": "@jupyter-widgets/controls",
          "model_name": "HTMLModel",
          "model_module_version": "1.5.0",
          "state": {
            "_dom_classes": [],
            "_model_module": "@jupyter-widgets/controls",
            "_model_module_version": "1.5.0",
            "_model_name": "HTMLModel",
            "_view_count": null,
            "_view_module": "@jupyter-widgets/controls",
            "_view_module_version": "1.5.0",
            "_view_name": "HTMLView",
            "description": "",
            "description_tooltip": null,
            "layout": "IPY_MODEL_fe091852bf9d447d8ffca505f992d666",
            "placeholder": "​",
            "style": "IPY_MODEL_6de49e7b5fd6496e9f6f02cc3f78faba",
            "value": ""
          }
        },
        "ca9e2d73da8a46db9f857b553f0c6980": {
          "model_module": "@jupyter-widgets/controls",
          "model_name": "FloatProgressModel",
          "model_module_version": "1.5.0",
          "state": {
            "_dom_classes": [],
            "_model_module": "@jupyter-widgets/controls",
            "_model_module_version": "1.5.0",
            "_model_name": "FloatProgressModel",
            "_view_count": null,
            "_view_module": "@jupyter-widgets/controls",
            "_view_module_version": "1.5.0",
            "_view_name": "ProgressView",
            "bar_style": "success",
            "description": "",
            "description_tooltip": null,
            "layout": "IPY_MODEL_2826be550d67472a8adb1eb11b121930",
            "max": 4422102,
            "min": 0,
            "orientation": "horizontal",
            "style": "IPY_MODEL_d821193a93474deeb59be777a5985212",
            "value": 4422102
          }
        },
        "31465303d6184f64a93968a4063b640d": {
          "model_module": "@jupyter-widgets/controls",
          "model_name": "HTMLModel",
          "model_module_version": "1.5.0",
          "state": {
            "_dom_classes": [],
            "_model_module": "@jupyter-widgets/controls",
            "_model_module_version": "1.5.0",
            "_model_name": "HTMLModel",
            "_view_count": null,
            "_view_module": "@jupyter-widgets/controls",
            "_view_module_version": "1.5.0",
            "_view_name": "HTMLView",
            "description": "",
            "description_tooltip": null,
            "layout": "IPY_MODEL_9af84a1991a741d48fca9694eb735150",
            "placeholder": "​",
            "style": "IPY_MODEL_e2a39543abae4999b96678b5ea9dc20f",
            "value": " 4422656/? [00:02&lt;00:00, 3223392.06it/s]"
          }
        },
        "2110b8cab7684036a966c941aeafb67f": {
          "model_module": "@jupyter-widgets/base",
          "model_name": "LayoutModel",
          "model_module_version": "1.2.0",
          "state": {
            "_model_module": "@jupyter-widgets/base",
            "_model_module_version": "1.2.0",
            "_model_name": "LayoutModel",
            "_view_count": null,
            "_view_module": "@jupyter-widgets/base",
            "_view_module_version": "1.2.0",
            "_view_name": "LayoutView",
            "align_content": null,
            "align_items": null,
            "align_self": null,
            "border": null,
            "bottom": null,
            "display": null,
            "flex": null,
            "flex_flow": null,
            "grid_area": null,
            "grid_auto_columns": null,
            "grid_auto_flow": null,
            "grid_auto_rows": null,
            "grid_column": null,
            "grid_gap": null,
            "grid_row": null,
            "grid_template_areas": null,
            "grid_template_columns": null,
            "grid_template_rows": null,
            "height": null,
            "justify_content": null,
            "justify_items": null,
            "left": null,
            "margin": null,
            "max_height": null,
            "max_width": null,
            "min_height": null,
            "min_width": null,
            "object_fit": null,
            "object_position": null,
            "order": null,
            "overflow": null,
            "overflow_x": null,
            "overflow_y": null,
            "padding": null,
            "right": null,
            "top": null,
            "visibility": null,
            "width": null
          }
        },
        "fe091852bf9d447d8ffca505f992d666": {
          "model_module": "@jupyter-widgets/base",
          "model_name": "LayoutModel",
          "model_module_version": "1.2.0",
          "state": {
            "_model_module": "@jupyter-widgets/base",
            "_model_module_version": "1.2.0",
            "_model_name": "LayoutModel",
            "_view_count": null,
            "_view_module": "@jupyter-widgets/base",
            "_view_module_version": "1.2.0",
            "_view_name": "LayoutView",
            "align_content": null,
            "align_items": null,
            "align_self": null,
            "border": null,
            "bottom": null,
            "display": null,
            "flex": null,
            "flex_flow": null,
            "grid_area": null,
            "grid_auto_columns": null,
            "grid_auto_flow": null,
            "grid_auto_rows": null,
            "grid_column": null,
            "grid_gap": null,
            "grid_row": null,
            "grid_template_areas": null,
            "grid_template_columns": null,
            "grid_template_rows": null,
            "height": null,
            "justify_content": null,
            "justify_items": null,
            "left": null,
            "margin": null,
            "max_height": null,
            "max_width": null,
            "min_height": null,
            "min_width": null,
            "object_fit": null,
            "object_position": null,
            "order": null,
            "overflow": null,
            "overflow_x": null,
            "overflow_y": null,
            "padding": null,
            "right": null,
            "top": null,
            "visibility": null,
            "width": null
          }
        },
        "6de49e7b5fd6496e9f6f02cc3f78faba": {
          "model_module": "@jupyter-widgets/controls",
          "model_name": "DescriptionStyleModel",
          "model_module_version": "1.5.0",
          "state": {
            "_model_module": "@jupyter-widgets/controls",
            "_model_module_version": "1.5.0",
            "_model_name": "DescriptionStyleModel",
            "_view_count": null,
            "_view_module": "@jupyter-widgets/base",
            "_view_module_version": "1.2.0",
            "_view_name": "StyleView",
            "description_width": ""
          }
        },
        "2826be550d67472a8adb1eb11b121930": {
          "model_module": "@jupyter-widgets/base",
          "model_name": "LayoutModel",
          "model_module_version": "1.2.0",
          "state": {
            "_model_module": "@jupyter-widgets/base",
            "_model_module_version": "1.2.0",
            "_model_name": "LayoutModel",
            "_view_count": null,
            "_view_module": "@jupyter-widgets/base",
            "_view_module_version": "1.2.0",
            "_view_name": "LayoutView",
            "align_content": null,
            "align_items": null,
            "align_self": null,
            "border": null,
            "bottom": null,
            "display": null,
            "flex": null,
            "flex_flow": null,
            "grid_area": null,
            "grid_auto_columns": null,
            "grid_auto_flow": null,
            "grid_auto_rows": null,
            "grid_column": null,
            "grid_gap": null,
            "grid_row": null,
            "grid_template_areas": null,
            "grid_template_columns": null,
            "grid_template_rows": null,
            "height": null,
            "justify_content": null,
            "justify_items": null,
            "left": null,
            "margin": null,
            "max_height": null,
            "max_width": null,
            "min_height": null,
            "min_width": null,
            "object_fit": null,
            "object_position": null,
            "order": null,
            "overflow": null,
            "overflow_x": null,
            "overflow_y": null,
            "padding": null,
            "right": null,
            "top": null,
            "visibility": null,
            "width": null
          }
        },
        "d821193a93474deeb59be777a5985212": {
          "model_module": "@jupyter-widgets/controls",
          "model_name": "ProgressStyleModel",
          "model_module_version": "1.5.0",
          "state": {
            "_model_module": "@jupyter-widgets/controls",
            "_model_module_version": "1.5.0",
            "_model_name": "ProgressStyleModel",
            "_view_count": null,
            "_view_module": "@jupyter-widgets/base",
            "_view_module_version": "1.2.0",
            "_view_name": "StyleView",
            "bar_color": null,
            "description_width": ""
          }
        },
        "9af84a1991a741d48fca9694eb735150": {
          "model_module": "@jupyter-widgets/base",
          "model_name": "LayoutModel",
          "model_module_version": "1.2.0",
          "state": {
            "_model_module": "@jupyter-widgets/base",
            "_model_module_version": "1.2.0",
            "_model_name": "LayoutModel",
            "_view_count": null,
            "_view_module": "@jupyter-widgets/base",
            "_view_module_version": "1.2.0",
            "_view_name": "LayoutView",
            "align_content": null,
            "align_items": null,
            "align_self": null,
            "border": null,
            "bottom": null,
            "display": null,
            "flex": null,
            "flex_flow": null,
            "grid_area": null,
            "grid_auto_columns": null,
            "grid_auto_flow": null,
            "grid_auto_rows": null,
            "grid_column": null,
            "grid_gap": null,
            "grid_row": null,
            "grid_template_areas": null,
            "grid_template_columns": null,
            "grid_template_rows": null,
            "height": null,
            "justify_content": null,
            "justify_items": null,
            "left": null,
            "margin": null,
            "max_height": null,
            "max_width": null,
            "min_height": null,
            "min_width": null,
            "object_fit": null,
            "object_position": null,
            "order": null,
            "overflow": null,
            "overflow_x": null,
            "overflow_y": null,
            "padding": null,
            "right": null,
            "top": null,
            "visibility": null,
            "width": null
          }
        },
        "e2a39543abae4999b96678b5ea9dc20f": {
          "model_module": "@jupyter-widgets/controls",
          "model_name": "DescriptionStyleModel",
          "model_module_version": "1.5.0",
          "state": {
            "_model_module": "@jupyter-widgets/controls",
            "_model_module_version": "1.5.0",
            "_model_name": "DescriptionStyleModel",
            "_view_count": null,
            "_view_module": "@jupyter-widgets/base",
            "_view_module_version": "1.2.0",
            "_view_name": "StyleView",
            "description_width": ""
          }
        },
        "b09f974cb000401e973f7931c5468ddc": {
          "model_module": "@jupyter-widgets/controls",
          "model_name": "HBoxModel",
          "model_module_version": "1.5.0",
          "state": {
            "_dom_classes": [],
            "_model_module": "@jupyter-widgets/controls",
            "_model_module_version": "1.5.0",
            "_model_name": "HBoxModel",
            "_view_count": null,
            "_view_module": "@jupyter-widgets/controls",
            "_view_module_version": "1.5.0",
            "_view_name": "HBoxView",
            "box_style": "",
            "children": [
              "IPY_MODEL_1071b6effcc94abb88adc9b36a37812a",
              "IPY_MODEL_f43983995f264fda93fef9311a3b2ae3",
              "IPY_MODEL_357b4e031247483e9d59bd0cbce0cd53"
            ],
            "layout": "IPY_MODEL_57acd2d4a69f488a9b438d42cb125fb7"
          }
        },
        "1071b6effcc94abb88adc9b36a37812a": {
          "model_module": "@jupyter-widgets/controls",
          "model_name": "HTMLModel",
          "model_module_version": "1.5.0",
          "state": {
            "_dom_classes": [],
            "_model_module": "@jupyter-widgets/controls",
            "_model_module_version": "1.5.0",
            "_model_name": "HTMLModel",
            "_view_count": null,
            "_view_module": "@jupyter-widgets/controls",
            "_view_module_version": "1.5.0",
            "_view_name": "HTMLView",
            "description": "",
            "description_tooltip": null,
            "layout": "IPY_MODEL_31747e77306a42d9bd2c11a256e0c2b7",
            "placeholder": "​",
            "style": "IPY_MODEL_d5be8f8c31b345af912b5555f10bd0ef",
            "value": ""
          }
        },
        "f43983995f264fda93fef9311a3b2ae3": {
          "model_module": "@jupyter-widgets/controls",
          "model_name": "FloatProgressModel",
          "model_module_version": "1.5.0",
          "state": {
            "_dom_classes": [],
            "_model_module": "@jupyter-widgets/controls",
            "_model_module_version": "1.5.0",
            "_model_name": "FloatProgressModel",
            "_view_count": null,
            "_view_module": "@jupyter-widgets/controls",
            "_view_module_version": "1.5.0",
            "_view_name": "ProgressView",
            "bar_style": "success",
            "description": "",
            "description_tooltip": null,
            "layout": "IPY_MODEL_193110481ae04c559f3749ee67622509",
            "max": 5148,
            "min": 0,
            "orientation": "horizontal",
            "style": "IPY_MODEL_128d77d541024f97997b5f886abc3650",
            "value": 5148
          }
        },
        "357b4e031247483e9d59bd0cbce0cd53": {
          "model_module": "@jupyter-widgets/controls",
          "model_name": "HTMLModel",
          "model_module_version": "1.5.0",
          "state": {
            "_dom_classes": [],
            "_model_module": "@jupyter-widgets/controls",
            "_model_module_version": "1.5.0",
            "_model_name": "HTMLModel",
            "_view_count": null,
            "_view_module": "@jupyter-widgets/controls",
            "_view_module_version": "1.5.0",
            "_view_name": "HTMLView",
            "description": "",
            "description_tooltip": null,
            "layout": "IPY_MODEL_6b86868f2f7c4bdb9a9156cd5594c74b",
            "placeholder": "​",
            "style": "IPY_MODEL_f2bef4764e6a4c05b1806749c44fa0ce",
            "value": " 6144/? [00:00&lt;00:00, 208362.07it/s]"
          }
        },
        "57acd2d4a69f488a9b438d42cb125fb7": {
          "model_module": "@jupyter-widgets/base",
          "model_name": "LayoutModel",
          "model_module_version": "1.2.0",
          "state": {
            "_model_module": "@jupyter-widgets/base",
            "_model_module_version": "1.2.0",
            "_model_name": "LayoutModel",
            "_view_count": null,
            "_view_module": "@jupyter-widgets/base",
            "_view_module_version": "1.2.0",
            "_view_name": "LayoutView",
            "align_content": null,
            "align_items": null,
            "align_self": null,
            "border": null,
            "bottom": null,
            "display": null,
            "flex": null,
            "flex_flow": null,
            "grid_area": null,
            "grid_auto_columns": null,
            "grid_auto_flow": null,
            "grid_auto_rows": null,
            "grid_column": null,
            "grid_gap": null,
            "grid_row": null,
            "grid_template_areas": null,
            "grid_template_columns": null,
            "grid_template_rows": null,
            "height": null,
            "justify_content": null,
            "justify_items": null,
            "left": null,
            "margin": null,
            "max_height": null,
            "max_width": null,
            "min_height": null,
            "min_width": null,
            "object_fit": null,
            "object_position": null,
            "order": null,
            "overflow": null,
            "overflow_x": null,
            "overflow_y": null,
            "padding": null,
            "right": null,
            "top": null,
            "visibility": null,
            "width": null
          }
        },
        "31747e77306a42d9bd2c11a256e0c2b7": {
          "model_module": "@jupyter-widgets/base",
          "model_name": "LayoutModel",
          "model_module_version": "1.2.0",
          "state": {
            "_model_module": "@jupyter-widgets/base",
            "_model_module_version": "1.2.0",
            "_model_name": "LayoutModel",
            "_view_count": null,
            "_view_module": "@jupyter-widgets/base",
            "_view_module_version": "1.2.0",
            "_view_name": "LayoutView",
            "align_content": null,
            "align_items": null,
            "align_self": null,
            "border": null,
            "bottom": null,
            "display": null,
            "flex": null,
            "flex_flow": null,
            "grid_area": null,
            "grid_auto_columns": null,
            "grid_auto_flow": null,
            "grid_auto_rows": null,
            "grid_column": null,
            "grid_gap": null,
            "grid_row": null,
            "grid_template_areas": null,
            "grid_template_columns": null,
            "grid_template_rows": null,
            "height": null,
            "justify_content": null,
            "justify_items": null,
            "left": null,
            "margin": null,
            "max_height": null,
            "max_width": null,
            "min_height": null,
            "min_width": null,
            "object_fit": null,
            "object_position": null,
            "order": null,
            "overflow": null,
            "overflow_x": null,
            "overflow_y": null,
            "padding": null,
            "right": null,
            "top": null,
            "visibility": null,
            "width": null
          }
        },
        "d5be8f8c31b345af912b5555f10bd0ef": {
          "model_module": "@jupyter-widgets/controls",
          "model_name": "DescriptionStyleModel",
          "model_module_version": "1.5.0",
          "state": {
            "_model_module": "@jupyter-widgets/controls",
            "_model_module_version": "1.5.0",
            "_model_name": "DescriptionStyleModel",
            "_view_count": null,
            "_view_module": "@jupyter-widgets/base",
            "_view_module_version": "1.2.0",
            "_view_name": "StyleView",
            "description_width": ""
          }
        },
        "193110481ae04c559f3749ee67622509": {
          "model_module": "@jupyter-widgets/base",
          "model_name": "LayoutModel",
          "model_module_version": "1.2.0",
          "state": {
            "_model_module": "@jupyter-widgets/base",
            "_model_module_version": "1.2.0",
            "_model_name": "LayoutModel",
            "_view_count": null,
            "_view_module": "@jupyter-widgets/base",
            "_view_module_version": "1.2.0",
            "_view_name": "LayoutView",
            "align_content": null,
            "align_items": null,
            "align_self": null,
            "border": null,
            "bottom": null,
            "display": null,
            "flex": null,
            "flex_flow": null,
            "grid_area": null,
            "grid_auto_columns": null,
            "grid_auto_flow": null,
            "grid_auto_rows": null,
            "grid_column": null,
            "grid_gap": null,
            "grid_row": null,
            "grid_template_areas": null,
            "grid_template_columns": null,
            "grid_template_rows": null,
            "height": null,
            "justify_content": null,
            "justify_items": null,
            "left": null,
            "margin": null,
            "max_height": null,
            "max_width": null,
            "min_height": null,
            "min_width": null,
            "object_fit": null,
            "object_position": null,
            "order": null,
            "overflow": null,
            "overflow_x": null,
            "overflow_y": null,
            "padding": null,
            "right": null,
            "top": null,
            "visibility": null,
            "width": null
          }
        },
        "128d77d541024f97997b5f886abc3650": {
          "model_module": "@jupyter-widgets/controls",
          "model_name": "ProgressStyleModel",
          "model_module_version": "1.5.0",
          "state": {
            "_model_module": "@jupyter-widgets/controls",
            "_model_module_version": "1.5.0",
            "_model_name": "ProgressStyleModel",
            "_view_count": null,
            "_view_module": "@jupyter-widgets/base",
            "_view_module_version": "1.2.0",
            "_view_name": "StyleView",
            "bar_color": null,
            "description_width": ""
          }
        },
        "6b86868f2f7c4bdb9a9156cd5594c74b": {
          "model_module": "@jupyter-widgets/base",
          "model_name": "LayoutModel",
          "model_module_version": "1.2.0",
          "state": {
            "_model_module": "@jupyter-widgets/base",
            "_model_module_version": "1.2.0",
            "_model_name": "LayoutModel",
            "_view_count": null,
            "_view_module": "@jupyter-widgets/base",
            "_view_module_version": "1.2.0",
            "_view_name": "LayoutView",
            "align_content": null,
            "align_items": null,
            "align_self": null,
            "border": null,
            "bottom": null,
            "display": null,
            "flex": null,
            "flex_flow": null,
            "grid_area": null,
            "grid_auto_columns": null,
            "grid_auto_flow": null,
            "grid_auto_rows": null,
            "grid_column": null,
            "grid_gap": null,
            "grid_row": null,
            "grid_template_areas": null,
            "grid_template_columns": null,
            "grid_template_rows": null,
            "height": null,
            "justify_content": null,
            "justify_items": null,
            "left": null,
            "margin": null,
            "max_height": null,
            "max_width": null,
            "min_height": null,
            "min_width": null,
            "object_fit": null,
            "object_position": null,
            "order": null,
            "overflow": null,
            "overflow_x": null,
            "overflow_y": null,
            "padding": null,
            "right": null,
            "top": null,
            "visibility": null,
            "width": null
          }
        },
        "f2bef4764e6a4c05b1806749c44fa0ce": {
          "model_module": "@jupyter-widgets/controls",
          "model_name": "DescriptionStyleModel",
          "model_module_version": "1.5.0",
          "state": {
            "_model_module": "@jupyter-widgets/controls",
            "_model_module_version": "1.5.0",
            "_model_name": "DescriptionStyleModel",
            "_view_count": null,
            "_view_module": "@jupyter-widgets/base",
            "_view_module_version": "1.2.0",
            "_view_name": "StyleView",
            "description_width": ""
          }
        }
      }
    }
  },
  "cells": [
    {
      "cell_type": "markdown",
      "metadata": {
        "id": "view-in-github",
        "colab_type": "text"
      },
      "source": [
        "<a href=\"https://colab.research.google.com/github/Jashwanth63/Custom-Model-for-classification-of-Image-Data-without-using-Convolutional-Neural-Networks/blob/main/210367252_Coursework1.ipynb\" target=\"_parent\"><img src=\"https://colab.research.google.com/assets/colab-badge.svg\" alt=\"Open In Colab\"/></a>"
      ]
    },
    {
      "cell_type": "code",
      "source": [
        "!pip install torch_optimizer"
      ],
      "metadata": {
        "colab": {
          "base_uri": "https://localhost:8080/"
        },
        "id": "1zcKJqL3Hg5E",
        "outputId": "30b16509-d0e1-4e05-fbc3-a986f7af0225"
      },
      "execution_count": 3,
      "outputs": [
        {
          "output_type": "stream",
          "name": "stdout",
          "text": [
            "Requirement already satisfied: torch_optimizer in /usr/local/lib/python3.7/dist-packages (0.3.0)\n",
            "Requirement already satisfied: torch>=1.5.0 in /usr/local/lib/python3.7/dist-packages (from torch_optimizer) (1.10.0+cu111)\n",
            "Requirement already satisfied: pytorch-ranger>=0.1.1 in /usr/local/lib/python3.7/dist-packages (from torch_optimizer) (0.1.1)\n",
            "Requirement already satisfied: typing-extensions in /usr/local/lib/python3.7/dist-packages (from torch>=1.5.0->torch_optimizer) (3.10.0.2)\n"
          ]
        }
      ]
    },
    {
      "cell_type": "code",
      "execution_count": 4,
      "metadata": {
        "id": "Czz7_b2O4N8X"
      },
      "outputs": [],
      "source": [
        "import pickle\n",
        "import torch\n",
        "import torch.nn as nn\n",
        "from torchvision.datasets import FashionMNIST\n",
        "import matplotlib.pyplot as plt\n",
        "%matplotlib inline\n",
        "import numpy as np\n",
        "import torchvision\n",
        "from torchvision import transforms\n",
        "from torch.utils.data import TensorDataset\n",
        "import torch.nn.functional as F\n",
        "import torch.optim as optim\n",
        "import tqdm as tqdm\n",
        "import torch_optimizer as optim\n",
        "from torch.nn.modules.loss import KLDivLoss\n",
        "from torch.nn.modules.loss import MultiLabelMarginLoss"
      ]
    },
    {
      "cell_type": "code",
      "source": [
        "if torch.cuda.is_available():\n",
        "  device = torch.device(\"cuda:0\")\n",
        "else:\n",
        "  device = torch.device(\"cpu\")\n",
        "print(device)"
      ],
      "metadata": {
        "colab": {
          "base_uri": "https://localhost:8080/"
        },
        "id": "JLzYWJoq4RNg",
        "outputId": "585f7da7-e617-4514-c2d9-69a71508c19f"
      },
      "execution_count": 5,
      "outputs": [
        {
          "output_type": "stream",
          "name": "stdout",
          "text": [
            "cuda:0\n"
          ]
        }
      ]
    },
    {
      "cell_type": "code",
      "source": [
        "#READ AND WRITE PROCESSED DATASET \n",
        "\n",
        "def write_vectorised(data, data_usecase):\n",
        "  if data_usecase == \"TRAIN\":\n",
        "    with open(\"vectorised_train.txt\", \"wb\") as file_pointer:\n",
        "      pickle.dump(data, file_pointer)\n",
        "  elif data_usecase == \"TEST\":\n",
        "    with open(\"vectorised_test.txt\",\"wb\") as file_pointer:\n",
        "      pickle.dump(data, file_pointer)\n",
        "      \n",
        "def read_vectorised(data_usecase):\n",
        "  if data_usecase == \"TRAIN\":\n",
        "    with open(\"vectorised_train.txt\", \"rb\") as file_pointer:\n",
        "      return pickle.load(file_pointer)\n",
        "  elif data_usecase == \"TEST\":\n",
        "    with open(\"vectorised_test.txt\",\"rb\") as file_pointer:\n",
        "      return pickle.load(file_pointer)\n"
      ],
      "metadata": {
        "id": "PzVFprM54TFY"
      },
      "execution_count": 6,
      "outputs": []
    },
    {
      "cell_type": "code",
      "source": [
        "def download_data(b_size=64):  \n",
        "    \"\"\"Download the Fashion-MNIST dataset and then load it into memory.\"\"\"\n",
        "    transformations = transforms.Compose([\n",
        "                                          transforms.ToTensor(),\n",
        "                                          transforms.Normalize((0.5), (0.5))\n",
        "                                        ])\n",
        "\n",
        "    mnist_train = torchvision.datasets.FashionMNIST(\".\", train = True, transform = transformations, target_transform = transforms.Lambda(\n",
        "                                                    lambda x:torch.zeros(10, dtype = torch.float64).scatter_(dim = 0, index= torch.tensor(x), value = 1)),\n",
        "                                                    download = True)\n",
        "    \n",
        "    mnist_train = torch.utils.data.DataLoader(mnist_train, batch_size = b_size, shuffle = True, num_workers = 3)\n",
        "\n",
        "    mnist_test = torchvision.datasets.FashionMNIST(\".\", train = False, transform = transformations, target_transform = transforms.Lambda( \n",
        "                                                    lambda x:torch.zeros(10, dtype = torch.float64).scatter_(dim=0, index = torch.tensor(x), value = 1)), \n",
        "                                                   download = True)\n",
        "    \n",
        "    mnist_test = torch.utils.data.DataLoader(mnist_test, batch_size=b_size, shuffle = True, num_workers = 3)\n",
        "    return mnist_train, mnist_test  "
      ],
      "metadata": {
        "id": "Hg4v4r9F4f9o"
      },
      "execution_count": 7,
      "outputs": []
    },
    {
      "cell_type": "code",
      "source": [
        "'''\n",
        "  Used a lambda target_transform to make the labels one-hot encoded. USed two transformations on the dataset\n",
        "'''"
      ],
      "metadata": {
        "id": "rGR0MtKr6nI1"
      },
      "execution_count": null,
      "outputs": []
    },
    {
      "cell_type": "code",
      "source": [
        "training,  testing = download_data(b_size=64)"
      ],
      "metadata": {
        "colab": {
          "base_uri": "https://localhost:8080/",
          "height": 437,
          "referenced_widgets": [
            "4cfd4f88e7ee409db15e4d4823c9e2d6",
            "08b55dbf0a6747e4bab5c8974d0098ac",
            "14f5362f0c0d40a2886524b0161624ba",
            "756164def7084177a6aff165560ac09b",
            "4f1a5cc545744efd95c812a0a182f483",
            "f2a0109ba37148f5bea62caf7a59e91b",
            "bc628e97cae84579a684e65a5baa17ce",
            "0c280aac12894d76a05ec5f7c8ce5d22",
            "2d9384b1a6a34cea964067edc1bdd91a",
            "080aedb498b242808464db322b5e13dd",
            "44656e8d544a441db8505faff4b260ea",
            "f13c1942e7024f43a3d86a7d21b67ea2",
            "870af05576bb46e1ab711856c12b51a9",
            "f294a26f5084434b914e1c61d22b864c",
            "7866d51e32e7445f9fd1cbe7d15cdfd4",
            "0f8d6e6cc4cd40fb9bb524e48d720b62",
            "171f252ea4fc40ac99b1ffad0898b2c2",
            "e10037128642447d86e71b39db7b91ae",
            "edc576538f3349b7b15dfe334b6e3b4a",
            "34dea8f4c6e94231ab0494854c287c3f",
            "5525e71b163c4354ac656d27b2847eaa",
            "737b2a12e22a42aba3b21509281d7527",
            "5cc21ced72624a5ebbf88b9fd1ca0c0d",
            "6dc032cedc274177917541d4280ca162",
            "ca9e2d73da8a46db9f857b553f0c6980",
            "31465303d6184f64a93968a4063b640d",
            "2110b8cab7684036a966c941aeafb67f",
            "fe091852bf9d447d8ffca505f992d666",
            "6de49e7b5fd6496e9f6f02cc3f78faba",
            "2826be550d67472a8adb1eb11b121930",
            "d821193a93474deeb59be777a5985212",
            "9af84a1991a741d48fca9694eb735150",
            "e2a39543abae4999b96678b5ea9dc20f",
            "b09f974cb000401e973f7931c5468ddc",
            "1071b6effcc94abb88adc9b36a37812a",
            "f43983995f264fda93fef9311a3b2ae3",
            "357b4e031247483e9d59bd0cbce0cd53",
            "57acd2d4a69f488a9b438d42cb125fb7",
            "31747e77306a42d9bd2c11a256e0c2b7",
            "d5be8f8c31b345af912b5555f10bd0ef",
            "193110481ae04c559f3749ee67622509",
            "128d77d541024f97997b5f886abc3650",
            "6b86868f2f7c4bdb9a9156cd5594c74b",
            "f2bef4764e6a4c05b1806749c44fa0ce"
          ]
        },
        "id": "f2rbGJq94jGv",
        "outputId": "72dd7ef2-58c5-4587-d6fa-06002c5da030"
      },
      "execution_count": 8,
      "outputs": [
        {
          "output_type": "stream",
          "name": "stdout",
          "text": [
            "Downloading http://fashion-mnist.s3-website.eu-central-1.amazonaws.com/train-images-idx3-ubyte.gz\n",
            "Downloading http://fashion-mnist.s3-website.eu-central-1.amazonaws.com/train-images-idx3-ubyte.gz to ./FashionMNIST/raw/train-images-idx3-ubyte.gz\n"
          ]
        },
        {
          "output_type": "display_data",
          "data": {
            "text/plain": [
              "  0%|          | 0/26421880 [00:00<?, ?it/s]"
            ],
            "application/vnd.jupyter.widget-view+json": {
              "version_major": 2,
              "version_minor": 0,
              "model_id": "4cfd4f88e7ee409db15e4d4823c9e2d6"
            }
          },
          "metadata": {}
        },
        {
          "output_type": "stream",
          "name": "stdout",
          "text": [
            "Extracting ./FashionMNIST/raw/train-images-idx3-ubyte.gz to ./FashionMNIST/raw\n",
            "\n",
            "Downloading http://fashion-mnist.s3-website.eu-central-1.amazonaws.com/train-labels-idx1-ubyte.gz\n",
            "Downloading http://fashion-mnist.s3-website.eu-central-1.amazonaws.com/train-labels-idx1-ubyte.gz to ./FashionMNIST/raw/train-labels-idx1-ubyte.gz\n"
          ]
        },
        {
          "output_type": "display_data",
          "data": {
            "text/plain": [
              "  0%|          | 0/29515 [00:00<?, ?it/s]"
            ],
            "application/vnd.jupyter.widget-view+json": {
              "version_major": 2,
              "version_minor": 0,
              "model_id": "f13c1942e7024f43a3d86a7d21b67ea2"
            }
          },
          "metadata": {}
        },
        {
          "output_type": "stream",
          "name": "stdout",
          "text": [
            "Extracting ./FashionMNIST/raw/train-labels-idx1-ubyte.gz to ./FashionMNIST/raw\n",
            "\n",
            "Downloading http://fashion-mnist.s3-website.eu-central-1.amazonaws.com/t10k-images-idx3-ubyte.gz\n",
            "Downloading http://fashion-mnist.s3-website.eu-central-1.amazonaws.com/t10k-images-idx3-ubyte.gz to ./FashionMNIST/raw/t10k-images-idx3-ubyte.gz\n"
          ]
        },
        {
          "output_type": "display_data",
          "data": {
            "text/plain": [
              "  0%|          | 0/4422102 [00:00<?, ?it/s]"
            ],
            "application/vnd.jupyter.widget-view+json": {
              "version_major": 2,
              "version_minor": 0,
              "model_id": "5cc21ced72624a5ebbf88b9fd1ca0c0d"
            }
          },
          "metadata": {}
        },
        {
          "output_type": "stream",
          "name": "stdout",
          "text": [
            "Extracting ./FashionMNIST/raw/t10k-images-idx3-ubyte.gz to ./FashionMNIST/raw\n",
            "\n",
            "Downloading http://fashion-mnist.s3-website.eu-central-1.amazonaws.com/t10k-labels-idx1-ubyte.gz\n",
            "Downloading http://fashion-mnist.s3-website.eu-central-1.amazonaws.com/t10k-labels-idx1-ubyte.gz to ./FashionMNIST/raw/t10k-labels-idx1-ubyte.gz\n"
          ]
        },
        {
          "output_type": "display_data",
          "data": {
            "text/plain": [
              "  0%|          | 0/5148 [00:00<?, ?it/s]"
            ],
            "application/vnd.jupyter.widget-view+json": {
              "version_major": 2,
              "version_minor": 0,
              "model_id": "b09f974cb000401e973f7931c5468ddc"
            }
          },
          "metadata": {}
        },
        {
          "output_type": "stream",
          "name": "stdout",
          "text": [
            "Extracting ./FashionMNIST/raw/t10k-labels-idx1-ubyte.gz to ./FashionMNIST/raw\n",
            "\n"
          ]
        }
      ]
    },
    {
      "cell_type": "code",
      "source": [
        "#STEM MODEL - 2 CLASSES, ONE FOR PATCHING AND ONE INHERITING PYTORCH\n",
        "\n",
        "class stem_patcher(nn.Module):  #This class will be used for find non-overlapping patches and vectorizing the results\n",
        "  \n",
        "  def __init__(self, patch_size, im_size):\n",
        "    super(stem_patcher, self).__init__()\n",
        "    #self.data = data\n",
        "    self.patch_size = patch_size\n",
        "    self.im_size = im_size\n",
        "    self.patch_dim = int(patch_size**2)\n",
        "    self.im_dim = int(im_size**2)\n",
        "    self.num_patches = int(self.im_dim / self.patch_dim)\n",
        "\n",
        "  \n",
        "  \n",
        "  def patch_tensor_maker(self, image, patch_size, im_size): #This functions finds patches\n",
        "    elements = []\n",
        "    for l in range(0, im_size-patch_size+1, patch_size):\n",
        "      for k in range(0, im_size-patch_size+1, patch_size):\n",
        "        patch = []\n",
        "        for i in range(patch_size):\n",
        "          temp = []\n",
        "          for j in range(patch_size):\n",
        "            temp.append(image[l+i][k+j])\n",
        "          patch.append(temp)\n",
        "        elements.append(patch)\n",
        "    return elements\n",
        "\n",
        "\n",
        "  def patch_maker(self, data):  #This function uses patch_tensor_maker() to find patches, the result is\n",
        "    data_list_main = list()     #appended to a list which is then converted to a torch tensor. This is returned\n",
        "    for i, batch in enumerate(data):    #to the caller. Note that the patches are not vectorized here. \n",
        "      batch_vectorised = []\n",
        "      for image in batch[0]:\n",
        "        im_size = image.size()[1]\n",
        "        batch_vectorised.append(self.patch_tensor_maker(image.view(im_size, im_size), self.patch_size, im_size))\n",
        "      main_data = torch.Tensor(batch_vectorised)\n",
        "      main_labels = batch[1]\n",
        "      data_list_main.append([main_data, main_labels])\n",
        "    return data_list_main\n",
        "\n",
        "\n",
        "class STEM_MAIN(nn.Module):  #This Class passes the vectorized patches into an MLP. \n",
        "  def __init__(self, input_size, output_size):\n",
        "    super(STEM_MAIN, self).__init__()\n",
        "    #STEM - Linear\n",
        "    self.linear = nn.Linear(input_size, output_size) \n",
        "    self.dropout = nn.Dropout(0.2)\n",
        "    self.non_linearity = nn.Tanh()\n",
        "    self.weight_initializer()\n",
        "\n",
        "  def forward(self, x):\n",
        "    #STEM FORWARD\n",
        "    x = self.dropout(self.non_linearity(self.linear(x)))  #Dropout and Non-linearity have been implemented.\n",
        "    return x\n",
        "  \n",
        "  def weight_initializer(self):\n",
        "    for mod in self.modules():\n",
        "      if isinstance(mod, nn.Linear):\n",
        "        nn.init.kaiming_uniform_(mod.weight, mode = 'fan_in')"
      ],
      "metadata": {
        "id": "ym897lqH4tQf"
      },
      "execution_count": 9,
      "outputs": []
    },
    {
      "cell_type": "code",
      "source": [
        "#BACKBONE MODEL - 1 CLASS \n",
        "class BACKBONE(nn.Module):\n",
        "  \n",
        "  def __init__(self,  input_size, block_size, output_size):\n",
        "    super(BACKBONE, self).__init__()\n",
        "    self.blocks= block_size\n",
        "    self.input_size = input_size\n",
        "    self.output_size = output_size\n",
        "    self.dropout = nn.Dropout(0.2)\n",
        "\n",
        "    for i in range(self.blocks):\n",
        "      self.add_module('L1_{0}'.format(i+1), nn.Linear(self.input_size, 128))\n",
        "      self.add_module('L2_{0}'.format(i+1), nn.Linear(128, 4))\n",
        "      self.add_module('L3_{0}'.format(i+1), nn.Linear(256, 128))\n",
        "      self.add_module('L4_{0}'.format(i+1), nn.Linear(128,self.output_size))\n",
        "      self.add_module('tan1_{0}'.format(i+1), nn.Tanh())\n",
        "      self.add_module('tan2_{0}'.format(i+1), nn.Tanh())\n",
        "\n",
        "    self.relu_skip = nn.ReLU() #For Skip Connection\n",
        "\n",
        "    self.weight_initializer()\n",
        "\n",
        "  \n",
        "  def forward(self, x):\n",
        "    #BACKBONE\n",
        "    for i in range(self.blocks):\n",
        "      x = self.call_block(x, block_number = i+1)\n",
        "    return x\n",
        "  \n",
        "\n",
        "  def call_block(self, x, block_number):\n",
        "    identity = x\n",
        "    out = x.transpose(1,2)  #X=> X^T\n",
        "    out = self._modules['L1_{0}'.format(block_number)](out) #matmul(X^T,W1)\n",
        "    out = self._modules['tan1_{0}'.format(block_number)](out)\n",
        "    out = self.dropout(out)                   #Added Dropout after Non-Linear Activation\n",
        "    #x = self.tanactivation(x) #g(X^T,W1) , g() is tanh()\n",
        "    out = self._modules['L2_{0}'.format(block_number)](out) #01 = g() X W2\n",
        "\n",
        "    out = out.transpose(1,2) #O1 => O1^T\n",
        "    out = self._modules['L3_{0}'.format(block_number)](out) #matmul(01, W3)\n",
        "    out = self._modules['tan2_{0}'.format(block_number)](out) #g(O1, W3), g() is tanh()\n",
        "    out = self.dropout(out)\n",
        "    #x = self.tanactivation(x) \n",
        "    out = self._modules['L4_{0}'.format(block_number)](out) #O2 = g() X W4\n",
        "  \n",
        "    \n",
        "    out += identity\n",
        "    out = self.relu_skip(out)        #Using Skip Connections with relu\n",
        "    \n",
        "    return out\n",
        "\n",
        "  \n",
        "  def weight_initializer(self):\n",
        "    for mod in self.modules():\n",
        "      if isinstance(mod, nn.Linear):\n",
        "        nn.init.kaiming_uniform_(mod.weight, mode = 'fan_in')"
      ],
      "metadata": {
        "id": "pBMFja5T5c13"
      },
      "execution_count": 10,
      "outputs": []
    },
    {
      "cell_type": "code",
      "source": [
        "#CLASSIFIER MODEL - 1 CLASS\n",
        "class THE_CLASSIFIER(nn.Module):\n",
        "  \n",
        "  def __init__(self, input_size, output_size):\n",
        "    super(THE_CLASSIFIER, self).__init__()\n",
        "    #CLASSIFIER\n",
        "    self.output = nn.Linear(256, 10)\n",
        "    self.weight_initializer()\n",
        "  \n",
        "  def forward(self, x):\n",
        "    #CLASSIFIER\n",
        "    x = torch.sum(x, dim=1) / x[1].size()[0]\n",
        "    x = self.output(x)\n",
        "    return x\n",
        "\n",
        "  def weight_initializer(self):\n",
        "    for mod in self.modules():\n",
        "      if isinstance(mod, nn.Linear):\n",
        "        nn.init.kaiming_uniform_(mod.weight, mode = 'fan_in')"
      ],
      "metadata": {
        "id": "FCCgMybb_c9_"
      },
      "execution_count": 11,
      "outputs": []
    },
    {
      "cell_type": "code",
      "source": [
        "class net(nn.Module):\n",
        "  def __init__(self, input_size, block_size, output_size):\n",
        "    super(net, self).__init__()\n",
        "    self.block_size = block_size\n",
        "    self.input_size = input_size\n",
        "    self.output_size = output_size\n",
        "\n",
        "    #MODEL INSTANCES\n",
        "    self.stem = STEM_MAIN(self.input_size, 256).to(device)\n",
        "    self.backbone = BACKBONE(4, self.block_size, 256).to(device)\n",
        "    self.classifier = THE_CLASSIFIER(256, self.output_size).to(device)\n",
        "\n",
        "\n",
        "  def forward(self, x):\n",
        "    x = self.stem(x)\n",
        "    x = self.backbone(x)\n",
        "    x = self.classifier(x)\n",
        "\n",
        "    return x"
      ],
      "metadata": {
        "id": "xnj89LItSjlo"
      },
      "execution_count": 12,
      "outputs": []
    },
    {
      "cell_type": "code",
      "source": [
        "#STEM-PATCHING\n",
        "PATCH_SIZE = 14\n",
        "IMAGE_SIZE = 28\n",
        "PD1 = int(IMAGE_SIZE**2 / PATCH_SIZE**2)\n",
        "PD2 = int(PATCH_SIZE**2)\n",
        "\n",
        "#CREATING THE PATCHES\n",
        "patches = stem_patcher(patch_size = PATCH_SIZE, im_size = IMAGE_SIZE)\n",
        "train_data = patches.patch_maker(training)\n",
        "test_data = patches.patch_maker(testing)\n",
        "\n",
        "#VECTORIZING THE PATCHES\n",
        "for i in range(len(train_data)):\n",
        "    train_data[i][0] = train_data[i][0].view(-1, PD1, PD2) \n",
        "\n",
        "for i in range(len(test_data)):\n",
        "    test_data[i][0] = test_data[i][0].view(-1, PD1, PD2)"
      ],
      "metadata": {
        "id": "PQf5YIqojYU8"
      },
      "execution_count": 13,
      "outputs": []
    },
    {
      "cell_type": "code",
      "source": [
        "#RUN THIS AFTER CALCULATING PATCHES\n",
        "write_vectorised(train_data, data_usecase = \"TRAIN\")\n",
        "write_vectorised(test_data, data_usecase = \"TEST\")"
      ],
      "metadata": {
        "id": "YRr8abi0j0Ir"
      },
      "execution_count": 14,
      "outputs": []
    },
    {
      "cell_type": "code",
      "source": [
        "#IF PATCHES HAVE BEEN CALCULATED USED THIS BLOCK FOR READING THEM TO AVOID CALCULATING AGAIN\n",
        "\n",
        "train_data = read_vectorised(data_usecase = \"TRAIN\") \n",
        "test_data = read_vectorised(data_usecase = \"TEST\") "
      ],
      "metadata": {
        "id": "uw97MBOij1p8"
      },
      "execution_count": 15,
      "outputs": []
    },
    {
      "cell_type": "code",
      "source": [
        "NET = net(input_size = 196, block_size = 8, output_size = 10).to(device) #NOTE: BLOCK SIZE IS 8"
      ],
      "metadata": {
        "id": "uo2j8MUzbbcn"
      },
      "execution_count": 16,
      "outputs": []
    },
    {
      "cell_type": "code",
      "source": [
        "for name in NET.modules():\n",
        "  print(name, )"
      ],
      "metadata": {
        "colab": {
          "base_uri": "https://localhost:8080/"
        },
        "id": "0tEXCj9dLJgT",
        "outputId": "753913c9-1995-467f-dfc3-f7d28fea0483"
      },
      "execution_count": 17,
      "outputs": [
        {
          "output_type": "stream",
          "name": "stdout",
          "text": [
            "net(\n",
            "  (stem): STEM_MAIN(\n",
            "    (linear): Linear(in_features=196, out_features=256, bias=True)\n",
            "    (dropout): Dropout(p=0.2, inplace=False)\n",
            "    (non_linearity): Tanh()\n",
            "  )\n",
            "  (backbone): BACKBONE(\n",
            "    (dropout): Dropout(p=0.2, inplace=False)\n",
            "    (L1_1): Linear(in_features=4, out_features=128, bias=True)\n",
            "    (L2_1): Linear(in_features=128, out_features=4, bias=True)\n",
            "    (L3_1): Linear(in_features=256, out_features=128, bias=True)\n",
            "    (L4_1): Linear(in_features=128, out_features=256, bias=True)\n",
            "    (tan1_1): Tanh()\n",
            "    (tan2_1): Tanh()\n",
            "    (L1_2): Linear(in_features=4, out_features=128, bias=True)\n",
            "    (L2_2): Linear(in_features=128, out_features=4, bias=True)\n",
            "    (L3_2): Linear(in_features=256, out_features=128, bias=True)\n",
            "    (L4_2): Linear(in_features=128, out_features=256, bias=True)\n",
            "    (tan1_2): Tanh()\n",
            "    (tan2_2): Tanh()\n",
            "    (L1_3): Linear(in_features=4, out_features=128, bias=True)\n",
            "    (L2_3): Linear(in_features=128, out_features=4, bias=True)\n",
            "    (L3_3): Linear(in_features=256, out_features=128, bias=True)\n",
            "    (L4_3): Linear(in_features=128, out_features=256, bias=True)\n",
            "    (tan1_3): Tanh()\n",
            "    (tan2_3): Tanh()\n",
            "    (L1_4): Linear(in_features=4, out_features=128, bias=True)\n",
            "    (L2_4): Linear(in_features=128, out_features=4, bias=True)\n",
            "    (L3_4): Linear(in_features=256, out_features=128, bias=True)\n",
            "    (L4_4): Linear(in_features=128, out_features=256, bias=True)\n",
            "    (tan1_4): Tanh()\n",
            "    (tan2_4): Tanh()\n",
            "    (L1_5): Linear(in_features=4, out_features=128, bias=True)\n",
            "    (L2_5): Linear(in_features=128, out_features=4, bias=True)\n",
            "    (L3_5): Linear(in_features=256, out_features=128, bias=True)\n",
            "    (L4_5): Linear(in_features=128, out_features=256, bias=True)\n",
            "    (tan1_5): Tanh()\n",
            "    (tan2_5): Tanh()\n",
            "    (L1_6): Linear(in_features=4, out_features=128, bias=True)\n",
            "    (L2_6): Linear(in_features=128, out_features=4, bias=True)\n",
            "    (L3_6): Linear(in_features=256, out_features=128, bias=True)\n",
            "    (L4_6): Linear(in_features=128, out_features=256, bias=True)\n",
            "    (tan1_6): Tanh()\n",
            "    (tan2_6): Tanh()\n",
            "    (L1_7): Linear(in_features=4, out_features=128, bias=True)\n",
            "    (L2_7): Linear(in_features=128, out_features=4, bias=True)\n",
            "    (L3_7): Linear(in_features=256, out_features=128, bias=True)\n",
            "    (L4_7): Linear(in_features=128, out_features=256, bias=True)\n",
            "    (tan1_7): Tanh()\n",
            "    (tan2_7): Tanh()\n",
            "    (L1_8): Linear(in_features=4, out_features=128, bias=True)\n",
            "    (L2_8): Linear(in_features=128, out_features=4, bias=True)\n",
            "    (L3_8): Linear(in_features=256, out_features=128, bias=True)\n",
            "    (L4_8): Linear(in_features=128, out_features=256, bias=True)\n",
            "    (tan1_8): Tanh()\n",
            "    (tan2_8): Tanh()\n",
            "    (relu_skip): ReLU()\n",
            "  )\n",
            "  (classifier): THE_CLASSIFIER(\n",
            "    (output): Linear(in_features=256, out_features=10, bias=True)\n",
            "  )\n",
            ")\n",
            "STEM_MAIN(\n",
            "  (linear): Linear(in_features=196, out_features=256, bias=True)\n",
            "  (dropout): Dropout(p=0.2, inplace=False)\n",
            "  (non_linearity): Tanh()\n",
            ")\n",
            "Linear(in_features=196, out_features=256, bias=True)\n",
            "Dropout(p=0.2, inplace=False)\n",
            "Tanh()\n",
            "BACKBONE(\n",
            "  (dropout): Dropout(p=0.2, inplace=False)\n",
            "  (L1_1): Linear(in_features=4, out_features=128, bias=True)\n",
            "  (L2_1): Linear(in_features=128, out_features=4, bias=True)\n",
            "  (L3_1): Linear(in_features=256, out_features=128, bias=True)\n",
            "  (L4_1): Linear(in_features=128, out_features=256, bias=True)\n",
            "  (tan1_1): Tanh()\n",
            "  (tan2_1): Tanh()\n",
            "  (L1_2): Linear(in_features=4, out_features=128, bias=True)\n",
            "  (L2_2): Linear(in_features=128, out_features=4, bias=True)\n",
            "  (L3_2): Linear(in_features=256, out_features=128, bias=True)\n",
            "  (L4_2): Linear(in_features=128, out_features=256, bias=True)\n",
            "  (tan1_2): Tanh()\n",
            "  (tan2_2): Tanh()\n",
            "  (L1_3): Linear(in_features=4, out_features=128, bias=True)\n",
            "  (L2_3): Linear(in_features=128, out_features=4, bias=True)\n",
            "  (L3_3): Linear(in_features=256, out_features=128, bias=True)\n",
            "  (L4_3): Linear(in_features=128, out_features=256, bias=True)\n",
            "  (tan1_3): Tanh()\n",
            "  (tan2_3): Tanh()\n",
            "  (L1_4): Linear(in_features=4, out_features=128, bias=True)\n",
            "  (L2_4): Linear(in_features=128, out_features=4, bias=True)\n",
            "  (L3_4): Linear(in_features=256, out_features=128, bias=True)\n",
            "  (L4_4): Linear(in_features=128, out_features=256, bias=True)\n",
            "  (tan1_4): Tanh()\n",
            "  (tan2_4): Tanh()\n",
            "  (L1_5): Linear(in_features=4, out_features=128, bias=True)\n",
            "  (L2_5): Linear(in_features=128, out_features=4, bias=True)\n",
            "  (L3_5): Linear(in_features=256, out_features=128, bias=True)\n",
            "  (L4_5): Linear(in_features=128, out_features=256, bias=True)\n",
            "  (tan1_5): Tanh()\n",
            "  (tan2_5): Tanh()\n",
            "  (L1_6): Linear(in_features=4, out_features=128, bias=True)\n",
            "  (L2_6): Linear(in_features=128, out_features=4, bias=True)\n",
            "  (L3_6): Linear(in_features=256, out_features=128, bias=True)\n",
            "  (L4_6): Linear(in_features=128, out_features=256, bias=True)\n",
            "  (tan1_6): Tanh()\n",
            "  (tan2_6): Tanh()\n",
            "  (L1_7): Linear(in_features=4, out_features=128, bias=True)\n",
            "  (L2_7): Linear(in_features=128, out_features=4, bias=True)\n",
            "  (L3_7): Linear(in_features=256, out_features=128, bias=True)\n",
            "  (L4_7): Linear(in_features=128, out_features=256, bias=True)\n",
            "  (tan1_7): Tanh()\n",
            "  (tan2_7): Tanh()\n",
            "  (L1_8): Linear(in_features=4, out_features=128, bias=True)\n",
            "  (L2_8): Linear(in_features=128, out_features=4, bias=True)\n",
            "  (L3_8): Linear(in_features=256, out_features=128, bias=True)\n",
            "  (L4_8): Linear(in_features=128, out_features=256, bias=True)\n",
            "  (tan1_8): Tanh()\n",
            "  (tan2_8): Tanh()\n",
            "  (relu_skip): ReLU()\n",
            ")\n",
            "Dropout(p=0.2, inplace=False)\n",
            "Linear(in_features=4, out_features=128, bias=True)\n",
            "Linear(in_features=128, out_features=4, bias=True)\n",
            "Linear(in_features=256, out_features=128, bias=True)\n",
            "Linear(in_features=128, out_features=256, bias=True)\n",
            "Tanh()\n",
            "Tanh()\n",
            "Linear(in_features=4, out_features=128, bias=True)\n",
            "Linear(in_features=128, out_features=4, bias=True)\n",
            "Linear(in_features=256, out_features=128, bias=True)\n",
            "Linear(in_features=128, out_features=256, bias=True)\n",
            "Tanh()\n",
            "Tanh()\n",
            "Linear(in_features=4, out_features=128, bias=True)\n",
            "Linear(in_features=128, out_features=4, bias=True)\n",
            "Linear(in_features=256, out_features=128, bias=True)\n",
            "Linear(in_features=128, out_features=256, bias=True)\n",
            "Tanh()\n",
            "Tanh()\n",
            "Linear(in_features=4, out_features=128, bias=True)\n",
            "Linear(in_features=128, out_features=4, bias=True)\n",
            "Linear(in_features=256, out_features=128, bias=True)\n",
            "Linear(in_features=128, out_features=256, bias=True)\n",
            "Tanh()\n",
            "Tanh()\n",
            "Linear(in_features=4, out_features=128, bias=True)\n",
            "Linear(in_features=128, out_features=4, bias=True)\n",
            "Linear(in_features=256, out_features=128, bias=True)\n",
            "Linear(in_features=128, out_features=256, bias=True)\n",
            "Tanh()\n",
            "Tanh()\n",
            "Linear(in_features=4, out_features=128, bias=True)\n",
            "Linear(in_features=128, out_features=4, bias=True)\n",
            "Linear(in_features=256, out_features=128, bias=True)\n",
            "Linear(in_features=128, out_features=256, bias=True)\n",
            "Tanh()\n",
            "Tanh()\n",
            "Linear(in_features=4, out_features=128, bias=True)\n",
            "Linear(in_features=128, out_features=4, bias=True)\n",
            "Linear(in_features=256, out_features=128, bias=True)\n",
            "Linear(in_features=128, out_features=256, bias=True)\n",
            "Tanh()\n",
            "Tanh()\n",
            "Linear(in_features=4, out_features=128, bias=True)\n",
            "Linear(in_features=128, out_features=4, bias=True)\n",
            "Linear(in_features=256, out_features=128, bias=True)\n",
            "Linear(in_features=128, out_features=256, bias=True)\n",
            "Tanh()\n",
            "Tanh()\n",
            "ReLU()\n",
            "THE_CLASSIFIER(\n",
            "  (output): Linear(in_features=256, out_features=10, bias=True)\n",
            ")\n",
            "Linear(in_features=256, out_features=10, bias=True)\n"
          ]
        }
      ]
    },
    {
      "cell_type": "code",
      "source": [
        "for name, param in NET.named_parameters():\n",
        "  print(name,\" - \", param.size())"
      ],
      "metadata": {
        "colab": {
          "base_uri": "https://localhost:8080/"
        },
        "id": "wwBSwXp3aDCV",
        "outputId": "7098a478-719c-48f5-bf2c-3dca2b66f16f"
      },
      "execution_count": 18,
      "outputs": [
        {
          "output_type": "stream",
          "name": "stdout",
          "text": [
            "stem.linear.weight  -  torch.Size([256, 196])\n",
            "stem.linear.bias  -  torch.Size([256])\n",
            "backbone.L1_1.weight  -  torch.Size([128, 4])\n",
            "backbone.L1_1.bias  -  torch.Size([128])\n",
            "backbone.L2_1.weight  -  torch.Size([4, 128])\n",
            "backbone.L2_1.bias  -  torch.Size([4])\n",
            "backbone.L3_1.weight  -  torch.Size([128, 256])\n",
            "backbone.L3_1.bias  -  torch.Size([128])\n",
            "backbone.L4_1.weight  -  torch.Size([256, 128])\n",
            "backbone.L4_1.bias  -  torch.Size([256])\n",
            "backbone.L1_2.weight  -  torch.Size([128, 4])\n",
            "backbone.L1_2.bias  -  torch.Size([128])\n",
            "backbone.L2_2.weight  -  torch.Size([4, 128])\n",
            "backbone.L2_2.bias  -  torch.Size([4])\n",
            "backbone.L3_2.weight  -  torch.Size([128, 256])\n",
            "backbone.L3_2.bias  -  torch.Size([128])\n",
            "backbone.L4_2.weight  -  torch.Size([256, 128])\n",
            "backbone.L4_2.bias  -  torch.Size([256])\n",
            "backbone.L1_3.weight  -  torch.Size([128, 4])\n",
            "backbone.L1_3.bias  -  torch.Size([128])\n",
            "backbone.L2_3.weight  -  torch.Size([4, 128])\n",
            "backbone.L2_3.bias  -  torch.Size([4])\n",
            "backbone.L3_3.weight  -  torch.Size([128, 256])\n",
            "backbone.L3_3.bias  -  torch.Size([128])\n",
            "backbone.L4_3.weight  -  torch.Size([256, 128])\n",
            "backbone.L4_3.bias  -  torch.Size([256])\n",
            "backbone.L1_4.weight  -  torch.Size([128, 4])\n",
            "backbone.L1_4.bias  -  torch.Size([128])\n",
            "backbone.L2_4.weight  -  torch.Size([4, 128])\n",
            "backbone.L2_4.bias  -  torch.Size([4])\n",
            "backbone.L3_4.weight  -  torch.Size([128, 256])\n",
            "backbone.L3_4.bias  -  torch.Size([128])\n",
            "backbone.L4_4.weight  -  torch.Size([256, 128])\n",
            "backbone.L4_4.bias  -  torch.Size([256])\n",
            "backbone.L1_5.weight  -  torch.Size([128, 4])\n",
            "backbone.L1_5.bias  -  torch.Size([128])\n",
            "backbone.L2_5.weight  -  torch.Size([4, 128])\n",
            "backbone.L2_5.bias  -  torch.Size([4])\n",
            "backbone.L3_5.weight  -  torch.Size([128, 256])\n",
            "backbone.L3_5.bias  -  torch.Size([128])\n",
            "backbone.L4_5.weight  -  torch.Size([256, 128])\n",
            "backbone.L4_5.bias  -  torch.Size([256])\n",
            "backbone.L1_6.weight  -  torch.Size([128, 4])\n",
            "backbone.L1_6.bias  -  torch.Size([128])\n",
            "backbone.L2_6.weight  -  torch.Size([4, 128])\n",
            "backbone.L2_6.bias  -  torch.Size([4])\n",
            "backbone.L3_6.weight  -  torch.Size([128, 256])\n",
            "backbone.L3_6.bias  -  torch.Size([128])\n",
            "backbone.L4_6.weight  -  torch.Size([256, 128])\n",
            "backbone.L4_6.bias  -  torch.Size([256])\n",
            "backbone.L1_7.weight  -  torch.Size([128, 4])\n",
            "backbone.L1_7.bias  -  torch.Size([128])\n",
            "backbone.L2_7.weight  -  torch.Size([4, 128])\n",
            "backbone.L2_7.bias  -  torch.Size([4])\n",
            "backbone.L3_7.weight  -  torch.Size([128, 256])\n",
            "backbone.L3_7.bias  -  torch.Size([128])\n",
            "backbone.L4_7.weight  -  torch.Size([256, 128])\n",
            "backbone.L4_7.bias  -  torch.Size([256])\n",
            "backbone.L1_8.weight  -  torch.Size([128, 4])\n",
            "backbone.L1_8.bias  -  torch.Size([128])\n",
            "backbone.L2_8.weight  -  torch.Size([4, 128])\n",
            "backbone.L2_8.bias  -  torch.Size([4])\n",
            "backbone.L3_8.weight  -  torch.Size([128, 256])\n",
            "backbone.L3_8.bias  -  torch.Size([128])\n",
            "backbone.L4_8.weight  -  torch.Size([256, 128])\n",
            "backbone.L4_8.bias  -  torch.Size([256])\n",
            "classifier.output.weight  -  torch.Size([10, 256])\n",
            "classifier.output.bias  -  torch.Size([10])\n"
          ]
        }
      ]
    },
    {
      "cell_type": "code",
      "source": [
        "optimizer = optim.SWATS(NET.parameters(), amsgrad = True, nesterov = True, weight_decay = 0.001) #SWATS optimizer, Uses Both SGD and ADAM.  \n",
        "                                                                                                    #MORE DETAIL ABOUT THIS IN MY PDF\n",
        "loss_function = nn.CrossEntropyLoss()"
      ],
      "metadata": {
        "id": "UH8lJ-VIYMsA"
      },
      "execution_count": 19,
      "outputs": []
    },
    {
      "cell_type": "code",
      "source": [
        "def accuracy_calculator(hyp, y): #Calculate Accuracy for One-Hot Encoded Vector\n",
        "  a = torch.argmax(hyp, dim=1)\n",
        "  b = torch.argmax(y, dim=1)\n",
        "  return torch.sum(a==b)"
      ],
      "metadata": {
        "id": "0C0XXuoieR_m"
      },
      "execution_count": 20,
      "outputs": []
    },
    {
      "cell_type": "code",
      "source": [
        "per_epoch_training_accuracy = []\n",
        "per_epoch_training_loss = []\n",
        "per_epoch_val_accuracy = []\n",
        "\n",
        "#The Above three lists will be used to plot the evolution graph\n",
        "\n",
        "def train(out, EPOCHS):  \n",
        "  accuracy = 0\n",
        "  for i in range(EPOCHS):\n",
        "      out.train() #Set model in Train mode\n",
        "      accuracy = 0\n",
        "      acc = 0\n",
        "      for j in tqdm.tqdm(range(len(train_data))): \n",
        "          X, y = train_data[j]\n",
        "          X = X.to(device)\n",
        "          y = y.to(device)\n",
        "          out.zero_grad()\n",
        "          hypothesis = out(X)\n",
        "          hypothesis.to(device)\n",
        "          accuracy += accuracy_calculator(hypothesis, y)\n",
        "          loss = loss_function(hypothesis, y)\n",
        "          loss.backward()\n",
        "          optimizer.step()\n",
        "      \n",
        "      out.eval()  #Set Model to Eval mode, Dropout Layers are avoided if True\n",
        "      with torch.no_grad(): \n",
        "        for k in range(len(test_data)):\n",
        "          X_test, y_test = test_data[k]\n",
        "          X_test = X_test.to(device)\n",
        "          y_test = y_test.to(device)\n",
        "          test_hypothesis = out(X_test)\n",
        "          test_hypothesis.to(device)\n",
        "          acc += accuracy_calculator(test_hypothesis, y_test)\n",
        "        print(\"EPOCHS : \", i+1, \"Training LOSS : \",loss)\n",
        "        accuracy = accuracy/60000\n",
        "        acc = acc/10000\n",
        "        print(\"Training Accuracy is: \", accuracy, \"Testing Accuracy is: \", acc)\n",
        "        #Append The Metrics per epoch to the Lists\n",
        "        per_epoch_training_accuracy.append(accuracy)\n",
        "        per_epoch_training_loss.append(loss)\n",
        "        per_epoch_val_accuracy.append(acc)\n",
        "\n",
        "\n",
        "def test(out):\n",
        "  accuracy = 0\n",
        "  with torch.no_grad():\n",
        "    for i in tqdm.tqdm(range(len(test_data))):\n",
        "          X, y = test_data[i]\n",
        "          X = X.to(device)\n",
        "          y = y.to(device)\n",
        "          hypothesis = out(X)\n",
        "          hypothesis.to(device)\n",
        "          accuracy += accuracy_calculator(hypothesis, y)\n",
        "    print(accuracy/10000)"
      ],
      "metadata": {
        "id": "e9GE_yJ5eX0m"
      },
      "execution_count": 21,
      "outputs": []
    },
    {
      "cell_type": "code",
      "source": [
        "train(NET, EPOCHS = 70)"
      ],
      "metadata": {
        "colab": {
          "base_uri": "https://localhost:8080/"
        },
        "id": "k1ejDOZSeZkl",
        "outputId": "501c4887-eda9-45ed-f8d3-e1ce8e5eef75"
      },
      "execution_count": 22,
      "outputs": [
        {
          "output_type": "stream",
          "name": "stderr",
          "text": [
            "100%|██████████| 938/938 [00:55<00:00, 17.03it/s]\n"
          ]
        },
        {
          "output_type": "stream",
          "name": "stdout",
          "text": [
            "EPOCHS :  1 Training LOSS :  tensor(0.6629, device='cuda:0', dtype=torch.float64, grad_fn=<DivBackward1>)\n",
            "Training Accuracy is:  tensor(0.6590, device='cuda:0') Testing Accuracy is:  tensor(0.8094, device='cuda:0')\n"
          ]
        },
        {
          "output_type": "stream",
          "name": "stderr",
          "text": [
            "100%|██████████| 938/938 [00:53<00:00, 17.60it/s]\n"
          ]
        },
        {
          "output_type": "stream",
          "name": "stdout",
          "text": [
            "EPOCHS :  2 Training LOSS :  tensor(0.2587, device='cuda:0', dtype=torch.float64, grad_fn=<DivBackward1>)\n",
            "Training Accuracy is:  tensor(0.8028, device='cuda:0') Testing Accuracy is:  tensor(0.8376, device='cuda:0')\n"
          ]
        },
        {
          "output_type": "stream",
          "name": "stderr",
          "text": [
            "100%|██████████| 938/938 [00:52<00:00, 17.72it/s]\n"
          ]
        },
        {
          "output_type": "stream",
          "name": "stdout",
          "text": [
            "EPOCHS :  3 Training LOSS :  tensor(0.2781, device='cuda:0', dtype=torch.float64, grad_fn=<DivBackward1>)\n",
            "Training Accuracy is:  tensor(0.8363, device='cuda:0') Testing Accuracy is:  tensor(0.8512, device='cuda:0')\n"
          ]
        },
        {
          "output_type": "stream",
          "name": "stderr",
          "text": [
            "100%|██████████| 938/938 [00:52<00:00, 17.81it/s]\n"
          ]
        },
        {
          "output_type": "stream",
          "name": "stdout",
          "text": [
            "EPOCHS :  4 Training LOSS :  tensor(0.1695, device='cuda:0', dtype=torch.float64, grad_fn=<DivBackward1>)\n",
            "Training Accuracy is:  tensor(0.8520, device='cuda:0') Testing Accuracy is:  tensor(0.8590, device='cuda:0')\n"
          ]
        },
        {
          "output_type": "stream",
          "name": "stderr",
          "text": [
            "100%|██████████| 938/938 [00:52<00:00, 17.76it/s]\n"
          ]
        },
        {
          "output_type": "stream",
          "name": "stdout",
          "text": [
            "EPOCHS :  5 Training LOSS :  tensor(0.2137, device='cuda:0', dtype=torch.float64, grad_fn=<DivBackward1>)\n",
            "Training Accuracy is:  tensor(0.8641, device='cuda:0') Testing Accuracy is:  tensor(0.8639, device='cuda:0')\n"
          ]
        },
        {
          "output_type": "stream",
          "name": "stderr",
          "text": [
            "100%|██████████| 938/938 [00:52<00:00, 17.78it/s]\n"
          ]
        },
        {
          "output_type": "stream",
          "name": "stdout",
          "text": [
            "EPOCHS :  6 Training LOSS :  tensor(0.1603, device='cuda:0', dtype=torch.float64, grad_fn=<DivBackward1>)\n",
            "Training Accuracy is:  tensor(0.8702, device='cuda:0') Testing Accuracy is:  tensor(0.8679, device='cuda:0')\n"
          ]
        },
        {
          "output_type": "stream",
          "name": "stderr",
          "text": [
            "100%|██████████| 938/938 [00:52<00:00, 17.80it/s]\n"
          ]
        },
        {
          "output_type": "stream",
          "name": "stdout",
          "text": [
            "EPOCHS :  7 Training LOSS :  tensor(0.1373, device='cuda:0', dtype=torch.float64, grad_fn=<DivBackward1>)\n",
            "Training Accuracy is:  tensor(0.8748, device='cuda:0') Testing Accuracy is:  tensor(0.8709, device='cuda:0')\n"
          ]
        },
        {
          "output_type": "stream",
          "name": "stderr",
          "text": [
            "100%|██████████| 938/938 [00:52<00:00, 17.83it/s]\n"
          ]
        },
        {
          "output_type": "stream",
          "name": "stdout",
          "text": [
            "EPOCHS :  8 Training LOSS :  tensor(0.1190, device='cuda:0', dtype=torch.float64, grad_fn=<DivBackward1>)\n",
            "Training Accuracy is:  tensor(0.8770, device='cuda:0') Testing Accuracy is:  tensor(0.8728, device='cuda:0')\n"
          ]
        },
        {
          "output_type": "stream",
          "name": "stderr",
          "text": [
            "100%|██████████| 938/938 [00:52<00:00, 17.82it/s]\n"
          ]
        },
        {
          "output_type": "stream",
          "name": "stdout",
          "text": [
            "EPOCHS :  9 Training LOSS :  tensor(0.1138, device='cuda:0', dtype=torch.float64, grad_fn=<DivBackward1>)\n",
            "Training Accuracy is:  tensor(0.8808, device='cuda:0') Testing Accuracy is:  tensor(0.8770, device='cuda:0')\n"
          ]
        },
        {
          "output_type": "stream",
          "name": "stderr",
          "text": [
            "100%|██████████| 938/938 [00:52<00:00, 17.85it/s]\n"
          ]
        },
        {
          "output_type": "stream",
          "name": "stdout",
          "text": [
            "EPOCHS :  10 Training LOSS :  tensor(0.1466, device='cuda:0', dtype=torch.float64, grad_fn=<DivBackward1>)\n",
            "Training Accuracy is:  tensor(0.8831, device='cuda:0') Testing Accuracy is:  tensor(0.8761, device='cuda:0')\n"
          ]
        },
        {
          "output_type": "stream",
          "name": "stderr",
          "text": [
            "100%|██████████| 938/938 [00:52<00:00, 17.82it/s]\n"
          ]
        },
        {
          "output_type": "stream",
          "name": "stdout",
          "text": [
            "EPOCHS :  11 Training LOSS :  tensor(0.1333, device='cuda:0', dtype=torch.float64, grad_fn=<DivBackward1>)\n",
            "Training Accuracy is:  tensor(0.8847, device='cuda:0') Testing Accuracy is:  tensor(0.8765, device='cuda:0')\n"
          ]
        },
        {
          "output_type": "stream",
          "name": "stderr",
          "text": [
            "100%|██████████| 938/938 [00:52<00:00, 17.80it/s]\n"
          ]
        },
        {
          "output_type": "stream",
          "name": "stdout",
          "text": [
            "EPOCHS :  12 Training LOSS :  tensor(0.1151, device='cuda:0', dtype=torch.float64, grad_fn=<DivBackward1>)\n",
            "Training Accuracy is:  tensor(0.8860, device='cuda:0') Testing Accuracy is:  tensor(0.8810, device='cuda:0')\n"
          ]
        },
        {
          "output_type": "stream",
          "name": "stderr",
          "text": [
            "100%|██████████| 938/938 [00:52<00:00, 17.81it/s]\n"
          ]
        },
        {
          "output_type": "stream",
          "name": "stdout",
          "text": [
            "EPOCHS :  13 Training LOSS :  tensor(0.1310, device='cuda:0', dtype=torch.float64, grad_fn=<DivBackward1>)\n",
            "Training Accuracy is:  tensor(0.8880, device='cuda:0') Testing Accuracy is:  tensor(0.8783, device='cuda:0')\n"
          ]
        },
        {
          "output_type": "stream",
          "name": "stderr",
          "text": [
            "100%|██████████| 938/938 [00:52<00:00, 17.85it/s]\n"
          ]
        },
        {
          "output_type": "stream",
          "name": "stdout",
          "text": [
            "EPOCHS :  14 Training LOSS :  tensor(0.1678, device='cuda:0', dtype=torch.float64, grad_fn=<DivBackward1>)\n",
            "Training Accuracy is:  tensor(0.8887, device='cuda:0') Testing Accuracy is:  tensor(0.8809, device='cuda:0')\n"
          ]
        },
        {
          "output_type": "stream",
          "name": "stderr",
          "text": [
            "100%|██████████| 938/938 [00:52<00:00, 17.87it/s]\n"
          ]
        },
        {
          "output_type": "stream",
          "name": "stdout",
          "text": [
            "EPOCHS :  15 Training LOSS :  tensor(0.1006, device='cuda:0', dtype=torch.float64, grad_fn=<DivBackward1>)\n",
            "Training Accuracy is:  tensor(0.8916, device='cuda:0') Testing Accuracy is:  tensor(0.8812, device='cuda:0')\n"
          ]
        },
        {
          "output_type": "stream",
          "name": "stderr",
          "text": [
            "100%|██████████| 938/938 [00:46<00:00, 20.23it/s]\n"
          ]
        },
        {
          "output_type": "stream",
          "name": "stdout",
          "text": [
            "EPOCHS :  16 Training LOSS :  tensor(0.0870, device='cuda:0', dtype=torch.float64, grad_fn=<DivBackward1>)\n",
            "Training Accuracy is:  tensor(0.8926, device='cuda:0') Testing Accuracy is:  tensor(0.8860, device='cuda:0')\n"
          ]
        },
        {
          "output_type": "stream",
          "name": "stderr",
          "text": [
            "100%|██████████| 938/938 [00:15<00:00, 58.99it/s]\n"
          ]
        },
        {
          "output_type": "stream",
          "name": "stdout",
          "text": [
            "EPOCHS :  17 Training LOSS :  tensor(0.1163, device='cuda:0', dtype=torch.float64, grad_fn=<DivBackward1>)\n",
            "Training Accuracy is:  tensor(0.9023, device='cuda:0') Testing Accuracy is:  tensor(0.8882, device='cuda:0')\n"
          ]
        },
        {
          "output_type": "stream",
          "name": "stderr",
          "text": [
            "100%|██████████| 938/938 [00:16<00:00, 58.46it/s]\n"
          ]
        },
        {
          "output_type": "stream",
          "name": "stdout",
          "text": [
            "EPOCHS :  18 Training LOSS :  tensor(0.0819, device='cuda:0', dtype=torch.float64, grad_fn=<DivBackward1>)\n",
            "Training Accuracy is:  tensor(0.9037, device='cuda:0') Testing Accuracy is:  tensor(0.8890, device='cuda:0')\n"
          ]
        },
        {
          "output_type": "stream",
          "name": "stderr",
          "text": [
            "100%|██████████| 938/938 [00:15<00:00, 59.08it/s]\n"
          ]
        },
        {
          "output_type": "stream",
          "name": "stdout",
          "text": [
            "EPOCHS :  19 Training LOSS :  tensor(0.0616, device='cuda:0', dtype=torch.float64, grad_fn=<DivBackward1>)\n",
            "Training Accuracy is:  tensor(0.9057, device='cuda:0') Testing Accuracy is:  tensor(0.8912, device='cuda:0')\n"
          ]
        },
        {
          "output_type": "stream",
          "name": "stderr",
          "text": [
            "100%|██████████| 938/938 [00:15<00:00, 58.83it/s]\n"
          ]
        },
        {
          "output_type": "stream",
          "name": "stdout",
          "text": [
            "EPOCHS :  20 Training LOSS :  tensor(0.1040, device='cuda:0', dtype=torch.float64, grad_fn=<DivBackward1>)\n",
            "Training Accuracy is:  tensor(0.9068, device='cuda:0') Testing Accuracy is:  tensor(0.8914, device='cuda:0')\n"
          ]
        },
        {
          "output_type": "stream",
          "name": "stderr",
          "text": [
            "100%|██████████| 938/938 [00:15<00:00, 59.01it/s]\n"
          ]
        },
        {
          "output_type": "stream",
          "name": "stdout",
          "text": [
            "EPOCHS :  21 Training LOSS :  tensor(0.0909, device='cuda:0', dtype=torch.float64, grad_fn=<DivBackward1>)\n",
            "Training Accuracy is:  tensor(0.9072, device='cuda:0') Testing Accuracy is:  tensor(0.8907, device='cuda:0')\n"
          ]
        },
        {
          "output_type": "stream",
          "name": "stderr",
          "text": [
            "100%|██████████| 938/938 [00:15<00:00, 59.07it/s]\n"
          ]
        },
        {
          "output_type": "stream",
          "name": "stdout",
          "text": [
            "EPOCHS :  22 Training LOSS :  tensor(0.0710, device='cuda:0', dtype=torch.float64, grad_fn=<DivBackward1>)\n",
            "Training Accuracy is:  tensor(0.9079, device='cuda:0') Testing Accuracy is:  tensor(0.8899, device='cuda:0')\n"
          ]
        },
        {
          "output_type": "stream",
          "name": "stderr",
          "text": [
            "100%|██████████| 938/938 [00:15<00:00, 59.07it/s]\n"
          ]
        },
        {
          "output_type": "stream",
          "name": "stdout",
          "text": [
            "EPOCHS :  23 Training LOSS :  tensor(0.0795, device='cuda:0', dtype=torch.float64, grad_fn=<DivBackward1>)\n",
            "Training Accuracy is:  tensor(0.9091, device='cuda:0') Testing Accuracy is:  tensor(0.8889, device='cuda:0')\n"
          ]
        },
        {
          "output_type": "stream",
          "name": "stderr",
          "text": [
            "100%|██████████| 938/938 [00:15<00:00, 58.99it/s]\n"
          ]
        },
        {
          "output_type": "stream",
          "name": "stdout",
          "text": [
            "EPOCHS :  24 Training LOSS :  tensor(0.0860, device='cuda:0', dtype=torch.float64, grad_fn=<DivBackward1>)\n",
            "Training Accuracy is:  tensor(0.9092, device='cuda:0') Testing Accuracy is:  tensor(0.8930, device='cuda:0')\n"
          ]
        },
        {
          "output_type": "stream",
          "name": "stderr",
          "text": [
            "100%|██████████| 938/938 [00:15<00:00, 59.10it/s]\n"
          ]
        },
        {
          "output_type": "stream",
          "name": "stdout",
          "text": [
            "EPOCHS :  25 Training LOSS :  tensor(0.0721, device='cuda:0', dtype=torch.float64, grad_fn=<DivBackward1>)\n",
            "Training Accuracy is:  tensor(0.9106, device='cuda:0') Testing Accuracy is:  tensor(0.8925, device='cuda:0')\n"
          ]
        },
        {
          "output_type": "stream",
          "name": "stderr",
          "text": [
            "100%|██████████| 938/938 [00:15<00:00, 58.65it/s]\n"
          ]
        },
        {
          "output_type": "stream",
          "name": "stdout",
          "text": [
            "EPOCHS :  26 Training LOSS :  tensor(0.0611, device='cuda:0', dtype=torch.float64, grad_fn=<DivBackward1>)\n",
            "Training Accuracy is:  tensor(0.9113, device='cuda:0') Testing Accuracy is:  tensor(0.8963, device='cuda:0')\n"
          ]
        },
        {
          "output_type": "stream",
          "name": "stderr",
          "text": [
            "100%|██████████| 938/938 [00:16<00:00, 58.58it/s]\n"
          ]
        },
        {
          "output_type": "stream",
          "name": "stdout",
          "text": [
            "EPOCHS :  27 Training LOSS :  tensor(0.0667, device='cuda:0', dtype=torch.float64, grad_fn=<DivBackward1>)\n",
            "Training Accuracy is:  tensor(0.9121, device='cuda:0') Testing Accuracy is:  tensor(0.8917, device='cuda:0')\n"
          ]
        },
        {
          "output_type": "stream",
          "name": "stderr",
          "text": [
            "100%|██████████| 938/938 [00:15<00:00, 58.74it/s]\n"
          ]
        },
        {
          "output_type": "stream",
          "name": "stdout",
          "text": [
            "EPOCHS :  28 Training LOSS :  tensor(0.0877, device='cuda:0', dtype=torch.float64, grad_fn=<DivBackward1>)\n",
            "Training Accuracy is:  tensor(0.9122, device='cuda:0') Testing Accuracy is:  tensor(0.8934, device='cuda:0')\n"
          ]
        },
        {
          "output_type": "stream",
          "name": "stderr",
          "text": [
            "100%|██████████| 938/938 [00:15<00:00, 58.97it/s]\n"
          ]
        },
        {
          "output_type": "stream",
          "name": "stdout",
          "text": [
            "EPOCHS :  29 Training LOSS :  tensor(0.0442, device='cuda:0', dtype=torch.float64, grad_fn=<DivBackward1>)\n",
            "Training Accuracy is:  tensor(0.9124, device='cuda:0') Testing Accuracy is:  tensor(0.8937, device='cuda:0')\n"
          ]
        },
        {
          "output_type": "stream",
          "name": "stderr",
          "text": [
            "100%|██████████| 938/938 [00:15<00:00, 58.71it/s]\n"
          ]
        },
        {
          "output_type": "stream",
          "name": "stdout",
          "text": [
            "EPOCHS :  30 Training LOSS :  tensor(0.0686, device='cuda:0', dtype=torch.float64, grad_fn=<DivBackward1>)\n",
            "Training Accuracy is:  tensor(0.9137, device='cuda:0') Testing Accuracy is:  tensor(0.8954, device='cuda:0')\n"
          ]
        },
        {
          "output_type": "stream",
          "name": "stderr",
          "text": [
            "100%|██████████| 938/938 [00:15<00:00, 59.06it/s]\n"
          ]
        },
        {
          "output_type": "stream",
          "name": "stdout",
          "text": [
            "EPOCHS :  31 Training LOSS :  tensor(0.0651, device='cuda:0', dtype=torch.float64, grad_fn=<DivBackward1>)\n",
            "Training Accuracy is:  tensor(0.9149, device='cuda:0') Testing Accuracy is:  tensor(0.8952, device='cuda:0')\n"
          ]
        },
        {
          "output_type": "stream",
          "name": "stderr",
          "text": [
            "100%|██████████| 938/938 [00:15<00:00, 59.05it/s]\n"
          ]
        },
        {
          "output_type": "stream",
          "name": "stdout",
          "text": [
            "EPOCHS :  32 Training LOSS :  tensor(0.0836, device='cuda:0', dtype=torch.float64, grad_fn=<DivBackward1>)\n",
            "Training Accuracy is:  tensor(0.9147, device='cuda:0') Testing Accuracy is:  tensor(0.8936, device='cuda:0')\n"
          ]
        },
        {
          "output_type": "stream",
          "name": "stderr",
          "text": [
            "100%|██████████| 938/938 [00:15<00:00, 58.76it/s]\n"
          ]
        },
        {
          "output_type": "stream",
          "name": "stdout",
          "text": [
            "EPOCHS :  33 Training LOSS :  tensor(0.0716, device='cuda:0', dtype=torch.float64, grad_fn=<DivBackward1>)\n",
            "Training Accuracy is:  tensor(0.9146, device='cuda:0') Testing Accuracy is:  tensor(0.8936, device='cuda:0')\n"
          ]
        },
        {
          "output_type": "stream",
          "name": "stderr",
          "text": [
            "100%|██████████| 938/938 [00:15<00:00, 59.24it/s]\n"
          ]
        },
        {
          "output_type": "stream",
          "name": "stdout",
          "text": [
            "EPOCHS :  34 Training LOSS :  tensor(0.0625, device='cuda:0', dtype=torch.float64, grad_fn=<DivBackward1>)\n",
            "Training Accuracy is:  tensor(0.9171, device='cuda:0') Testing Accuracy is:  tensor(0.8965, device='cuda:0')\n"
          ]
        },
        {
          "output_type": "stream",
          "name": "stderr",
          "text": [
            "100%|██████████| 938/938 [00:15<00:00, 58.81it/s]\n"
          ]
        },
        {
          "output_type": "stream",
          "name": "stdout",
          "text": [
            "EPOCHS :  35 Training LOSS :  tensor(0.0528, device='cuda:0', dtype=torch.float64, grad_fn=<DivBackward1>)\n",
            "Training Accuracy is:  tensor(0.9173, device='cuda:0') Testing Accuracy is:  tensor(0.8948, device='cuda:0')\n"
          ]
        },
        {
          "output_type": "stream",
          "name": "stderr",
          "text": [
            "100%|██████████| 938/938 [00:16<00:00, 58.45it/s]\n"
          ]
        },
        {
          "output_type": "stream",
          "name": "stdout",
          "text": [
            "EPOCHS :  36 Training LOSS :  tensor(0.0757, device='cuda:0', dtype=torch.float64, grad_fn=<DivBackward1>)\n",
            "Training Accuracy is:  tensor(0.9175, device='cuda:0') Testing Accuracy is:  tensor(0.8936, device='cuda:0')\n"
          ]
        },
        {
          "output_type": "stream",
          "name": "stderr",
          "text": [
            "100%|██████████| 938/938 [00:16<00:00, 58.59it/s]\n"
          ]
        },
        {
          "output_type": "stream",
          "name": "stdout",
          "text": [
            "EPOCHS :  37 Training LOSS :  tensor(0.0672, device='cuda:0', dtype=torch.float64, grad_fn=<DivBackward1>)\n",
            "Training Accuracy is:  tensor(0.9172, device='cuda:0') Testing Accuracy is:  tensor(0.8926, device='cuda:0')\n"
          ]
        },
        {
          "output_type": "stream",
          "name": "stderr",
          "text": [
            "100%|██████████| 938/938 [00:17<00:00, 52.79it/s]\n"
          ]
        },
        {
          "output_type": "stream",
          "name": "stdout",
          "text": [
            "EPOCHS :  38 Training LOSS :  tensor(0.0456, device='cuda:0', dtype=torch.float64, grad_fn=<DivBackward1>)\n",
            "Training Accuracy is:  tensor(0.9181, device='cuda:0') Testing Accuracy is:  tensor(0.8958, device='cuda:0')\n"
          ]
        },
        {
          "output_type": "stream",
          "name": "stderr",
          "text": [
            "100%|██████████| 938/938 [00:17<00:00, 54.90it/s]\n"
          ]
        },
        {
          "output_type": "stream",
          "name": "stdout",
          "text": [
            "EPOCHS :  39 Training LOSS :  tensor(0.0737, device='cuda:0', dtype=torch.float64, grad_fn=<DivBackward1>)\n",
            "Training Accuracy is:  tensor(0.9193, device='cuda:0') Testing Accuracy is:  tensor(0.8867, device='cuda:0')\n"
          ]
        },
        {
          "output_type": "stream",
          "name": "stderr",
          "text": [
            "100%|██████████| 938/938 [00:17<00:00, 52.23it/s]\n"
          ]
        },
        {
          "output_type": "stream",
          "name": "stdout",
          "text": [
            "EPOCHS :  40 Training LOSS :  tensor(0.0402, device='cuda:0', dtype=torch.float64, grad_fn=<DivBackward1>)\n",
            "Training Accuracy is:  tensor(0.9180, device='cuda:0') Testing Accuracy is:  tensor(0.8930, device='cuda:0')\n"
          ]
        },
        {
          "output_type": "stream",
          "name": "stderr",
          "text": [
            "100%|██████████| 938/938 [00:18<00:00, 50.62it/s]\n"
          ]
        },
        {
          "output_type": "stream",
          "name": "stdout",
          "text": [
            "EPOCHS :  41 Training LOSS :  tensor(0.0368, device='cuda:0', dtype=torch.float64, grad_fn=<DivBackward1>)\n",
            "Training Accuracy is:  tensor(0.9201, device='cuda:0') Testing Accuracy is:  tensor(0.8945, device='cuda:0')\n"
          ]
        },
        {
          "output_type": "stream",
          "name": "stderr",
          "text": [
            "100%|██████████| 938/938 [00:16<00:00, 56.64it/s]\n"
          ]
        },
        {
          "output_type": "stream",
          "name": "stdout",
          "text": [
            "EPOCHS :  42 Training LOSS :  tensor(0.0684, device='cuda:0', dtype=torch.float64, grad_fn=<DivBackward1>)\n",
            "Training Accuracy is:  tensor(0.9191, device='cuda:0') Testing Accuracy is:  tensor(0.8960, device='cuda:0')\n"
          ]
        },
        {
          "output_type": "stream",
          "name": "stderr",
          "text": [
            "100%|██████████| 938/938 [00:17<00:00, 54.63it/s]\n"
          ]
        },
        {
          "output_type": "stream",
          "name": "stdout",
          "text": [
            "EPOCHS :  43 Training LOSS :  tensor(0.0710, device='cuda:0', dtype=torch.float64, grad_fn=<DivBackward1>)\n",
            "Training Accuracy is:  tensor(0.9207, device='cuda:0') Testing Accuracy is:  tensor(0.8938, device='cuda:0')\n"
          ]
        },
        {
          "output_type": "stream",
          "name": "stderr",
          "text": [
            "100%|██████████| 938/938 [00:17<00:00, 52.22it/s]\n"
          ]
        },
        {
          "output_type": "stream",
          "name": "stdout",
          "text": [
            "EPOCHS :  44 Training LOSS :  tensor(0.0646, device='cuda:0', dtype=torch.float64, grad_fn=<DivBackward1>)\n",
            "Training Accuracy is:  tensor(0.9211, device='cuda:0') Testing Accuracy is:  tensor(0.8934, device='cuda:0')\n"
          ]
        },
        {
          "output_type": "stream",
          "name": "stderr",
          "text": [
            "100%|██████████| 938/938 [00:17<00:00, 55.10it/s]\n"
          ]
        },
        {
          "output_type": "stream",
          "name": "stdout",
          "text": [
            "EPOCHS :  45 Training LOSS :  tensor(0.0578, device='cuda:0', dtype=torch.float64, grad_fn=<DivBackward1>)\n",
            "Training Accuracy is:  tensor(0.9207, device='cuda:0') Testing Accuracy is:  tensor(0.8953, device='cuda:0')\n"
          ]
        },
        {
          "output_type": "stream",
          "name": "stderr",
          "text": [
            "100%|██████████| 938/938 [00:16<00:00, 55.33it/s]\n"
          ]
        },
        {
          "output_type": "stream",
          "name": "stdout",
          "text": [
            "EPOCHS :  46 Training LOSS :  tensor(0.0543, device='cuda:0', dtype=torch.float64, grad_fn=<DivBackward1>)\n",
            "Training Accuracy is:  tensor(0.9221, device='cuda:0') Testing Accuracy is:  tensor(0.8950, device='cuda:0')\n"
          ]
        },
        {
          "output_type": "stream",
          "name": "stderr",
          "text": [
            "100%|██████████| 938/938 [00:17<00:00, 54.91it/s]\n"
          ]
        },
        {
          "output_type": "stream",
          "name": "stdout",
          "text": [
            "EPOCHS :  47 Training LOSS :  tensor(0.0614, device='cuda:0', dtype=torch.float64, grad_fn=<DivBackward1>)\n",
            "Training Accuracy is:  tensor(0.9211, device='cuda:0') Testing Accuracy is:  tensor(0.8964, device='cuda:0')\n"
          ]
        },
        {
          "output_type": "stream",
          "name": "stderr",
          "text": [
            "100%|██████████| 938/938 [00:16<00:00, 57.92it/s]\n"
          ]
        },
        {
          "output_type": "stream",
          "name": "stdout",
          "text": [
            "EPOCHS :  48 Training LOSS :  tensor(0.0914, device='cuda:0', dtype=torch.float64, grad_fn=<DivBackward1>)\n",
            "Training Accuracy is:  tensor(0.9231, device='cuda:0') Testing Accuracy is:  tensor(0.8965, device='cuda:0')\n"
          ]
        },
        {
          "output_type": "stream",
          "name": "stderr",
          "text": [
            "100%|██████████| 938/938 [00:15<00:00, 59.21it/s]\n"
          ]
        },
        {
          "output_type": "stream",
          "name": "stdout",
          "text": [
            "EPOCHS :  49 Training LOSS :  tensor(0.0477, device='cuda:0', dtype=torch.float64, grad_fn=<DivBackward1>)\n",
            "Training Accuracy is:  tensor(0.9235, device='cuda:0') Testing Accuracy is:  tensor(0.8975, device='cuda:0')\n"
          ]
        },
        {
          "output_type": "stream",
          "name": "stderr",
          "text": [
            "100%|██████████| 938/938 [00:16<00:00, 58.36it/s]\n"
          ]
        },
        {
          "output_type": "stream",
          "name": "stdout",
          "text": [
            "EPOCHS :  50 Training LOSS :  tensor(0.0376, device='cuda:0', dtype=torch.float64, grad_fn=<DivBackward1>)\n",
            "Training Accuracy is:  tensor(0.9236, device='cuda:0') Testing Accuracy is:  tensor(0.8952, device='cuda:0')\n"
          ]
        },
        {
          "output_type": "stream",
          "name": "stderr",
          "text": [
            "100%|██████████| 938/938 [00:16<00:00, 58.32it/s]\n"
          ]
        },
        {
          "output_type": "stream",
          "name": "stdout",
          "text": [
            "EPOCHS :  51 Training LOSS :  tensor(0.0401, device='cuda:0', dtype=torch.float64, grad_fn=<DivBackward1>)\n",
            "Training Accuracy is:  tensor(0.9251, device='cuda:0') Testing Accuracy is:  tensor(0.8953, device='cuda:0')\n"
          ]
        },
        {
          "output_type": "stream",
          "name": "stderr",
          "text": [
            "100%|██████████| 938/938 [00:15<00:00, 58.92it/s]\n"
          ]
        },
        {
          "output_type": "stream",
          "name": "stdout",
          "text": [
            "EPOCHS :  52 Training LOSS :  tensor(0.0285, device='cuda:0', dtype=torch.float64, grad_fn=<DivBackward1>)\n",
            "Training Accuracy is:  tensor(0.9243, device='cuda:0') Testing Accuracy is:  tensor(0.8962, device='cuda:0')\n"
          ]
        },
        {
          "output_type": "stream",
          "name": "stderr",
          "text": [
            "100%|██████████| 938/938 [00:15<00:00, 58.86it/s]\n"
          ]
        },
        {
          "output_type": "stream",
          "name": "stdout",
          "text": [
            "EPOCHS :  53 Training LOSS :  tensor(0.0809, device='cuda:0', dtype=torch.float64, grad_fn=<DivBackward1>)\n",
            "Training Accuracy is:  tensor(0.9248, device='cuda:0') Testing Accuracy is:  tensor(0.8942, device='cuda:0')\n"
          ]
        },
        {
          "output_type": "stream",
          "name": "stderr",
          "text": [
            "100%|██████████| 938/938 [00:15<00:00, 59.10it/s]\n"
          ]
        },
        {
          "output_type": "stream",
          "name": "stdout",
          "text": [
            "EPOCHS :  54 Training LOSS :  tensor(0.1376, device='cuda:0', dtype=torch.float64, grad_fn=<DivBackward1>)\n",
            "Training Accuracy is:  tensor(0.9243, device='cuda:0') Testing Accuracy is:  tensor(0.8945, device='cuda:0')\n"
          ]
        },
        {
          "output_type": "stream",
          "name": "stderr",
          "text": [
            "100%|██████████| 938/938 [00:15<00:00, 58.81it/s]\n"
          ]
        },
        {
          "output_type": "stream",
          "name": "stdout",
          "text": [
            "EPOCHS :  55 Training LOSS :  tensor(0.0698, device='cuda:0', dtype=torch.float64, grad_fn=<DivBackward1>)\n",
            "Training Accuracy is:  tensor(0.9257, device='cuda:0') Testing Accuracy is:  tensor(0.8963, device='cuda:0')\n"
          ]
        },
        {
          "output_type": "stream",
          "name": "stderr",
          "text": [
            "100%|██████████| 938/938 [00:16<00:00, 58.44it/s]\n"
          ]
        },
        {
          "output_type": "stream",
          "name": "stdout",
          "text": [
            "EPOCHS :  56 Training LOSS :  tensor(0.0554, device='cuda:0', dtype=torch.float64, grad_fn=<DivBackward1>)\n",
            "Training Accuracy is:  tensor(0.9267, device='cuda:0') Testing Accuracy is:  tensor(0.8950, device='cuda:0')\n"
          ]
        },
        {
          "output_type": "stream",
          "name": "stderr",
          "text": [
            "100%|██████████| 938/938 [00:15<00:00, 58.92it/s]\n"
          ]
        },
        {
          "output_type": "stream",
          "name": "stdout",
          "text": [
            "EPOCHS :  57 Training LOSS :  tensor(0.0343, device='cuda:0', dtype=torch.float64, grad_fn=<DivBackward1>)\n",
            "Training Accuracy is:  tensor(0.9265, device='cuda:0') Testing Accuracy is:  tensor(0.8964, device='cuda:0')\n"
          ]
        },
        {
          "output_type": "stream",
          "name": "stderr",
          "text": [
            "100%|██████████| 938/938 [00:16<00:00, 58.05it/s]\n"
          ]
        },
        {
          "output_type": "stream",
          "name": "stdout",
          "text": [
            "EPOCHS :  58 Training LOSS :  tensor(0.1456, device='cuda:0', dtype=torch.float64, grad_fn=<DivBackward1>)\n",
            "Training Accuracy is:  tensor(0.9269, device='cuda:0') Testing Accuracy is:  tensor(0.8931, device='cuda:0')\n"
          ]
        },
        {
          "output_type": "stream",
          "name": "stderr",
          "text": [
            "100%|██████████| 938/938 [00:16<00:00, 58.40it/s]\n"
          ]
        },
        {
          "output_type": "stream",
          "name": "stdout",
          "text": [
            "EPOCHS :  59 Training LOSS :  tensor(0.0355, device='cuda:0', dtype=torch.float64, grad_fn=<DivBackward1>)\n",
            "Training Accuracy is:  tensor(0.9263, device='cuda:0') Testing Accuracy is:  tensor(0.8971, device='cuda:0')\n"
          ]
        },
        {
          "output_type": "stream",
          "name": "stderr",
          "text": [
            "100%|██████████| 938/938 [00:15<00:00, 58.81it/s]\n"
          ]
        },
        {
          "output_type": "stream",
          "name": "stdout",
          "text": [
            "EPOCHS :  60 Training LOSS :  tensor(0.0941, device='cuda:0', dtype=torch.float64, grad_fn=<DivBackward1>)\n",
            "Training Accuracy is:  tensor(0.9268, device='cuda:0') Testing Accuracy is:  tensor(0.8943, device='cuda:0')\n"
          ]
        },
        {
          "output_type": "stream",
          "name": "stderr",
          "text": [
            "100%|██████████| 938/938 [00:15<00:00, 58.80it/s]\n"
          ]
        },
        {
          "output_type": "stream",
          "name": "stdout",
          "text": [
            "EPOCHS :  61 Training LOSS :  tensor(0.0692, device='cuda:0', dtype=torch.float64, grad_fn=<DivBackward1>)\n",
            "Training Accuracy is:  tensor(0.9272, device='cuda:0') Testing Accuracy is:  tensor(0.8964, device='cuda:0')\n"
          ]
        },
        {
          "output_type": "stream",
          "name": "stderr",
          "text": [
            "100%|██████████| 938/938 [00:16<00:00, 58.24it/s]\n"
          ]
        },
        {
          "output_type": "stream",
          "name": "stdout",
          "text": [
            "EPOCHS :  62 Training LOSS :  tensor(0.0565, device='cuda:0', dtype=torch.float64, grad_fn=<DivBackward1>)\n",
            "Training Accuracy is:  tensor(0.9289, device='cuda:0') Testing Accuracy is:  tensor(0.8964, device='cuda:0')\n"
          ]
        },
        {
          "output_type": "stream",
          "name": "stderr",
          "text": [
            "100%|██████████| 938/938 [00:16<00:00, 58.42it/s]\n"
          ]
        },
        {
          "output_type": "stream",
          "name": "stdout",
          "text": [
            "EPOCHS :  63 Training LOSS :  tensor(0.0429, device='cuda:0', dtype=torch.float64, grad_fn=<DivBackward1>)\n",
            "Training Accuracy is:  tensor(0.9280, device='cuda:0') Testing Accuracy is:  tensor(0.8944, device='cuda:0')\n"
          ]
        },
        {
          "output_type": "stream",
          "name": "stderr",
          "text": [
            "100%|██████████| 938/938 [00:16<00:00, 58.40it/s]\n"
          ]
        },
        {
          "output_type": "stream",
          "name": "stdout",
          "text": [
            "EPOCHS :  64 Training LOSS :  tensor(0.0502, device='cuda:0', dtype=torch.float64, grad_fn=<DivBackward1>)\n",
            "Training Accuracy is:  tensor(0.9290, device='cuda:0') Testing Accuracy is:  tensor(0.8978, device='cuda:0')\n"
          ]
        },
        {
          "output_type": "stream",
          "name": "stderr",
          "text": [
            "100%|██████████| 938/938 [00:16<00:00, 58.44it/s]\n"
          ]
        },
        {
          "output_type": "stream",
          "name": "stdout",
          "text": [
            "EPOCHS :  65 Training LOSS :  tensor(0.0551, device='cuda:0', dtype=torch.float64, grad_fn=<DivBackward1>)\n",
            "Training Accuracy is:  tensor(0.9291, device='cuda:0') Testing Accuracy is:  tensor(0.8945, device='cuda:0')\n"
          ]
        },
        {
          "output_type": "stream",
          "name": "stderr",
          "text": [
            "100%|██████████| 938/938 [00:15<00:00, 58.92it/s]\n"
          ]
        },
        {
          "output_type": "stream",
          "name": "stdout",
          "text": [
            "EPOCHS :  66 Training LOSS :  tensor(0.0415, device='cuda:0', dtype=torch.float64, grad_fn=<DivBackward1>)\n",
            "Training Accuracy is:  tensor(0.9287, device='cuda:0') Testing Accuracy is:  tensor(0.8965, device='cuda:0')\n"
          ]
        },
        {
          "output_type": "stream",
          "name": "stderr",
          "text": [
            "100%|██████████| 938/938 [00:16<00:00, 58.47it/s]\n"
          ]
        },
        {
          "output_type": "stream",
          "name": "stdout",
          "text": [
            "EPOCHS :  67 Training LOSS :  tensor(0.0400, device='cuda:0', dtype=torch.float64, grad_fn=<DivBackward1>)\n",
            "Training Accuracy is:  tensor(0.9284, device='cuda:0') Testing Accuracy is:  tensor(0.8969, device='cuda:0')\n"
          ]
        },
        {
          "output_type": "stream",
          "name": "stderr",
          "text": [
            "100%|██████████| 938/938 [00:16<00:00, 58.52it/s]\n"
          ]
        },
        {
          "output_type": "stream",
          "name": "stdout",
          "text": [
            "EPOCHS :  68 Training LOSS :  tensor(0.0467, device='cuda:0', dtype=torch.float64, grad_fn=<DivBackward1>)\n",
            "Training Accuracy is:  tensor(0.9290, device='cuda:0') Testing Accuracy is:  tensor(0.8959, device='cuda:0')\n"
          ]
        },
        {
          "output_type": "stream",
          "name": "stderr",
          "text": [
            "100%|██████████| 938/938 [00:15<00:00, 58.92it/s]\n"
          ]
        },
        {
          "output_type": "stream",
          "name": "stdout",
          "text": [
            "EPOCHS :  69 Training LOSS :  tensor(0.0572, device='cuda:0', dtype=torch.float64, grad_fn=<DivBackward1>)\n",
            "Training Accuracy is:  tensor(0.9289, device='cuda:0') Testing Accuracy is:  tensor(0.8933, device='cuda:0')\n"
          ]
        },
        {
          "output_type": "stream",
          "name": "stderr",
          "text": [
            "100%|██████████| 938/938 [00:16<00:00, 58.60it/s]\n"
          ]
        },
        {
          "output_type": "stream",
          "name": "stdout",
          "text": [
            "EPOCHS :  70 Training LOSS :  tensor(0.0551, device='cuda:0', dtype=torch.float64, grad_fn=<DivBackward1>)\n",
            "Training Accuracy is:  tensor(0.9301, device='cuda:0') Testing Accuracy is:  tensor(0.8954, device='cuda:0')\n"
          ]
        }
      ]
    },
    {
      "cell_type": "code",
      "source": [
        "per_epoch_training_accuracy = [i.cpu().detach().numpy() for i in per_epoch_training_accuracy]"
      ],
      "metadata": {
        "id": "3vgYB2WqeaDM"
      },
      "execution_count": 23,
      "outputs": []
    },
    {
      "cell_type": "code",
      "source": [
        "per_epoch_training_loss = [i.cpu().detach().numpy() for i in per_epoch_training_loss]"
      ],
      "metadata": {
        "id": "tD1jc7I83_HU"
      },
      "execution_count": 24,
      "outputs": []
    },
    {
      "cell_type": "code",
      "source": [
        "per_epoch_val_accuracy = [i.cpu().detach().numpy() for i in per_epoch_val_accuracy]"
      ],
      "metadata": {
        "id": "R-VNJQ6f3_xc"
      },
      "execution_count": 25,
      "outputs": []
    },
    {
      "cell_type": "code",
      "source": [
        "len(per_epoch_val_accuracy)"
      ],
      "metadata": {
        "colab": {
          "base_uri": "https://localhost:8080/"
        },
        "id": "JdP5wWklEhyN",
        "outputId": "0f426018-9fc4-4ac0-d33b-457d4dd45693"
      },
      "execution_count": 29,
      "outputs": [
        {
          "output_type": "execute_result",
          "data": {
            "text/plain": [
              "70"
            ]
          },
          "metadata": {},
          "execution_count": 29
        }
      ]
    },
    {
      "cell_type": "code",
      "source": [
        "plt.plot([i for i in range(70)], per_epoch_training_accuracy, label = 'Train Accuracy')\n",
        "plt.plot([i for i in range(70)], per_epoch_val_accuracy, label = 'Test Accuracy')\n",
        "plt.xlabel('EPOCHS')\n",
        "plt.ylabel('ACCURACY')\n",
        "plt.legend()\n",
        "plt.show()\n",
        "print(\"\\nTRAINING ACCURACY: {:.4f}\".format(per_epoch_training_accuracy[-1].item()))\n",
        "print(\"\\nTEST ACCURACY: {:.4f}\".format(per_epoch_val_accuracy[-1].item()))"
      ],
      "metadata": {
        "colab": {
          "base_uri": "https://localhost:8080/",
          "height": 352
        },
        "id": "t0wzo4sxq-TS",
        "outputId": "c921dd54-0db8-4ee6-cf50-05bee81c928c"
      },
      "execution_count": 36,
      "outputs": [
        {
          "output_type": "display_data",
          "data": {
            "text/plain": [
              "<Figure size 432x288 with 1 Axes>"
            ],
            "image/png": "[encoded data removed]"
          },
          "metadata": {
            "needs_background": "light"
          }
        },
        {
          "output_type": "stream",
          "name": "stdout",
          "text": [
            "\n",
            "TRAINING ACCURACY: 0.9301\n",
            "\n",
            "TEST ACCURACY: 0.8954\n"
          ]
        }
      ]
    },
    {
      "cell_type": "code",
      "source": [
        "plt.plot([i for i in range(70)], per_epoch_training_loss)\n",
        "plt.xlabel(\"EPOCHS\")\n",
        "plt.ylabel(\"LOSS\")\n",
        "plt.title(\"TRAINING LOSS EVOLUTION GRAPH\")\n",
        "plt.show()\n",
        "print(\"\\nThe Training Loss during the last EPOCH: {:.4f}\".format(per_epoch_training_loss[-1].item()))"
      ],
      "metadata": {
        "colab": {
          "base_uri": "https://localhost:8080/",
          "height": 332
        },
        "id": "2YzF0BZ8rLig",
        "outputId": "8a30e4a5-46a5-4f3f-807f-1ada00878f14"
      },
      "execution_count": 38,
      "outputs": [
        {
          "output_type": "display_data",
          "data": {
            "text/plain": [
              "<Figure size 432x288 with 1 Axes>"
            ],
            "image/png": "[encoded data removed]"
          },
          "metadata": {
            "needs_background": "light"
          }
        },
        {
          "output_type": "stream",
          "name": "stdout",
          "text": [
            "\n",
            "The Training Loss during the last EPOCH: 0.0551\n"
          ]
        }
      ]
    },
    {
      "cell_type": "markdown",
      "source": [
        "# **MODEL METRICS AND IMPLEMENTATION SPECIFICS**\n",
        "\n",
        "1. EPOCHS:70 \n",
        "2. BLOCK SIZE: 8\n",
        "3. SWATS optimizer (Parameters same as above)\n",
        "\n",
        "4. Transformations: ToTensor() and Normalize(0.5, 0.5)\n",
        "5. Dropout with P = 0.2 \n",
        "6. PATCH_SIZE = 14*14 \n",
        "7. BATCH_SIZE = 64 \n",
        "\n",
        "\n",
        "\n",
        ">>>> * Training Loss: 0.0551\n",
        ">>>> * Training Accuracy%: 93.01 \n",
        ">>>> * Test Accuracy: **89.54%**\n",
        "\n"
      ],
      "metadata": {
        "id": "SDTWrJKj6LCT"
      }
    },
    {
      "cell_type": "markdown",
      "source": [
        "##NOTE TO SELF"
      ],
      "metadata": {
        "id": "O8a0AqUHInx4"
      }
    },
    {
      "cell_type": "code",
      "source": [
        "#1. EPOCHS =100, lr =0.1, BLOCKS =2, accuracy: 73 (Train), 72(Test), Activation: Relu\n",
        "#1. EPOCHS =100, lr =0.1, BLOCKS =1, accuracy: 74.93 (Train), 73.18(Test), Activation: Relu\n",
        "#1. EPOCHS =100, lr =0.1, BLOCKS =2, accuracy: 84.82 (Train), 82.34(Test), Activation: TanH\n",
        "#1. EPOCHS =100, lr =0.13, BLOCKS =3, accuracy: 81.56 (Train), 80.02(Test), Activation: TanH\n",
        "\n",
        "#IDEAL MODELS:\n",
        "#1. EPOCHS:100, lr = 0.2, BLOCKS = 2, Accuracy: 83.39 (Train), 81.62 (Test), Activation: TanH, Train Loss: 1.5554 LOG: (01:09 AM, 08-04-2022)\n",
        "#                                     Top Record: 85.01 (Train), 82.05 (Test), Loss: 1.55490 LOG: (03:07 AM, 08-04-2022)  #Automated Blocks and Used nn.Tanh()\n",
        "\n",
        "#2. EPOCHS: 100, lr =0.2, BLOCKS = 2, Accuracy: 91.61 (Train), 86.97 (Test), Activation: TanH, Train Loss: 1.5031 / 1.4612 (Lowest) LOG: (03:39 AM, 08-04-2022)\n",
        "#                                   #Used Kaiming Uniform Initialization \n",
        "\n",
        "\n",
        "#3. EPOCHS: 50, AdamW optimizer, Blocks = 2, Accuracy: 92.82 (Train), 86.92 (Test) LOG: (06:28 AM, 08-04-2022)\n",
        "#4. EPOCHS: 50, SWATS optimizer, Blocks = 2, Accuracy: 98.66 (Train), 87.93 (Test), LOG: (06:54 AM, 08-04-2022)\n",
        "#5. EPOCHS: 50, SWATS optimizer(L2 regularized 0.001, amsgrad = True, Nesterov = True),\n",
        "#                               Blocks = 2, Accuracy: 90.97 (Train), 88.17 (Test), Training Loss: 0.1185, Test Loss: 0.2295  LOG: (07:45 AM, 08-04-2022)\n",
        "#6[CURRENT RECORD]. EPOCHS: 50, SWATS optimizer(L2 regularized 0.001, amsgrad = True, Nesterov = True),\n",
        "#                               Blocks = 4, Accuracy: 92.64 (Train), 88.54 (Test), Training Loss: 0.0964, Test Loss: 0.2476  LOG: (08:13 AM, 08-04-2022)\n",
        "\n",
        "#7. {NEW RECORD}: EPOCHS: 50, SWATS '', Blocks = 2, Accuracy: 91.87 (Train), 89.22 (Test), Training Loss: 0.0706, Test Loss: 0.0641\n",
        "                              # Transformations = ToTensor and Normalize(0.5,0.5), Patch Size = 14*14, Dropout Applied after Non-Linear Activation with P=0.1\n",
        "\n",
        "#8. Same as No.7, EpoCHS: 100, Blocks:3, Accuracy: 93.03(Train) ,88.28(Test), Training Loss: 0.0718, Test Loss: 0.1021\n",
        "\n",
        "#NOTE TO SELF:\n",
        "#1. Linear Layer uses Uniform Weight Initialization, Try out Kaiming_he and Xavier Initialization\n",
        "#2. I AM AN IDIOT: APPARENTLY CROSSENTROPYLOSS CALCULATES SOFTMAX OUTPUT THEN CALCULATES LOSS, I WAS DOING SOFTMAX MANUALLY. \n",
        "#                  THE MODEL CALCULATED SOFTMAX TWICE BEFORE THE OUTPUT, HENCE RESULTING IN HIGH LOSS AND LOW ACCURACY. LOG: (05:52 AM, 08-04-2022)"
      ],
      "metadata": {
        "id": "bZFKdndt3F0c"
      },
      "execution_count": 28,
      "outputs": []
    }
  ]
}